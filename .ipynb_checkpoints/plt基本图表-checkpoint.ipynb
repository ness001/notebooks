{
 "cells": [
  {
   "cell_type": "code",
   "execution_count": 45,
   "metadata": {
    "ExecuteTime": {
     "end_time": "2019-04-26T05:29:24.887359Z",
     "start_time": "2019-04-26T05:29:24.738956Z"
    }
   },
   "outputs": [],
   "source": [
    "%matplotlib notebook # or %matplotlib inline ,dont need to use plt.show()\n",
    "#interactive plot is used to plots with a lot of details"
   ]
  },
  {
   "cell_type": "code",
   "execution_count": 1,
   "metadata": {
    "ExecuteTime": {
     "end_time": "2019-04-24T12:23:23.675849Z",
     "start_time": "2019-04-24T12:23:23.636129Z"
    }
   },
   "outputs": [
    {
     "name": "stdout",
     "output_type": "stream",
     "text": [
      "/Users/ness001/ds/code_data/data\n"
     ]
    }
   ],
   "source": [
    "cd /Users/ness001/ds/code_data/data/"
   ]
  },
  {
   "cell_type": "code",
   "execution_count": 2,
   "metadata": {
    "ExecuteTime": {
     "end_time": "2019-04-24T12:23:23.828834Z",
     "start_time": "2019-04-24T12:23:23.677660Z"
    }
   },
   "outputs": [],
   "source": [
    "df=pd.read_csv('kc_house_data.csv')"
   ]
  },
  {
   "cell_type": "code",
   "execution_count": 3,
   "metadata": {
    "ExecuteTime": {
     "end_time": "2019-04-24T12:23:23.895818Z",
     "start_time": "2019-04-24T12:23:23.832677Z"
    }
   },
   "outputs": [
    {
     "name": "stdout",
     "output_type": "stream",
     "text": [
      "<class 'pandas.core.frame.DataFrame'>\n",
      "RangeIndex: 21613 entries, 0 to 21612\n",
      "Data columns (total 21 columns):\n",
      "id               21613 non-null int64\n",
      "date             21613 non-null object\n",
      "price            21613 non-null float64\n",
      "bedrooms         21613 non-null int64\n",
      "bathrooms        21613 non-null float64\n",
      "sqft_living      21613 non-null int64\n",
      "sqft_lot         21613 non-null int64\n",
      "floors           21613 non-null float64\n",
      "waterfront       21613 non-null int64\n",
      "view             21613 non-null int64\n",
      "condition        21613 non-null int64\n",
      "grade            21613 non-null int64\n",
      "sqft_above       21613 non-null int64\n",
      "sqft_basement    21613 non-null int64\n",
      "yr_built         21613 non-null int64\n",
      "yr_renovated     21613 non-null int64\n",
      "zipcode          21613 non-null int64\n",
      "lat              21613 non-null float64\n",
      "long             21613 non-null float64\n",
      "sqft_living15    21613 non-null int64\n",
      "sqft_lot15       21613 non-null int64\n",
      "dtypes: float64(5), int64(15), object(1)\n",
      "memory usage: 3.5+ MB\n"
     ]
    }
   ],
   "source": [
    "df.info()"
   ]
  },
  {
   "cell_type": "markdown",
   "metadata": {},
   "source": [
    "# scatter plot"
   ]
  },
  {
   "cell_type": "code",
   "execution_count": 4,
   "metadata": {
    "ExecuteTime": {
     "end_time": "2019-04-24T12:23:23.944891Z",
     "start_time": "2019-04-24T12:23:23.900167Z"
    }
   },
   "outputs": [],
   "source": [
    "import matplotlib.pyplot as plt"
   ]
  },
  {
   "cell_type": "code",
   "execution_count": 5,
   "metadata": {
    "ExecuteTime": {
     "end_time": "2019-04-24T12:23:24.443898Z",
     "start_time": "2019-04-24T12:23:23.946933Z"
    }
   },
   "outputs": [
    {
     "data": {
      "text/plain": [
       "<matplotlib.collections.PathCollection at 0xa20dbc828>"
      ]
     },
     "execution_count": 5,
     "metadata": {},
     "output_type": "execute_result"
    },
    {
     "data": {
      "image/png": "[encoded data removed]",
      "text/plain": [
       "<Figure size 432x288 with 1 Axes>"
      ]
     },
     "metadata": {
      "needs_background": "light"
     },
     "output_type": "display_data"
    }
   ],
   "source": [
    "x=df['price']\n",
    "y=df['sqft_living']\n",
    "plt.scatter(x,y)\n",
    "plt.show()"
   ]
  },
  {
   "cell_type": "code",
   "execution_count": null,
   "metadata": {},
   "outputs": [],
   "source": [
    "plt.scatter(x,y,'^','r')"
   ]
  },
  {
   "cell_type": "markdown",
   "metadata": {},
   "source": [
    "# bar plot"
   ]
  },
  {
   "cell_type": "code",
   "execution_count": 6,
   "metadata": {
    "ExecuteTime": {
     "end_time": "2019-04-24T12:23:24.490159Z",
     "start_time": "2019-04-24T12:23:24.446468Z"
    }
   },
   "outputs": [],
   "source": [
    "x=df['bathrooms'].value_counts().index.tolist()"
   ]
  },
  {
   "cell_type": "code",
   "execution_count": 7,
   "metadata": {
    "ExecuteTime": {
     "end_time": "2019-04-24T12:23:24.550818Z",
     "start_time": "2019-04-24T12:23:24.492397Z"
    }
   },
   "outputs": [],
   "source": [
    "y=df['bathrooms'].value_counts().tolist()"
   ]
  },
  {
   "cell_type": "code",
   "execution_count": 8,
   "metadata": {
    "ExecuteTime": {
     "end_time": "2019-04-24T12:23:24.777066Z",
     "start_time": "2019-04-24T12:23:24.552624Z"
    }
   },
   "outputs": [
    {
     "data": {
      "text/plain": [
       "<BarContainer object of 30 artists>"
      ]
     },
     "execution_count": 8,
     "metadata": {},
     "output_type": "execute_result"
    },
    {
     "data": {
      "image/png": "[encoded data removed]",
      "text/plain": [
       "<Figure size 432x288 with 1 Axes>"
      ]
     },
     "metadata": {
      "needs_background": "light"
     },
     "output_type": "display_data"
    }
   ],
   "source": [
    "plt.bar(x,height=y)#两个参数\n",
    "plt.show()"
   ]
  },
  {
   "cell_type": "code",
   "execution_count": 9,
   "metadata": {
    "ExecuteTime": {
     "end_time": "2019-04-24T12:23:24.953621Z",
     "start_time": "2019-04-24T12:23:24.779161Z"
    }
   },
   "outputs": [
    {
     "data": {
      "text/plain": [
       "<BarContainer object of 30 artists>"
      ]
     },
     "execution_count": 9,
     "metadata": {},
     "output_type": "execute_result"
    },
    {
     "data": {
      "image/png": "[encoded data removed]",
      "text/plain": [
       "<Figure size 432x288 with 1 Axes>"
      ]
     },
     "metadata": {
      "needs_background": "light"
     },
     "output_type": "display_data"
    }
   ],
   "source": [
    "plt.bar(x,height=y,width=0.2)\n",
    "plt.show()"
   ]
  },
  {
   "cell_type": "markdown",
   "metadata": {},
   "source": [
    "# histogram"
   ]
  },
  {
   "cell_type": "code",
   "execution_count": 15,
   "metadata": {
    "ExecuteTime": {
     "end_time": "2019-04-24T12:25:55.175635Z",
     "start_time": "2019-04-24T12:25:54.991410Z"
    }
   },
   "outputs": [
    {
     "data": {
      "text/plain": [
       "(array([1.9021e+04, 2.1480e+03, 3.1600e+02, 9.0000e+01, 2.6000e+01,\n",
       "        4.0000e+00, 4.0000e+00, 1.0000e+00, 1.0000e+00, 2.0000e+00]),\n",
       " array([  75000.,  837500., 1600000., 2362500., 3125000., 3887500.,\n",
       "        4650000., 5412500., 6175000., 6937500., 7700000.]),\n",
       " <a list of 10 Patch objects>)"
      ]
     },
     "execution_count": 15,
     "metadata": {},
     "output_type": "execute_result"
    },
    {
     "data": {
      "image/png": "[encoded data removed]",
      "text/plain": [
       "<Figure size 432x288 with 1 Axes>"
      ]
     },
     "metadata": {
      "needs_background": "light"
     },
     "output_type": "display_data"
    }
   ],
   "source": [
    "x=df['price']\n",
    "plt.hist(x,width=1000000 )\n",
    "plt.show()"
   ]
  },
  {
   "cell_type": "markdown",
   "metadata": {},
   "source": [
    "# pie plot"
   ]
  },
  {
   "cell_type": "code",
   "execution_count": 16,
   "metadata": {
    "ExecuteTime": {
     "end_time": "2019-04-26T04:39:15.642765Z",
     "start_time": "2019-04-26T04:39:13.558037Z"
    }
   },
   "outputs": [],
   "source": [
    "x=df['condition'].value_counts()\n",
    "y=df['condition'].value_counts().index.tolist()"
   ]
  },
  {
   "cell_type": "code",
   "execution_count": 17,
   "metadata": {
    "ExecuteTime": {
     "end_time": "2019-04-26T04:40:19.982598Z",
     "start_time": "2019-04-26T04:40:19.636259Z"
    }
   },
   "outputs": [
    {
     "data": {
      "text/plain": [
       "([<matplotlib.patches.Wedge at 0xa2e206e80>,\n",
       "  <matplotlib.patches.Wedge at 0xa2be6bb70>,\n",
       "  <matplotlib.patches.Wedge at 0xa2e211f28>,\n",
       "  <matplotlib.patches.Wedge at 0xa2be607b8>,\n",
       "  <matplotlib.patches.Wedge at 0xa2e8e15f8>],\n",
       " [Text(-0.49690197886140847, 0.9813706860323558, '3'),\n",
       "  Text(0.21000073456107682, -1.0797683508437392, '4'),\n",
       "  Text(1.0489088894797076, -0.33134595451045795, '5'),\n",
       "  Text(1.0993745907520605, -0.03708785796914586, '2'),\n",
       "  Text(1.0999895419218622, -0.004796630330982164, '1')],\n",
       " [Text(-0.2710374430153137, 0.535293101472194, '65%'),\n",
       "  Text(0.1145458552151328, -0.5889645550056759, '26%'),\n",
       "  Text(0.572132121534386, -0.1807341570057043, '8%'),\n",
       "  Text(0.5996588676829421, -0.020229740710443193, '1%'),\n",
       "  Text(0.5999942955937428, -0.0026163438168993617, '0%')])"
      ]
     },
     "execution_count": 17,
     "metadata": {},
     "output_type": "execute_result"
    },
    {
     "data": {
      "image/png": "[encoded data removed]",
      "text/plain": [
       "<Figure size 432x288 with 1 Axes>"
      ]
     },
     "metadata": {},
     "output_type": "display_data"
    }
   ],
   "source": [
    "plt.pie(x,labels=y,autopct='%0.0f%%')\n",
    "plt.show()"
   ]
  },
  {
   "cell_type": "markdown",
   "metadata": {},
   "source": [
    "# box plot"
   ]
  },
  {
   "cell_type": "code",
   "execution_count": 18,
   "metadata": {
    "ExecuteTime": {
     "end_time": "2019-04-26T04:41:17.320442Z",
     "start_time": "2019-04-26T04:41:17.104634Z"
    }
   },
   "outputs": [
    {
     "data": {
      "text/plain": [
       "{'whiskers': [<matplotlib.lines.Line2D at 0xa26bc55c0>,\n",
       "  <matplotlib.lines.Line2D at 0xa26bc5908>],\n",
       " 'caps': [<matplotlib.lines.Line2D at 0xa26bc5c50>,\n",
       "  <matplotlib.lines.Line2D at 0xa26bc5cc0>],\n",
       " 'boxes': [<matplotlib.lines.Line2D at 0xa26bc5080>],\n",
       " 'medians': [<matplotlib.lines.Line2D at 0xa2e2ae240>],\n",
       " 'fliers': [<matplotlib.lines.Line2D at 0xa2e2ae7b8>],\n",
       " 'means': []}"
      ]
     },
     "execution_count": 18,
     "metadata": {},
     "output_type": "execute_result"
    },
    {
     "data": {
      "image/png": "[encoded data removed]",
      "text/plain": [
       "<Figure size 432x288 with 1 Axes>"
      ]
     },
     "metadata": {
      "needs_background": "light"
     },
     "output_type": "display_data"
    }
   ],
   "source": [
    "x=df['price']\n",
    "plt.boxplot(x,labels=['price'])"
   ]
  },
  {
   "cell_type": "markdown",
   "metadata": {},
   "source": [
    "多个变量的箱线图，需要将多个变量的数据转化为ndarray结构,放在一个矩阵里面"
   ]
  },
  {
   "cell_type": "code",
   "execution_count": 19,
   "metadata": {
    "ExecuteTime": {
     "end_time": "2019-04-26T04:43:10.588997Z",
     "start_time": "2019-04-26T04:43:10.474105Z"
    }
   },
   "outputs": [],
   "source": [
    "x=df['sqft_living'].values"
   ]
  },
  {
   "cell_type": "code",
   "execution_count": 20,
   "metadata": {
    "ExecuteTime": {
     "end_time": "2019-04-26T04:43:29.780888Z",
     "start_time": "2019-04-26T04:43:29.740510Z"
    }
   },
   "outputs": [],
   "source": [
    "y=df['sqft_lot'].values"
   ]
  },
  {
   "cell_type": "code",
   "execution_count": 21,
   "metadata": {
    "ExecuteTime": {
     "end_time": "2019-04-26T04:43:58.015877Z",
     "start_time": "2019-04-26T04:43:57.969307Z"
    }
   },
   "outputs": [],
   "source": [
    "living_lot=[x,y]"
   ]
  },
  {
   "cell_type": "code",
   "execution_count": 22,
   "metadata": {
    "ExecuteTime": {
     "end_time": "2019-04-26T04:45:05.222813Z",
     "start_time": "2019-04-26T04:45:04.967172Z"
    }
   },
   "outputs": [
    {
     "data": {
      "text/plain": [
       "{'whiskers': [<matplotlib.lines.Line2D at 0xa2d9ae710>,\n",
       "  <matplotlib.lines.Line2D at 0xa2d9aea58>,\n",
       "  <matplotlib.lines.Line2D at 0xa2d9beb00>,\n",
       "  <matplotlib.lines.Line2D at 0xa2d9bee48>],\n",
       " 'caps': [<matplotlib.lines.Line2D at 0xa2d9aeda0>,\n",
       "  <matplotlib.lines.Line2D at 0xa2d9be128>,\n",
       "  <matplotlib.lines.Line2D at 0xa2d9cc1d0>,\n",
       "  <matplotlib.lines.Line2D at 0xa2d9cc518>],\n",
       " 'boxes': [<matplotlib.lines.Line2D at 0xa2d9ae5c0>,\n",
       "  <matplotlib.lines.Line2D at 0xa2d9be7b8>],\n",
       " 'medians': [<matplotlib.lines.Line2D at 0xa2d9be470>,\n",
       "  <matplotlib.lines.Line2D at 0xa2d9cc860>],\n",
       " 'fliers': [],\n",
       " 'means': []}"
      ]
     },
     "execution_count": 22,
     "metadata": {},
     "output_type": "execute_result"
    },
    {
     "data": {
      "image/png": "[encoded data removed]",
      "text/plain": [
       "<Figure size 432x288 with 1 Axes>"
      ]
     },
     "metadata": {
      "needs_background": "light"
     },
     "output_type": "display_data"
    }
   ],
   "source": [
    "plt.boxplot(living_lot,positions=[2,3],showfliers=False,vert=False,labels=['sqrt_living','sqrt_lot'])"
   ]
  },
  {
   "cell_type": "markdown",
   "metadata": {},
   "source": [
    "注意标签的顺序是从下往上的"
   ]
  },
  {
   "cell_type": "markdown",
   "metadata": {},
   "source": [
    "# 折线图"
   ]
  },
  {
   "cell_type": "code",
   "execution_count": 24,
   "metadata": {
    "ExecuteTime": {
     "end_time": "2019-04-26T04:51:24.068192Z",
     "start_time": "2019-04-26T04:51:24.023347Z"
    }
   },
   "outputs": [],
   "source": [
    "x=df['grade'].value_counts().index.tolist()\n",
    "y=df['grade'].value_counts().tolist()\n"
   ]
  },
  {
   "cell_type": "code",
   "execution_count": 25,
   "metadata": {
    "ExecuteTime": {
     "end_time": "2019-04-26T04:51:37.165300Z",
     "start_time": "2019-04-26T04:51:37.000622Z"
    }
   },
   "outputs": [
    {
     "data": {
      "text/plain": [
       "[<matplotlib.lines.Line2D at 0xa2e016f60>]"
      ]
     },
     "execution_count": 25,
     "metadata": {},
     "output_type": "execute_result"
    },
    {
     "data": {
      "image/png": "[encoded data removed]",
      "text/plain": [
       "<Figure size 432x288 with 1 Axes>"
      ]
     },
     "metadata": {
      "needs_background": "light"
     },
     "output_type": "display_data"
    }
   ],
   "source": [
    "plt.plot(x,y)\n",
    "plt.show()"
   ]
  },
  {
   "cell_type": "code",
   "execution_count": 26,
   "metadata": {
    "ExecuteTime": {
     "end_time": "2019-04-26T04:52:32.244935Z",
     "start_time": "2019-04-26T04:52:32.199648Z"
    }
   },
   "outputs": [
    {
     "data": {
      "text/plain": [
       "([7, 8, 9, 6, 10, 11, 5, 12, 4, 13, 3, 1],\n",
       " [8981, 6068, 2615, 2038, 1134, 399, 242, 90, 29, 13, 3, 1])"
      ]
     },
     "execution_count": 26,
     "metadata": {},
     "output_type": "execute_result"
    }
   ],
   "source": [
    "x,y"
   ]
  },
  {
   "cell_type": "markdown",
   "metadata": {},
   "source": [
    "because x is not ordered by index,look first array "
   ]
  },
  {
   "cell_type": "code",
   "execution_count": 27,
   "metadata": {
    "ExecuteTime": {
     "end_time": "2019-04-26T04:53:42.804340Z",
     "start_time": "2019-04-26T04:53:42.401174Z"
    }
   },
   "outputs": [],
   "source": [
    "combined=list(zip(x,y))"
   ]
  },
  {
   "cell_type": "code",
   "execution_count": 28,
   "metadata": {
    "ExecuteTime": {
     "end_time": "2019-04-26T04:53:52.552050Z",
     "start_time": "2019-04-26T04:53:52.508656Z"
    }
   },
   "outputs": [],
   "source": [
    "combined.sort()"
   ]
  },
  {
   "cell_type": "code",
   "execution_count": 29,
   "metadata": {
    "ExecuteTime": {
     "end_time": "2019-04-26T04:54:19.248175Z",
     "start_time": "2019-04-26T04:54:19.205560Z"
    }
   },
   "outputs": [
    {
     "data": {
      "text/plain": [
       "[(1, 1),\n",
       " (3, 3),\n",
       " (4, 29),\n",
       " (5, 242),\n",
       " (6, 2038),\n",
       " (7, 8981),\n",
       " (8, 6068),\n",
       " (9, 2615),\n",
       " (10, 1134),\n",
       " (11, 399),\n",
       " (12, 90),\n",
       " (13, 13)]"
      ]
     },
     "execution_count": 29,
     "metadata": {},
     "output_type": "execute_result"
    }
   ],
   "source": [
    "combined "
   ]
  },
  {
   "cell_type": "markdown",
   "metadata": {},
   "source": [
    "recover two list"
   ]
  },
  {
   "cell_type": "code",
   "execution_count": 31,
   "metadata": {
    "ExecuteTime": {
     "end_time": "2019-04-26T04:55:09.585159Z",
     "start_time": "2019-04-26T04:55:09.540521Z"
    }
   },
   "outputs": [],
   "source": [
    "uncombined=list(zip(*combined))"
   ]
  },
  {
   "cell_type": "code",
   "execution_count": 32,
   "metadata": {
    "ExecuteTime": {
     "end_time": "2019-04-26T04:55:19.085867Z",
     "start_time": "2019-04-26T04:55:19.038228Z"
    }
   },
   "outputs": [
    {
     "data": {
      "text/plain": [
       "[(1, 3, 4, 5, 6, 7, 8, 9, 10, 11, 12, 13),\n",
       " (1, 3, 29, 242, 2038, 8981, 6068, 2615, 1134, 399, 90, 13)]"
      ]
     },
     "execution_count": 32,
     "metadata": {},
     "output_type": "execute_result"
    }
   ],
   "source": [
    "uncombined"
   ]
  },
  {
   "cell_type": "code",
   "execution_count": 35,
   "metadata": {
    "ExecuteTime": {
     "end_time": "2019-04-26T04:55:56.997604Z",
     "start_time": "2019-04-26T04:55:56.951091Z"
    }
   },
   "outputs": [],
   "source": [
    "x=uncombined[0]\n",
    "y=uncombined[1 ]"
   ]
  },
  {
   "cell_type": "code",
   "execution_count": 36,
   "metadata": {
    "ExecuteTime": {
     "end_time": "2019-04-26T04:56:18.640550Z",
     "start_time": "2019-04-26T04:56:18.454369Z"
    }
   },
   "outputs": [
    {
     "data": {
      "text/plain": [
       "[<matplotlib.lines.Line2D at 0xa2f8b04a8>]"
      ]
     },
     "execution_count": 36,
     "metadata": {},
     "output_type": "execute_result"
    },
    {
     "data": {
      "image/png": "[encoded data removed]",
      "text/plain": [
       "<Figure size 432x288 with 1 Axes>"
      ]
     },
     "metadata": {
      "needs_background": "light"
     },
     "output_type": "display_data"
    }
   ],
   "source": [
    "plt.plot(x,y)\n",
    "plt.show()"
   ]
  },
  {
   "cell_type": "markdown",
   "metadata": {},
   "source": [
    "# kernel plot(better use seaborn or R)"
   ]
  },
  {
   "cell_type": "markdown",
   "metadata": {},
   "source": [
    "suppose there is a unfair die, we get 30 observations"
   ]
  },
  {
   "cell_type": "code",
   "execution_count": 37,
   "metadata": {
    "ExecuteTime": {
     "end_time": "2019-04-26T05:04:46.182422Z",
     "start_time": "2019-04-26T05:04:45.722529Z"
    }
   },
   "outputs": [],
   "source": [
    "x=[1]*3+[2]*4+[3]*8+[4]*3+[5]*3+[6]*9 #return list"
   ]
  },
  {
   "cell_type": "code",
   "execution_count": 38,
   "metadata": {
    "ExecuteTime": {
     "end_time": "2019-04-26T05:05:51.525407Z",
     "start_time": "2019-04-26T05:05:51.453656Z"
    }
   },
   "outputs": [],
   "source": [
    "from scipy.stats import gaussian_kde\n",
    "import numpy as np"
   ]
  },
  {
   "cell_type": "code",
   "execution_count": 39,
   "metadata": {
    "ExecuteTime": {
     "end_time": "2019-04-26T05:06:35.479150Z",
     "start_time": "2019-04-26T05:06:35.253612Z"
    }
   },
   "outputs": [],
   "source": [
    "density=gaussian_kde(x)"
   ]
  },
  {
   "cell_type": "code",
   "execution_count": 40,
   "metadata": {
    "ExecuteTime": {
     "end_time": "2019-04-26T05:07:07.194468Z",
     "start_time": "2019-04-26T05:07:07.149972Z"
    }
   },
   "outputs": [],
   "source": [
    "xs=np.linspace(1,6,100)#[1,6]splited to 100 parts"
   ]
  },
  {
   "cell_type": "code",
   "execution_count": 41,
   "metadata": {
    "ExecuteTime": {
     "end_time": "2019-04-26T05:08:37.604061Z",
     "start_time": "2019-04-26T05:08:37.560789Z"
    }
   },
   "outputs": [],
   "source": [
    "density.covariance_factor=lambda : .25"
   ]
  },
  {
   "cell_type": "code",
   "execution_count": 42,
   "metadata": {
    "ExecuteTime": {
     "end_time": "2019-04-26T05:12:48.332889Z",
     "start_time": "2019-04-26T05:12:47.937198Z"
    }
   },
   "outputs": [],
   "source": [
    "density._compute_covariance()"
   ]
  },
  {
   "cell_type": "code",
   "execution_count": 46,
   "metadata": {
    "ExecuteTime": {
     "end_time": "2019-04-26T05:29:28.964495Z",
     "start_time": "2019-04-26T05:29:28.881390Z"
    }
   },
   "outputs": [
    {
     "data": {
      "application/javascript": [
       "/* Put everything inside the global mpl namespace */\n",
       "window.mpl = {};\n",
       "\n",
       "\n",
       "mpl.get_websocket_type = function() {\n",
       "    if (typeof(WebSocket) !== 'undefined') {\n",
       "        return WebSocket;\n",
       "    } else if (typeof(MozWebSocket) !== 'undefined') {\n",
       "        return MozWebSocket;\n",
       "    } else {\n",
       "        alert('Your browser does not have WebSocket support.' +\n",
       "              'Please try Chrome, Safari or Firefox ≥ 6. ' +\n",
       "              'Firefox 4 and 5 are also supported but you ' +\n",
       "              'have to enable WebSockets in about:config.');\n",
       "    };\n",
       "}\n",
       "\n",
       "mpl.figure = function(figure_id, websocket, ondownload, parent_element) {\n",
       "    this.id = figure_id;\n",
       "\n",
       "    this.ws = websocket;\n",
       "\n",
       "    this.supports_binary = (this.ws.binaryType != undefined);\n",
       "\n",
       "    if (!this.supports_binary) {\n",
       "        var warnings = document.getElementById(\"mpl-warnings\");\n",
       "        if (warnings) {\n",
       "            warnings.style.display = 'block';\n",
       "            warnings.textContent = (\n",
       "                \"This browser does not support binary websocket messages. \" +\n",
       "                    \"Performance may be slow.\");\n",
       "        }\n",
       "    }\n",
       "\n",
       "    this.imageObj = new Image();\n",
       "\n",
       "    this.context = undefined;\n",
       "    this.message = undefined;\n",
       "    this.canvas = undefined;\n",
       "    this.rubberband_canvas = undefined;\n",
       "    this.rubberband_context = undefined;\n",
       "    this.format_dropdown = undefined;\n",
       "\n",
       "    this.image_mode = 'full';\n",
       "\n",
       "    this.root = $('<div/>');\n",
       "    this._root_extra_style(this.root)\n",
       "    this.root.attr('style', 'display: inline-block');\n",
       "\n",
       "    $(parent_element).append(this.root);\n",
       "\n",
       "    this._init_header(this);\n",
       "    this._init_canvas(this);\n",
       "    this._init_toolbar(this);\n",
       "\n",
       "    var fig = this;\n",
       "\n",
       "    this.waiting = false;\n",
       "\n",
       "    this.ws.onopen =  function () {\n",
       "            fig.send_message(\"supports_binary\", {value: fig.supports_binary});\n",
       "            fig.send_message(\"send_image_mode\", {});\n",
       "            if (mpl.ratio != 1) {\n",
       "                fig.send_message(\"set_dpi_ratio\", {'dpi_ratio': mpl.ratio});\n",
       "            }\n",
       "            fig.send_message(\"refresh\", {});\n",
       "        }\n",
       "\n",
       "    this.imageObj.onload = function() {\n",
       "            if (fig.image_mode == 'full') {\n",
       "                // Full images could contain transparency (where diff images\n",
       "                // almost always do), so we need to clear the canvas so that\n",
       "                // there is no ghosting.\n",
       "                fig.context.clearRect(0, 0, fig.canvas.width, fig.canvas.height);\n",
       "            }\n",
       "            fig.context.drawImage(fig.imageObj, 0, 0);\n",
       "        };\n",
       "\n",
       "    this.imageObj.onunload = function() {\n",
       "        fig.ws.close();\n",
       "    }\n",
       "\n",
       "    this.ws.onmessage = this._make_on_message_function(this);\n",
       "\n",
       "    this.ondownload = ondownload;\n",
       "}\n",
       "\n",
       "mpl.figure.prototype._init_header = function() {\n",
       "    var titlebar = $(\n",
       "        '<div class=\"ui-dialog-titlebar ui-widget-header ui-corner-all ' +\n",
       "        'ui-helper-clearfix\"/>');\n",
       "    var titletext = $(\n",
       "        '<div class=\"ui-dialog-title\" style=\"width: 100%; ' +\n",
       "        'text-align: center; padding: 3px;\"/>');\n",
       "    titlebar.append(titletext)\n",
       "    this.root.append(titlebar);\n",
       "    this.header = titletext[0];\n",
       "}\n",
       "\n",
       "\n",
       "\n",
       "mpl.figure.prototype._canvas_extra_style = function(canvas_div) {\n",
       "\n",
       "}\n",
       "\n",
       "\n",
       "mpl.figure.prototype._root_extra_style = function(canvas_div) {\n",
       "\n",
       "}\n",
       "\n",
       "mpl.figure.prototype._init_canvas = function() {\n",
       "    var fig = this;\n",
       "\n",
       "    var canvas_div = $('<div/>');\n",
       "\n",
       "    canvas_div.attr('style', 'position: relative; clear: both; outline: 0');\n",
       "\n",
       "    function canvas_keyboard_event(event) {\n",
       "        return fig.key_event(event, event['data']);\n",
       "    }\n",
       "\n",
       "    canvas_div.keydown('key_press', canvas_keyboard_event);\n",
       "    canvas_div.keyup('key_release', canvas_keyboard_event);\n",
       "    this.canvas_div = canvas_div\n",
       "    this._canvas_extra_style(canvas_div)\n",
       "    this.root.append(canvas_div);\n",
       "\n",
       "    var canvas = $('<canvas/>');\n",
       "    canvas.addClass('mpl-canvas');\n",
       "    canvas.attr('style', \"left: 0; top: 0; z-index: 0; outline: 0\")\n",
       "\n",
       "    this.canvas = canvas[0];\n",
       "    this.context = canvas[0].getContext(\"2d\");\n",
       "\n",
       "    var backingStore = this.context.backingStorePixelRatio ||\n",
       "\tthis.context.webkitBackingStorePixelRatio ||\n",
       "\tthis.context.mozBackingStorePixelRatio ||\n",
       "\tthis.context.msBackingStorePixelRatio ||\n",
       "\tthis.context.oBackingStorePixelRatio ||\n",
       "\tthis.context.backingStorePixelRatio || 1;\n",
       "\n",
       "    mpl.ratio = (window.devicePixelRatio || 1) / backingStore;\n",
       "\n",
       "    var rubberband = $('<canvas/>');\n",
       "    rubberband.attr('style', \"position: absolute; left: 0; top: 0; z-index: 1;\")\n",
       "\n",
       "    var pass_mouse_events = true;\n",
       "\n",
       "    canvas_div.resizable({\n",
       "        start: function(event, ui) {\n",
       "            pass_mouse_events = false;\n",
       "        },\n",
       "        resize: function(event, ui) {\n",
       "            fig.request_resize(ui.size.width, ui.size.height);\n",
       "        },\n",
       "        stop: function(event, ui) {\n",
       "            pass_mouse_events = true;\n",
       "            fig.request_resize(ui.size.width, ui.size.height);\n",
       "        },\n",
       "    });\n",
       "\n",
       "    function mouse_event_fn(event) {\n",
       "        if (pass_mouse_events)\n",
       "            return fig.mouse_event(event, event['data']);\n",
       "    }\n",
       "\n",
       "    rubberband.mousedown('button_press', mouse_event_fn);\n",
       "    rubberband.mouseup('button_release', mouse_event_fn);\n",
       "    // Throttle sequential mouse events to 1 every 20ms.\n",
       "    rubberband.mousemove('motion_notify', mouse_event_fn);\n",
       "\n",
       "    rubberband.mouseenter('figure_enter', mouse_event_fn);\n",
       "    rubberband.mouseleave('figure_leave', mouse_event_fn);\n",
       "\n",
       "    canvas_div.on(\"wheel\", function (event) {\n",
       "        event = event.originalEvent;\n",
       "        event['data'] = 'scroll'\n",
       "        if (event.deltaY < 0) {\n",
       "            event.step = 1;\n",
       "        } else {\n",
       "            event.step = -1;\n",
       "        }\n",
       "        mouse_event_fn(event);\n",
       "    });\n",
       "\n",
       "    canvas_div.append(canvas);\n",
       "    canvas_div.append(rubberband);\n",
       "\n",
       "    this.rubberband = rubberband;\n",
       "    this.rubberband_canvas = rubberband[0];\n",
       "    this.rubberband_context = rubberband[0].getContext(\"2d\");\n",
       "    this.rubberband_context.strokeStyle = \"#000000\";\n",
       "\n",
       "    this._resize_canvas = function(width, height) {\n",
       "        // Keep the size of the canvas, canvas container, and rubber band\n",
       "        // canvas in synch.\n",
       "        canvas_div.css('width', width)\n",
       "        canvas_div.css('height', height)\n",
       "\n",
       "        canvas.attr('width', width * mpl.ratio);\n",
       "        canvas.attr('height', height * mpl.ratio);\n",
       "        canvas.attr('style', 'width: ' + width + 'px; height: ' + height + 'px;');\n",
       "\n",
       "        rubberband.attr('width', width);\n",
       "        rubberband.attr('height', height);\n",
       "    }\n",
       "\n",
       "    // Set the figure to an initial 600x600px, this will subsequently be updated\n",
       "    // upon first draw.\n",
       "    this._resize_canvas(600, 600);\n",
       "\n",
       "    // Disable right mouse context menu.\n",
       "    $(this.rubberband_canvas).bind(\"contextmenu\",function(e){\n",
       "        return false;\n",
       "    });\n",
       "\n",
       "    function set_focus () {\n",
       "        canvas.focus();\n",
       "        canvas_div.focus();\n",
       "    }\n",
       "\n",
       "    window.setTimeout(set_focus, 100);\n",
       "}\n",
       "\n",
       "mpl.figure.prototype._init_toolbar = function() {\n",
       "    var fig = this;\n",
       "\n",
       "    var nav_element = $('<div/>')\n",
       "    nav_element.attr('style', 'width: 100%');\n",
       "    this.root.append(nav_element);\n",
       "\n",
       "    // Define a callback function for later on.\n",
       "    function toolbar_event(event) {\n",
       "        return fig.toolbar_button_onclick(event['data']);\n",
       "    }\n",
       "    function toolbar_mouse_event(event) {\n",
       "        return fig.toolbar_button_onmouseover(event['data']);\n",
       "    }\n",
       "\n",
       "    for(var toolbar_ind in mpl.toolbar_items) {\n",
       "        var name = mpl.toolbar_items[toolbar_ind][0];\n",
       "        var tooltip = mpl.toolbar_items[toolbar_ind][1];\n",
       "        var image = mpl.toolbar_items[toolbar_ind][2];\n",
       "        var method_name = mpl.toolbar_items[toolbar_ind][3];\n",
       "\n",
       "        if (!name) {\n",
       "            // put a spacer in here.\n",
       "            continue;\n",
       "        }\n",
       "        var button = $('<button/>');\n",
       "        button.addClass('ui-button ui-widget ui-state-default ui-corner-all ' +\n",
       "                        'ui-button-icon-only');\n",
       "        button.attr('role', 'button');\n",
       "        button.attr('aria-disabled', 'false');\n",
       "        button.click(method_name, toolbar_event);\n",
       "        button.mouseover(tooltip, toolbar_mouse_event);\n",
       "\n",
       "        var icon_img = $('<span/>');\n",
       "        icon_img.addClass('ui-button-icon-primary ui-icon');\n",
       "        icon_img.addClass(image);\n",
       "        icon_img.addClass('ui-corner-all');\n",
       "\n",
       "        var tooltip_span = $('<span/>');\n",
       "        tooltip_span.addClass('ui-button-text');\n",
       "        tooltip_span.html(tooltip);\n",
       "\n",
       "        button.append(icon_img);\n",
       "        button.append(tooltip_span);\n",
       "\n",
       "        nav_element.append(button);\n",
       "    }\n",
       "\n",
       "    var fmt_picker_span = $('<span/>');\n",
       "\n",
       "    var fmt_picker = $('<select/>');\n",
       "    fmt_picker.addClass('mpl-toolbar-option ui-widget ui-widget-content');\n",
       "    fmt_picker_span.append(fmt_picker);\n",
       "    nav_element.append(fmt_picker_span);\n",
       "    this.format_dropdown = fmt_picker[0];\n",
       "\n",
       "    for (var ind in mpl.extensions) {\n",
       "        var fmt = mpl.extensions[ind];\n",
       "        var option = $(\n",
       "            '<option/>', {selected: fmt === mpl.default_extension}).html(fmt);\n",
       "        fmt_picker.append(option)\n",
       "    }\n",
       "\n",
       "    // Add hover states to the ui-buttons\n",
       "    $( \".ui-button\" ).hover(\n",
       "        function() { $(this).addClass(\"ui-state-hover\");},\n",
       "        function() { $(this).removeClass(\"ui-state-hover\");}\n",
       "    );\n",
       "\n",
       "    var status_bar = $('<span class=\"mpl-message\"/>');\n",
       "    nav_element.append(status_bar);\n",
       "    this.message = status_bar[0];\n",
       "}\n",
       "\n",
       "mpl.figure.prototype.request_resize = function(x_pixels, y_pixels) {\n",
       "    // Request matplotlib to resize the figure. Matplotlib will then trigger a resize in the client,\n",
       "    // which will in turn request a refresh of the image.\n",
       "    this.send_message('resize', {'width': x_pixels, 'height': y_pixels});\n",
       "}\n",
       "\n",
       "mpl.figure.prototype.send_message = function(type, properties) {\n",
       "    properties['type'] = type;\n",
       "    properties['figure_id'] = this.id;\n",
       "    this.ws.send(JSON.stringify(properties));\n",
       "}\n",
       "\n",
       "mpl.figure.prototype.send_draw_message = function() {\n",
       "    if (!this.waiting) {\n",
       "        this.waiting = true;\n",
       "        this.ws.send(JSON.stringify({type: \"draw\", figure_id: this.id}));\n",
       "    }\n",
       "}\n",
       "\n",
       "\n",
       "mpl.figure.prototype.handle_save = function(fig, msg) {\n",
       "    var format_dropdown = fig.format_dropdown;\n",
       "    var format = format_dropdown.options[format_dropdown.selectedIndex].value;\n",
       "    fig.ondownload(fig, format);\n",
       "}\n",
       "\n",
       "\n",
       "mpl.figure.prototype.handle_resize = function(fig, msg) {\n",
       "    var size = msg['size'];\n",
       "    if (size[0] != fig.canvas.width || size[1] != fig.canvas.height) {\n",
       "        fig._resize_canvas(size[0], size[1]);\n",
       "        fig.send_message(\"refresh\", {});\n",
       "    };\n",
       "}\n",
       "\n",
       "mpl.figure.prototype.handle_rubberband = function(fig, msg) {\n",
       "    var x0 = msg['x0'] / mpl.ratio;\n",
       "    var y0 = (fig.canvas.height - msg['y0']) / mpl.ratio;\n",
       "    var x1 = msg['x1'] / mpl.ratio;\n",
       "    var y1 = (fig.canvas.height - msg['y1']) / mpl.ratio;\n",
       "    x0 = Math.floor(x0) + 0.5;\n",
       "    y0 = Math.floor(y0) + 0.5;\n",
       "    x1 = Math.floor(x1) + 0.5;\n",
       "    y1 = Math.floor(y1) + 0.5;\n",
       "    var min_x = Math.min(x0, x1);\n",
       "    var min_y = Math.min(y0, y1);\n",
       "    var width = Math.abs(x1 - x0);\n",
       "    var height = Math.abs(y1 - y0);\n",
       "\n",
       "    fig.rubberband_context.clearRect(\n",
       "        0, 0, fig.canvas.width, fig.canvas.height);\n",
       "\n",
       "    fig.rubberband_context.strokeRect(min_x, min_y, width, height);\n",
       "}\n",
       "\n",
       "mpl.figure.prototype.handle_figure_label = function(fig, msg) {\n",
       "    // Updates the figure title.\n",
       "    fig.header.textContent = msg['label'];\n",
       "}\n",
       "\n",
       "mpl.figure.prototype.handle_cursor = function(fig, msg) {\n",
       "    var cursor = msg['cursor'];\n",
       "    switch(cursor)\n",
       "    {\n",
       "    case 0:\n",
       "        cursor = 'pointer';\n",
       "        break;\n",
       "    case 1:\n",
       "        cursor = 'default';\n",
       "        break;\n",
       "    case 2:\n",
       "        cursor = 'crosshair';\n",
       "        break;\n",
       "    case 3:\n",
       "        cursor = 'move';\n",
       "        break;\n",
       "    }\n",
       "    fig.rubberband_canvas.style.cursor = cursor;\n",
       "}\n",
       "\n",
       "mpl.figure.prototype.handle_message = function(fig, msg) {\n",
       "    fig.message.textContent = msg['message'];\n",
       "}\n",
       "\n",
       "mpl.figure.prototype.handle_draw = function(fig, msg) {\n",
       "    // Request the server to send over a new figure.\n",
       "    fig.send_draw_message();\n",
       "}\n",
       "\n",
       "mpl.figure.prototype.handle_image_mode = function(fig, msg) {\n",
       "    fig.image_mode = msg['mode'];\n",
       "}\n",
       "\n",
       "mpl.figure.prototype.updated_canvas_event = function() {\n",
       "    // Called whenever the canvas gets updated.\n",
       "    this.send_message(\"ack\", {});\n",
       "}\n",
       "\n",
       "// A function to construct a web socket function for onmessage handling.\n",
       "// Called in the figure constructor.\n",
       "mpl.figure.prototype._make_on_message_function = function(fig) {\n",
       "    return function socket_on_message(evt) {\n",
       "        if (evt.data instanceof Blob) {\n",
       "            /* FIXME: We get \"Resource interpreted as Image but\n",
       "             * transferred with MIME type text/plain:\" errors on\n",
       "             * Chrome.  But how to set the MIME type?  It doesn't seem\n",
       "             * to be part of the websocket stream */\n",
       "            evt.data.type = \"image/png\";\n",
       "\n",
       "            /* Free the memory for the previous frames */\n",
       "            if (fig.imageObj.src) {\n",
       "                (window.URL || window.webkitURL).revokeObjectURL(\n",
       "                    fig.imageObj.src);\n",
       "            }\n",
       "\n",
       "            fig.imageObj.src = (window.URL || window.webkitURL).createObjectURL(\n",
       "                evt.data);\n",
       "            fig.updated_canvas_event();\n",
       "            fig.waiting = false;\n",
       "            return;\n",
       "        }\n",
       "        else if (typeof evt.data === 'string' && evt.data.slice(0, 21) == \"data:image/png;base64\") {\n",
       "            fig.imageObj.src = evt.data;\n",
       "            fig.updated_canvas_event();\n",
       "            fig.waiting = false;\n",
       "            return;\n",
       "        }\n",
       "\n",
       "        var msg = JSON.parse(evt.data);\n",
       "        var msg_type = msg['type'];\n",
       "\n",
       "        // Call the  \"handle_{type}\" callback, which takes\n",
       "        // the figure and JSON message as its only arguments.\n",
       "        try {\n",
       "            var callback = fig[\"handle_\" + msg_type];\n",
       "        } catch (e) {\n",
       "            console.log(\"No handler for the '\" + msg_type + \"' message type: \", msg);\n",
       "            return;\n",
       "        }\n",
       "\n",
       "        if (callback) {\n",
       "            try {\n",
       "                // console.log(\"Handling '\" + msg_type + \"' message: \", msg);\n",
       "                callback(fig, msg);\n",
       "            } catch (e) {\n",
       "                console.log(\"Exception inside the 'handler_\" + msg_type + \"' callback:\", e, e.stack, msg);\n",
       "            }\n",
       "        }\n",
       "    };\n",
       "}\n",
       "\n",
       "// from http://stackoverflow.com/questions/1114465/getting-mouse-location-in-canvas\n",
       "mpl.findpos = function(e) {\n",
       "    //this section is from http://www.quirksmode.org/js/events_properties.html\n",
       "    var targ;\n",
       "    if (!e)\n",
       "        e = window.event;\n",
       "    if (e.target)\n",
       "        targ = e.target;\n",
       "    else if (e.srcElement)\n",
       "        targ = e.srcElement;\n",
       "    if (targ.nodeType == 3) // defeat Safari bug\n",
       "        targ = targ.parentNode;\n",
       "\n",
       "    // jQuery normalizes the pageX and pageY\n",
       "    // pageX,Y are the mouse positions relative to the document\n",
       "    // offset() returns the position of the element relative to the document\n",
       "    var x = e.pageX - $(targ).offset().left;\n",
       "    var y = e.pageY - $(targ).offset().top;\n",
       "\n",
       "    return {\"x\": x, \"y\": y};\n",
       "};\n",
       "\n",
       "/*\n",
       " * return a copy of an object with only non-object keys\n",
       " * we need this to avoid circular references\n",
       " * http://stackoverflow.com/a/24161582/3208463\n",
       " */\n",
       "function simpleKeys (original) {\n",
       "  return Object.keys(original).reduce(function (obj, key) {\n",
       "    if (typeof original[key] !== 'object')\n",
       "        obj[key] = original[key]\n",
       "    return obj;\n",
       "  }, {});\n",
       "}\n",
       "\n",
       "mpl.figure.prototype.mouse_event = function(event, name) {\n",
       "    var canvas_pos = mpl.findpos(event)\n",
       "\n",
       "    if (name === 'button_press')\n",
       "    {\n",
       "        this.canvas.focus();\n",
       "        this.canvas_div.focus();\n",
       "    }\n",
       "\n",
       "    var x = canvas_pos.x * mpl.ratio;\n",
       "    var y = canvas_pos.y * mpl.ratio;\n",
       "\n",
       "    this.send_message(name, {x: x, y: y, button: event.button,\n",
       "                             step: event.step,\n",
       "                             guiEvent: simpleKeys(event)});\n",
       "\n",
       "    /* This prevents the web browser from automatically changing to\n",
       "     * the text insertion cursor when the button is pressed.  We want\n",
       "     * to control all of the cursor setting manually through the\n",
       "     * 'cursor' event from matplotlib */\n",
       "    event.preventDefault();\n",
       "    return false;\n",
       "}\n",
       "\n",
       "mpl.figure.prototype._key_event_extra = function(event, name) {\n",
       "    // Handle any extra behaviour associated with a key event\n",
       "}\n",
       "\n",
       "mpl.figure.prototype.key_event = function(event, name) {\n",
       "\n",
       "    // Prevent repeat events\n",
       "    if (name == 'key_press')\n",
       "    {\n",
       "        if (event.which === this._key)\n",
       "            return;\n",
       "        else\n",
       "            this._key = event.which;\n",
       "    }\n",
       "    if (name == 'key_release')\n",
       "        this._key = null;\n",
       "\n",
       "    var value = '';\n",
       "    if (event.ctrlKey && event.which != 17)\n",
       "        value += \"ctrl+\";\n",
       "    if (event.altKey && event.which != 18)\n",
       "        value += \"alt+\";\n",
       "    if (event.shiftKey && event.which != 16)\n",
       "        value += \"shift+\";\n",
       "\n",
       "    value += 'k';\n",
       "    value += event.which.toString();\n",
       "\n",
       "    this._key_event_extra(event, name);\n",
       "\n",
       "    this.send_message(name, {key: value,\n",
       "                             guiEvent: simpleKeys(event)});\n",
       "    return false;\n",
       "}\n",
       "\n",
       "mpl.figure.prototype.toolbar_button_onclick = function(name) {\n",
       "    if (name == 'download') {\n",
       "        this.handle_save(this, null);\n",
       "    } else {\n",
       "        this.send_message(\"toolbar_button\", {name: name});\n",
       "    }\n",
       "};\n",
       "\n",
       "mpl.figure.prototype.toolbar_button_onmouseover = function(tooltip) {\n",
       "    this.message.textContent = tooltip;\n",
       "};\n",
       "mpl.toolbar_items = [[\"Home\", \"Reset original view\", \"fa fa-home icon-home\", \"home\"], [\"Back\", \"Back to previous view\", \"fa fa-arrow-left icon-arrow-left\", \"back\"], [\"Forward\", \"Forward to next view\", \"fa fa-arrow-right icon-arrow-right\", \"forward\"], [\"\", \"\", \"\", \"\"], [\"Pan\", \"Pan axes with left mouse, zoom with right\", \"fa fa-arrows icon-move\", \"pan\"], [\"Zoom\", \"Zoom to rectangle\", \"fa fa-square-o icon-check-empty\", \"zoom\"], [\"\", \"\", \"\", \"\"], [\"Download\", \"Download plot\", \"fa fa-floppy-o icon-save\", \"download\"]];\n",
       "\n",
       "mpl.extensions = [\"eps\", \"jpeg\", \"pdf\", \"png\", \"ps\", \"raw\", \"svg\", \"tif\"];\n",
       "\n",
       "mpl.default_extension = \"png\";var comm_websocket_adapter = function(comm) {\n",
       "    // Create a \"websocket\"-like object which calls the given IPython comm\n",
       "    // object with the appropriate methods. Currently this is a non binary\n",
       "    // socket, so there is still some room for performance tuning.\n",
       "    var ws = {};\n",
       "\n",
       "    ws.close = function() {\n",
       "        comm.close()\n",
       "    };\n",
       "    ws.send = function(m) {\n",
       "        //console.log('sending', m);\n",
       "        comm.send(m);\n",
       "    };\n",
       "    // Register the callback with on_msg.\n",
       "    comm.on_msg(function(msg) {\n",
       "        //console.log('receiving', msg['content']['data'], msg);\n",
       "        // Pass the mpl event to the overridden (by mpl) onmessage function.\n",
       "        ws.onmessage(msg['content']['data'])\n",
       "    });\n",
       "    return ws;\n",
       "}\n",
       "\n",
       "mpl.mpl_figure_comm = function(comm, msg) {\n",
       "    // This is the function which gets called when the mpl process\n",
       "    // starts-up an IPython Comm through the \"matplotlib\" channel.\n",
       "\n",
       "    var id = msg.content.data.id;\n",
       "    // Get hold of the div created by the display call when the Comm\n",
       "    // socket was opened in Python.\n",
       "    var element = $(\"#\" + id);\n",
       "    var ws_proxy = comm_websocket_adapter(comm)\n",
       "\n",
       "    function ondownload(figure, format) {\n",
       "        window.open(figure.imageObj.src);\n",
       "    }\n",
       "\n",
       "    var fig = new mpl.figure(id, ws_proxy,\n",
       "                           ondownload,\n",
       "                           element.get(0));\n",
       "\n",
       "    // Call onopen now - mpl needs it, as it is assuming we've passed it a real\n",
       "    // web socket which is closed, not our websocket->open comm proxy.\n",
       "    ws_proxy.onopen();\n",
       "\n",
       "    fig.parent_element = element.get(0);\n",
       "    fig.cell_info = mpl.find_output_cell(\"<div id='\" + id + \"'></div>\");\n",
       "    if (!fig.cell_info) {\n",
       "        console.error(\"Failed to find cell for figure\", id, fig);\n",
       "        return;\n",
       "    }\n",
       "\n",
       "    var output_index = fig.cell_info[2]\n",
       "    var cell = fig.cell_info[0];\n",
       "\n",
       "};\n",
       "\n",
       "mpl.figure.prototype.handle_close = function(fig, msg) {\n",
       "    var width = fig.canvas.width/mpl.ratio\n",
       "    fig.root.unbind('remove')\n",
       "\n",
       "    // Update the output cell to use the data from the current canvas.\n",
       "    fig.push_to_output();\n",
       "    var dataURL = fig.canvas.toDataURL();\n",
       "    // Re-enable the keyboard manager in IPython - without this line, in FF,\n",
       "    // the notebook keyboard shortcuts fail.\n",
       "    IPython.keyboard_manager.enable()\n",
       "    $(fig.parent_element).html('<img src=\"' + dataURL + '\" width=\"' + width + '\">');\n",
       "    fig.close_ws(fig, msg);\n",
       "}\n",
       "\n",
       "mpl.figure.prototype.close_ws = function(fig, msg){\n",
       "    fig.send_message('closing', msg);\n",
       "    // fig.ws.close()\n",
       "}\n",
       "\n",
       "mpl.figure.prototype.push_to_output = function(remove_interactive) {\n",
       "    // Turn the data on the canvas into data in the output cell.\n",
       "    var width = this.canvas.width/mpl.ratio\n",
       "    var dataURL = this.canvas.toDataURL();\n",
       "    this.cell_info[1]['text/html'] = '<img src=\"' + dataURL + '\" width=\"' + width + '\">';\n",
       "}\n",
       "\n",
       "mpl.figure.prototype.updated_canvas_event = function() {\n",
       "    // Tell IPython that the notebook contents must change.\n",
       "    IPython.notebook.set_dirty(true);\n",
       "    this.send_message(\"ack\", {});\n",
       "    var fig = this;\n",
       "    // Wait a second, then push the new image to the DOM so\n",
       "    // that it is saved nicely (might be nice to debounce this).\n",
       "    setTimeout(function () { fig.push_to_output() }, 1000);\n",
       "}\n",
       "\n",
       "mpl.figure.prototype._init_toolbar = function() {\n",
       "    var fig = this;\n",
       "\n",
       "    var nav_element = $('<div/>')\n",
       "    nav_element.attr('style', 'width: 100%');\n",
       "    this.root.append(nav_element);\n",
       "\n",
       "    // Define a callback function for later on.\n",
       "    function toolbar_event(event) {\n",
       "        return fig.toolbar_button_onclick(event['data']);\n",
       "    }\n",
       "    function toolbar_mouse_event(event) {\n",
       "        return fig.toolbar_button_onmouseover(event['data']);\n",
       "    }\n",
       "\n",
       "    for(var toolbar_ind in mpl.toolbar_items){\n",
       "        var name = mpl.toolbar_items[toolbar_ind][0];\n",
       "        var tooltip = mpl.toolbar_items[toolbar_ind][1];\n",
       "        var image = mpl.toolbar_items[toolbar_ind][2];\n",
       "        var method_name = mpl.toolbar_items[toolbar_ind][3];\n",
       "\n",
       "        if (!name) { continue; };\n",
       "\n",
       "        var button = $('<button class=\"btn btn-default\" href=\"#\" title=\"' + name + '\"><i class=\"fa ' + image + ' fa-lg\"></i></button>');\n",
       "        button.click(method_name, toolbar_event);\n",
       "        button.mouseover(tooltip, toolbar_mouse_event);\n",
       "        nav_element.append(button);\n",
       "    }\n",
       "\n",
       "    // Add the status bar.\n",
       "    var status_bar = $('<span class=\"mpl-message\" style=\"text-align:right; float: right;\"/>');\n",
       "    nav_element.append(status_bar);\n",
       "    this.message = status_bar[0];\n",
       "\n",
       "    // Add the close button to the window.\n",
       "    var buttongrp = $('<div class=\"btn-group inline pull-right\"></div>');\n",
       "    var button = $('<button class=\"btn btn-mini btn-primary\" href=\"#\" title=\"Stop Interaction\"><i class=\"fa fa-power-off icon-remove icon-large\"></i></button>');\n",
       "    button.click(function (evt) { fig.handle_close(fig, {}); } );\n",
       "    button.mouseover('Stop Interaction', toolbar_mouse_event);\n",
       "    buttongrp.append(button);\n",
       "    var titlebar = this.root.find($('.ui-dialog-titlebar'));\n",
       "    titlebar.prepend(buttongrp);\n",
       "}\n",
       "\n",
       "mpl.figure.prototype._root_extra_style = function(el){\n",
       "    var fig = this\n",
       "    el.on(\"remove\", function(){\n",
       "\tfig.close_ws(fig, {});\n",
       "    });\n",
       "}\n",
       "\n",
       "mpl.figure.prototype._canvas_extra_style = function(el){\n",
       "    // this is important to make the div 'focusable\n",
       "    el.attr('tabindex', 0)\n",
       "    // reach out to IPython and tell the keyboard manager to turn it's self\n",
       "    // off when our div gets focus\n",
       "\n",
       "    // location in version 3\n",
       "    if (IPython.notebook.keyboard_manager) {\n",
       "        IPython.notebook.keyboard_manager.register_events(el);\n",
       "    }\n",
       "    else {\n",
       "        // location in version 2\n",
       "        IPython.keyboard_manager.register_events(el);\n",
       "    }\n",
       "\n",
       "}\n",
       "\n",
       "mpl.figure.prototype._key_event_extra = function(event, name) {\n",
       "    var manager = IPython.notebook.keyboard_manager;\n",
       "    if (!manager)\n",
       "        manager = IPython.keyboard_manager;\n",
       "\n",
       "    // Check for shift+enter\n",
       "    if (event.shiftKey && event.which == 13) {\n",
       "        this.canvas_div.blur();\n",
       "        event.shiftKey = false;\n",
       "        // Send a \"J\" for go to next cell\n",
       "        event.which = 74;\n",
       "        event.keyCode = 74;\n",
       "        manager.command_mode();\n",
       "        manager.handle_keydown(event);\n",
       "    }\n",
       "}\n",
       "\n",
       "mpl.figure.prototype.handle_save = function(fig, msg) {\n",
       "    fig.ondownload(fig, null);\n",
       "}\n",
       "\n",
       "\n",
       "mpl.find_output_cell = function(html_output) {\n",
       "    // Return the cell and output element which can be found *uniquely* in the notebook.\n",
       "    // Note - this is a bit hacky, but it is done because the \"notebook_saving.Notebook\"\n",
       "    // IPython event is triggered only after the cells have been serialised, which for\n",
       "    // our purposes (turning an active figure into a static one), is too late.\n",
       "    var cells = IPython.notebook.get_cells();\n",
       "    var ncells = cells.length;\n",
       "    for (var i=0; i<ncells; i++) {\n",
       "        var cell = cells[i];\n",
       "        if (cell.cell_type === 'code'){\n",
       "            for (var j=0; j<cell.output_area.outputs.length; j++) {\n",
       "                var data = cell.output_area.outputs[j];\n",
       "                if (data.data) {\n",
       "                    // IPython >= 3 moved mimebundle to data attribute of output\n",
       "                    data = data.data;\n",
       "                }\n",
       "                if (data['text/html'] == html_output) {\n",
       "                    return [cell, data, j];\n",
       "                }\n",
       "            }\n",
       "        }\n",
       "    }\n",
       "}\n",
       "\n",
       "// Register the function which deals with the matplotlib target/channel.\n",
       "// The kernel may be null if the page has been refreshed.\n",
       "if (IPython.notebook.kernel != null) {\n",
       "    IPython.notebook.kernel.comm_manager.register_target('matplotlib', mpl.mpl_figure_comm);\n",
       "}\n"
      ],
      "text/plain": [
       "<IPython.core.display.Javascript object>"
      ]
     },
     "metadata": {},
     "output_type": "display_data"
    },
    {
     "data": {
      "text/html": [
       "<img src=\"data:image/png;base64,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\" width=\"640\">"
      ],
      "text/plain": [
       "<IPython.core.display.HTML object>"
      ]
     },
     "metadata": {},
     "output_type": "display_data"
    },
    {
     "data": {
      "text/plain": [
       "[<matplotlib.lines.Line2D at 0xa2edaa3c8>]"
      ]
     },
     "execution_count": 46,
     "metadata": {},
     "output_type": "execute_result"
    }
   ],
   "source": [
    "plt.plot(xs,density(xs))\n",
    "plt.show()"
   ]
  },
  {
   "cell_type": "code",
   "execution_count": 47,
   "metadata": {
    "ExecuteTime": {
     "end_time": "2019-04-26T05:32:46.019478Z",
     "start_time": "2019-04-26T05:32:45.594449Z"
    }
   },
   "outputs": [],
   "source": [
    "#excercise"
   ]
  },
  {
   "cell_type": "code",
   "execution_count": 48,
   "metadata": {
    "ExecuteTime": {
     "end_time": "2019-04-26T05:32:58.345900Z",
     "start_time": "2019-04-26T05:32:58.301939Z"
    }
   },
   "outputs": [],
   "source": [
    "x=[1,2,3,4,5]"
   ]
  },
  {
   "cell_type": "code",
   "execution_count": 49,
   "metadata": {
    "ExecuteTime": {
     "end_time": "2019-04-26T05:33:10.574537Z",
     "start_time": "2019-04-26T05:33:10.530055Z"
    }
   },
   "outputs": [],
   "source": [
    "%matplotlib inline"
   ]
  },
  {
   "cell_type": "code",
   "execution_count": 50,
   "metadata": {
    "ExecuteTime": {
     "end_time": "2019-04-26T05:33:27.311667Z",
     "start_time": "2019-04-26T05:33:27.131919Z"
    }
   },
   "outputs": [
    {
     "data": {
      "text/plain": [
       "<BarContainer object of 5 artists>"
      ]
     },
     "execution_count": 50,
     "metadata": {},
     "output_type": "execute_result"
    },
    {
     "data": {
      "image/png": "[encoded data removed]",
      "text/plain": [
       "<Figure size 432x288 with 1 Axes>"
      ]
     },
     "metadata": {
      "needs_background": "light"
     },
     "output_type": "display_data"
    }
   ],
   "source": [
    "plt.bar(x,x,x )"
   ]
  },
  {
   "cell_type": "code",
   "execution_count": 51,
   "metadata": {
    "ExecuteTime": {
     "end_time": "2019-04-26T05:34:01.856039Z",
     "start_time": "2019-04-26T05:34:01.676014Z"
    }
   },
   "outputs": [
    {
     "data": {
      "text/plain": [
       "[<matplotlib.lines.Line2D at 0x1a30eb4518>,\n",
       " <matplotlib.lines.Line2D at 0x1a30eb4668>]"
      ]
     },
     "execution_count": 51,
     "metadata": {},
     "output_type": "execute_result"
    },
    {
     "data": {
      "image/png": "[encoded data removed]",
      "text/plain": [
       "<Figure size 432x288 with 1 Axes>"
      ]
     },
     "metadata": {
      "needs_background": "light"
     },
     "output_type": "display_data"
    }
   ],
   "source": [
    "plt.plot(x,x,x )"
   ]
  },
  {
   "cell_type": "code",
   "execution_count": 52,
   "metadata": {
    "ExecuteTime": {
     "end_time": "2019-04-26T05:34:19.761770Z",
     "start_time": "2019-04-26T05:34:19.635432Z"
    }
   },
   "outputs": [
    {
     "data": {
      "text/plain": [
       "([<matplotlib.patches.Wedge at 0x1a3205e160>,\n",
       "  <matplotlib.patches.Wedge at 0x1a3205e668>,\n",
       "  <matplotlib.patches.Wedge at 0x1a3205eb70>,\n",
       "  <matplotlib.patches.Wedge at 0x1a320670b8>,\n",
       "  <matplotlib.patches.Wedge at 0x1a320675c0>],\n",
       " [Text(2.0541099567717978, 0.43661457315458757, '1'),\n",
       "  Text(2.074304779055938, 2.303749049611458, '2'),\n",
       "  Text(-1.2669699690027079, 3.899331621912309, '3'),\n",
       "  Text(-4.98855262806367, -1.0603502614886537, '4'),\n",
       "  Text(3.0500010716489014, -5.28275434436815, '5')])"
      ]
     },
     "execution_count": 52,
     "metadata": {},
     "output_type": "execute_result"
    },
    {
     "data": {
      "image/png": "[encoded data removed]",
      "text/plain": [
       "<Figure size 432x288 with 1 Axes>"
      ]
     },
     "metadata": {},
     "output_type": "display_data"
    }
   ],
   "source": [
    "plt.pie(x,x,x )"
   ]
  },
  {
   "cell_type": "code",
   "execution_count": 53,
   "metadata": {
    "ExecuteTime": {
     "end_time": "2019-04-26T05:34:39.311741Z",
     "start_time": "2019-04-26T05:34:39.106939Z"
    }
   },
   "outputs": [
    {
     "data": {
      "text/plain": [
       "<matplotlib.collections.PathCollection at 0x1a30d996d8>"
      ]
     },
     "execution_count": 53,
     "metadata": {},
     "output_type": "execute_result"
    },
    {
     "data": {
      "image/png": "[encoded data removed]",
      "text/plain": [
       "<Figure size 432x288 with 1 Axes>"
      ]
     },
     "metadata": {
      "needs_background": "light"
     },
     "output_type": "display_data"
    }
   ],
   "source": [
    "plt.scatter(x,x,x )"
   ]
  },
  {
   "cell_type": "markdown",
   "metadata": {},
   "source": [
    "# 自定义图标样式"
   ]
  },
  {
   "cell_type": "code",
   "execution_count": 54,
   "metadata": {
    "ExecuteTime": {
     "end_time": "2019-04-26T05:39:59.988391Z",
     "start_time": "2019-04-26T05:39:59.856650Z"
    }
   },
   "outputs": [],
   "source": [
    "fs=360\n",
    "sample=360 \n",
    "\n",
    "x=np.arange(sample)\n",
    "y=np.sin(2*np.pi*x/fs)`"
   ]
  },
  {
   "cell_type": "code",
   "execution_count": 55,
   "metadata": {
    "ExecuteTime": {
     "end_time": "2019-04-26T05:40:13.405965Z",
     "start_time": "2019-04-26T05:40:13.219869Z"
    }
   },
   "outputs": [
    {
     "data": {
      "text/plain": [
       "[<matplotlib.lines.Line2D at 0x1a32b2e908>]"
      ]
     },
     "execution_count": 55,
     "metadata": {},
     "output_type": "execute_result"
    },
    {
     "data": {
      "image/png": "[encoded data removed]",
      "text/plain": [
       "<Figure size 432x288 with 1 Axes>"
      ]
     },
     "metadata": {
      "needs_background": "light"
     },
     "output_type": "display_data"
    }
   ],
   "source": [
    "plt.plot(x,y)"
   ]
  },
  {
   "cell_type": "markdown",
   "metadata": {},
   "source": [
    "## 添加文字"
   ]
  },
  {
   "cell_type": "code",
   "execution_count": 62,
   "metadata": {
    "ExecuteTime": {
     "end_time": "2019-04-26T05:42:54.641065Z",
     "start_time": "2019-04-26T05:42:54.394984Z"
    }
   },
   "outputs": [
    {
     "data": {
      "text/plain": [
       "[<matplotlib.lines.Line2D at 0x1a335e8ba8>]"
      ]
     },
     "execution_count": 62,
     "metadata": {},
     "output_type": "execute_result"
    },
    {
     "data": {
      "text/plain": [
       "Text(0.5, 1.0, 'this is a title')"
      ]
     },
     "execution_count": 62,
     "metadata": {},
     "output_type": "execute_result"
    },
    {
     "data": {
      "text/plain": [
       "Text(0.5, 0, 'xxxxxxxx')"
      ]
     },
     "execution_count": 62,
     "metadata": {},
     "output_type": "execute_result"
    },
    {
     "data": {
      "text/plain": [
       "Text(0, 0.5, 'yyyyyyyy')"
      ]
     },
     "execution_count": 62,
     "metadata": {},
     "output_type": "execute_result"
    },
    {
     "data": {
      "text/plain": [
       "Text(200, 0, 'f(x)=sinx')"
      ]
     },
     "execution_count": 62,
     "metadata": {},
     "output_type": "execute_result"
    },
    {
     "data": {
      "text/plain": [
       "<matplotlib.legend.Legend at 0x1a335e8780>"
      ]
     },
     "execution_count": 62,
     "metadata": {},
     "output_type": "execute_result"
    },
    {
     "data": {
      "image/png": "[encoded data removed]",
      "text/plain": [
       "<Figure size 432x288 with 1 Axes>"
      ]
     },
     "metadata": {
      "needs_background": "light"
     },
     "output_type": "display_data"
    }
   ],
   "source": [
    "plt.plot(x,y)\n",
    "plt.title('this is a title')\n",
    "plt.xlabel('xxxxxxxx')\n",
    "plt.ylabel('yyyyyyyy')\n",
    "\n",
    "plt.text(200,0,'f(x)=sinx')\n",
    "plt.legend(labels=['sin function'])"
   ]
  },
  {
   "cell_type": "markdown",
   "metadata": {},
   "source": [
    "## 输入LaTeX"
   ]
  },
  {
   "cell_type": "code",
   "execution_count": 65,
   "metadata": {
    "ExecuteTime": {
     "end_time": "2019-04-26T05:45:56.316742Z",
     "start_time": "2019-04-26T05:45:56.101436Z"
    }
   },
   "outputs": [
    {
     "data": {
      "text/plain": [
       "[<matplotlib.lines.Line2D at 0x1a33b44ef0>]"
      ]
     },
     "execution_count": 65,
     "metadata": {},
     "output_type": "execute_result"
    },
    {
     "data": {
      "text/plain": [
       "Text(200, 0, '$\\\\pi=\\\\frac{\\\\sqrt{\\\\alpha}}{\\\\beta}$')"
      ]
     },
     "execution_count": 65,
     "metadata": {},
     "output_type": "execute_result"
    },
    {
     "data": {
      "image/png": "[encoded data removed]",
      "text/plain": [
       "<Figure size 432x288 with 1 Axes>"
      ]
     },
     "metadata": {
      "needs_background": "light"
     },
     "output_type": "display_data"
    }
   ],
   "source": [
    "plt.plot(x,y)\n",
    "plt.text(200,0,r'$\\pi=\\frac{\\sqrt{\\alpha}}{\\beta}$',fontsize=30 )"
   ]
  },
  {
   "cell_type": "markdown",
   "metadata": {},
   "source": [
    "# 调整坐标轴"
   ]
  },
  {
   "cell_type": "code",
   "execution_count": 66,
   "metadata": {
    "ExecuteTime": {
     "end_time": "2019-04-26T05:52:50.827632Z",
     "start_time": "2019-04-26T05:52:50.383213Z"
    }
   },
   "outputs": [
    {
     "data": {
      "text/plain": [
       "[<matplotlib.lines.Line2D at 0x1a33e2ae48>]"
      ]
     },
     "execution_count": 66,
     "metadata": {},
     "output_type": "execute_result"
    },
    {
     "data": {
      "text/plain": [
       "(0, 100)"
      ]
     },
     "execution_count": 66,
     "metadata": {},
     "output_type": "execute_result"
    },
    {
     "data": {
      "text/plain": [
       "(-1, 2)"
      ]
     },
     "execution_count": 66,
     "metadata": {},
     "output_type": "execute_result"
    },
    {
     "data": {
      "image/png": "[encoded data removed]",
      "text/plain": [
       "<Figure size 432x288 with 1 Axes>"
      ]
     },
     "metadata": {
      "needs_background": "light"
     },
     "output_type": "display_data"
    }
   ],
   "source": [
    "plt.plot(x,y)\n",
    "plt.xlim(0,100)# x limits\n",
    "plt.ylim(-1,2 )"
   ]
  },
  {
   "cell_type": "code",
   "execution_count": 69,
   "metadata": {
    "ExecuteTime": {
     "end_time": "2019-04-26T05:54:36.176091Z",
     "start_time": "2019-04-26T05:54:35.532306Z"
    }
   },
   "outputs": [
    {
     "data": {
      "text/plain": [
       "<matplotlib.collections.PathCollection at 0x1a34834cc0>"
      ]
     },
     "execution_count": 69,
     "metadata": {},
     "output_type": "execute_result"
    },
    {
     "data": {
      "image/png": "[encoded data removed]",
      "text/plain": [
       "<Figure size 432x288 with 1 Axes>"
      ]
     },
     "metadata": {
      "needs_background": "light"
     },
     "output_type": "display_data"
    }
   ],
   "source": [
    "x=df['price']\n",
    "y=df['sqft_living']\n",
    "plt.scatter(x,y)\n",
    "plt.xscale('log')\n",
    "plt.yscale('log')# only display 10^n"
   ]
  },
  {
   "cell_type": "markdown",
   "metadata": {},
   "source": [
    "## 添加网格"
   ]
  },
  {
   "cell_type": "code",
   "execution_count": 70,
   "metadata": {
    "ExecuteTime": {
     "end_time": "2019-04-26T05:55:41.696377Z",
     "start_time": "2019-04-26T05:55:41.580330Z"
    }
   },
   "outputs": [],
   "source": [
    "fs=360\n",
    "sample=360 \n",
    "\n",
    "x=np.arange(sample)\n",
    "y=np.sin(2*np.pi*x/fs)"
   ]
  },
  {
   "cell_type": "code",
   "execution_count": 72,
   "metadata": {
    "ExecuteTime": {
     "end_time": "2019-04-26T05:58:40.639479Z",
     "start_time": "2019-04-26T05:58:39.866090Z"
    }
   },
   "outputs": [
    {
     "data": {
      "text/plain": [
       "[<matplotlib.lines.Line2D at 0x1a338576d8>]"
      ]
     },
     "execution_count": 72,
     "metadata": {},
     "output_type": "execute_result"
    },
    {
     "data": {
      "image/png": "[encoded data removed]",
      "text/plain": [
       "<Figure size 432x288 with 1 Axes>"
      ]
     },
     "metadata": {
      "needs_background": "light"
     },
     "output_type": "display_data"
    }
   ],
   "source": [
    "plt.plot(x,y,'--',color='r')\n",
    "plt.grid(which='major',linewidth=2,linestyle='--')"
   ]
  },
  {
   "cell_type": "code",
   "execution_count": 77,
   "metadata": {
    "ExecuteTime": {
     "end_time": "2019-04-26T05:59:50.112803Z",
     "start_time": "2019-04-26T05:59:49.719396Z"
    }
   },
   "outputs": [
    {
     "data": {
      "text/plain": [
       "[<matplotlib.lines.Line2D at 0x1a32a1de10>]"
      ]
     },
     "execution_count": 77,
     "metadata": {},
     "output_type": "execute_result"
    },
    {
     "data": {
      "image/png": "[encoded data removed]",
      "text/plain": [
       "<Figure size 432x288 with 1 Axes>"
      ]
     },
     "metadata": {
      "needs_background": "light"
     },
     "output_type": "display_data"
    }
   ],
   "source": [
    "plt.plot(x,y,'--',color='r')\n",
    "plt.grid(which='minor',linewidth=0.1 ,linestyle=':',color='b')\n",
    "#must have\n",
    "plt.minorticks_on()"
   ]
  },
  {
   "cell_type": "code",
   "execution_count": 78,
   "metadata": {
    "ExecuteTime": {
     "end_time": "2019-04-26T06:00:20.158991Z",
     "start_time": "2019-04-26T06:00:19.953421Z"
    }
   },
   "outputs": [
    {
     "data": {
      "text/plain": [
       "[<matplotlib.lines.Line2D at 0x1a328491d0>]"
      ]
     },
     "execution_count": 78,
     "metadata": {},
     "output_type": "execute_result"
    },
    {
     "data": {
      "image/png": "[encoded data removed]",
      "text/plain": [
       "<Figure size 432x288 with 1 Axes>"
      ]
     },
     "metadata": {
      "needs_background": "light"
     },
     "output_type": "display_data"
    }
   ],
   "source": [
    "plt.plot(x,y,'--',color='r')\n",
    "plt.grid(True)"
   ]
  },
  {
   "cell_type": "markdown",
   "metadata": {},
   "source": [
    "## 修改坐标轴刻度范围"
   ]
  },
  {
   "cell_type": "code",
   "execution_count": 80,
   "metadata": {
    "ExecuteTime": {
     "end_time": "2019-04-26T06:05:56.925161Z",
     "start_time": "2019-04-26T06:05:56.777213Z"
    }
   },
   "outputs": [
    {
     "data": {
      "text/plain": [
       "[<matplotlib.lines.Line2D at 0xa301b08d0>]"
      ]
     },
     "execution_count": 80,
     "metadata": {},
     "output_type": "execute_result"
    },
    {
     "data": {
      "text/plain": [
       "([<matplotlib.axis.XTick at 0x1a320a8e10>,\n",
       "  <matplotlib.axis.XTick at 0x1a30e03278>,\n",
       "  <matplotlib.axis.XTick at 0x1a3209afd0>,\n",
       "  <matplotlib.axis.XTick at 0xa2db94390>,\n",
       "  <matplotlib.axis.XTick at 0x1a329771d0>,\n",
       "  <matplotlib.axis.XTick at 0x1a32977780>],\n",
       " <a list of 6 Text xticklabel objects>)"
      ]
     },
     "execution_count": 80,
     "metadata": {},
     "output_type": "execute_result"
    },
    {
     "data": {
      "text/plain": [
       "([<matplotlib.axis.YTick at 0xa2d8a8978>,\n",
       "  <matplotlib.axis.YTick at 0xa2ab5eeb8>,\n",
       "  <matplotlib.axis.YTick at 0x1a3209a550>,\n",
       "  <matplotlib.axis.YTick at 0xa2eda2da0>,\n",
       "  <matplotlib.axis.YTick at 0xa2cc774a8>],\n",
       " <a list of 5 Text yticklabel objects>)"
      ]
     },
     "execution_count": 80,
     "metadata": {},
     "output_type": "execute_result"
    },
    {
     "data": {
      "image/png": "[encoded data removed]",
      "text/plain": [
       "<Figure size 432x288 with 1 Axes>"
      ]
     },
     "metadata": {
      "needs_background": "light"
     },
     "output_type": "display_data"
    }
   ],
   "source": [
    "plt.plot(x,y,'-.',color='r')\n",
    "plt.xticks(np.array([0,60,120,180,240,360]))\n",
    "plt.yticks(np.arange(min(y),max(y)+0.1,0.5))#arange=array range"
   ]
  },
  {
   "cell_type": "markdown",
   "metadata": {},
   "source": [
    "## 自定义刻度标签"
   ]
  },
  {
   "cell_type": "code",
   "execution_count": 81,
   "metadata": {
    "ExecuteTime": {
     "end_time": "2019-04-26T07:25:12.540845Z",
     "start_time": "2019-04-26T07:25:12.116527Z"
    },
    "scrolled": true
   },
   "outputs": [
    {
     "data": {
      "text/plain": [
       "[<matplotlib.lines.Line2D at 0x1a328e5cc0>]"
      ]
     },
     "execution_count": 81,
     "metadata": {},
     "output_type": "execute_result"
    },
    {
     "data": {
      "text/plain": [
       "([<matplotlib.axis.XTick at 0x1a325d5dd8>,\n",
       "  <matplotlib.axis.XTick at 0x1a3255fcf8>,\n",
       "  <matplotlib.axis.XTick at 0x1a3255f860>,\n",
       "  <matplotlib.axis.XTick at 0x1a34adb9e8>,\n",
       "  <matplotlib.axis.XTick at 0x1a3283ea58>,\n",
       "  <matplotlib.axis.XTick at 0x1a328c28d0>,\n",
       "  <matplotlib.axis.XTick at 0x1a34ad8f28>],\n",
       " <a list of 7 Text xticklabel objects>)"
      ]
     },
     "execution_count": 81,
     "metadata": {},
     "output_type": "execute_result"
    },
    {
     "data": {
      "text/plain": [
       "([<matplotlib.axis.YTick at 0x1a34af8e80>,\n",
       "  <matplotlib.axis.YTick at 0x1a3254f780>,\n",
       "  <matplotlib.axis.YTick at 0x1a3255fa20>,\n",
       "  <matplotlib.axis.YTick at 0x1a328e57f0>,\n",
       "  <matplotlib.axis.YTick at 0x1a325eb358>],\n",
       " <a list of 5 Text yticklabel objects>)"
      ]
     },
     "execution_count": 81,
     "metadata": {},
     "output_type": "execute_result"
    },
    {
     "data": {
      "image/png": "[encoded data removed]",
      "text/plain": [
       "<Figure size 432x288 with 1 Axes>"
      ]
     },
     "metadata": {
      "needs_background": "light"
     },
     "output_type": "display_data"
    }
   ],
   "source": [
    "x_label=['a','b','c','d','e','f','g']\n",
    "y_label=['first','second','third','fourth','fifth']\n",
    "plt.plot(x,y,'-.',color='r')\n",
    "\n",
    "plt.xticks(np.array([0,60,120,180,240,300,360]),x_label,rotation='vertical')\n",
    "plt.yticks(np.array([0.1,0.2,0.3,0.6,0.9]),y_label)"
   ]
  },
  {
   "cell_type": "markdown",
   "metadata": {},
   "source": [
    "## 调节刻度标签大小，长短，颜色"
   ]
  },
  {
   "cell_type": "code",
   "execution_count": 83,
   "metadata": {
    "ExecuteTime": {
     "end_time": "2019-04-26T07:27:17.265582Z",
     "start_time": "2019-04-26T07:27:17.061944Z"
    },
    "scrolled": true
   },
   "outputs": [
    {
     "data": {
      "text/plain": [
       "[<matplotlib.lines.Line2D at 0x1a350d9908>]"
      ]
     },
     "execution_count": 83,
     "metadata": {},
     "output_type": "execute_result"
    },
    {
     "data": {
      "image/png": "[encoded data removed]",
      "text/plain": [
       "<Figure size 432x288 with 1 Axes>"
      ]
     },
     "metadata": {
      "needs_background": "light"
     },
     "output_type": "display_data"
    }
   ],
   "source": [
    "plt.plot(x,y,':',color='r')\n",
    "plt.tick_params(axis='x',color='green',size=30)\n",
    "plt.tick_params(axis='y',labelcolor='red',labelsize=15 )"
   ]
  },
  {
   "cell_type": "code",
   "execution_count": 84,
   "metadata": {
    "ExecuteTime": {
     "end_time": "2019-04-26T07:57:54.629617Z",
     "start_time": "2019-04-26T07:57:54.465309Z"
    }
   },
   "outputs": [
    {
     "data": {
      "text/plain": [
       "array([0.  , 0.25, 0.5 , 0.75])"
      ]
     },
     "execution_count": 84,
     "metadata": {},
     "output_type": "execute_result"
    }
   ],
   "source": [
    "np.arange(0,1,0.25 )"
   ]
  },
  {
   "cell_type": "code",
   "execution_count": null,
   "metadata": {},
   "outputs": [],
   "source": []
  }
 ],
 "metadata": {
  "hide_input": false,
  "kernelspec": {
   "display_name": "Python 3",
   "language": "python",
   "name": "python3"
  },
  "language_info": {
   "codemirror_mode": {
    "name": "ipython",
    "version": 3
   },
   "file_extension": ".py",
   "mimetype": "text/x-python",
   "name": "python",
   "nbconvert_exporter": "python",
   "pygments_lexer": "ipython3",
   "version": "3.6.8"
  },
  "toc": {
   "base_numbering": 1,
   "nav_menu": {},
   "number_sections": true,
   "sideBar": true,
   "skip_h1_title": false,
   "title_cell": "Table of Contents",
   "title_sidebar": "Contents",
   "toc_cell": false,
   "toc_position": {
    "height": "calc(100% - 180px)",
    "left": "10px",
    "top": "150px",
    "width": "142.796875px"
   },
   "toc_section_display": true,
   "toc_window_display": true
  },
  "varInspector": {
   "cols": {
    "lenName": 16,
    "lenType": 16,
    "lenVar": 40
   },
   "kernels_config": {
    "python": {
     "delete_cmd_postfix": "",
     "delete_cmd_prefix": "del ",
     "library": "var_list.py",
     "varRefreshCmd": "print(var_dic_list())"
    },
    "r": {
     "delete_cmd_postfix": ") ",
     "delete_cmd_prefix": "rm(",
     "library": "var_list.r",
     "varRefreshCmd": "cat(var_dic_list()) "
    }
   },
   "types_to_exclude": [
    "module",
    "function",
    "builtin_function_or_method",
    "instance",
    "_Feature"
   ],
   "window_display": false
  }
 },
 "nbformat": 4,
 "nbformat_minor": 2
}
