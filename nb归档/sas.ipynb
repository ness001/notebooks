{
 "cells": [
  {
   "cell_type": "code",
   "execution_count": 1,
   "metadata": {
    "ExecuteTime": {
     "end_time": "2019-03-14T12:28:14.345058Z",
     "start_time": "2019-03-14T12:28:13.190016Z"
    }
   },
   "outputs": [],
   "source": [
    "import pandas as pd "
   ]
  },
  {
   "cell_type": "code",
   "execution_count": 4,
   "metadata": {
    "ExecuteTime": {
     "end_time": "2019-03-14T12:38:22.464542Z",
     "start_time": "2019-03-14T12:37:01.644264Z"
    }
   },
   "outputs": [],
   "source": [
    "code=pd.read_excel('/Users/ness001/code files/sas/code.xlsx','Sheet1')"
   ]
  },
  {
   "cell_type": "code",
   "execution_count": 3,
   "metadata": {
    "ExecuteTime": {
     "end_time": "2019-03-14T12:36:57.071798Z",
     "start_time": "2019-03-14T12:36:07.177638Z"
    }
   },
   "outputs": [
    {
     "name": "stdout",
     "output_type": "stream",
     "text": [
      "Collecting xlrd\n",
      "\u001b[?25l  Downloading https://files.pythonhosted.org/packages/b0/16/63576a1a001752e34bf8ea62e367997530dc553b689356b9879339cf45a4/xlrd-1.2.0-py2.py3-none-any.whl (103kB)\n",
      "\u001b[K    100% |████████████████████████████████| 112kB 2.6kB/s ta 0:00:01\n",
      "\u001b[?25hInstalling collected packages: xlrd\n",
      "Successfully installed xlrd-1.2.0\n",
      "\u001b[33mYou are using pip version 19.0.2, however version 19.0.3 is available.\n",
      "You should consider upgrading via the 'pip install --upgrade pip' command.\u001b[0m\n"
     ]
    }
   ],
   "source": [
    "!pip install xlrd"
   ]
  },
  {
   "cell_type": "code",
   "execution_count": 9,
   "metadata": {
    "ExecuteTime": {
     "end_time": "2019-03-14T12:52:22.886583Z",
     "start_time": "2019-03-14T12:52:22.871901Z"
    }
   },
   "outputs": [
    {
     "data": {
      "text/html": [
       "<div>\n",
       "<style scoped>\n",
       "    .dataframe tbody tr th:only-of-type {\n",
       "        vertical-align: middle;\n",
       "    }\n",
       "\n",
       "    .dataframe tbody tr th {\n",
       "        vertical-align: top;\n",
       "    }\n",
       "\n",
       "    .dataframe thead th {\n",
       "        text-align: right;\n",
       "    }\n",
       "</style>\n",
       "<table border=\"1\" class=\"dataframe\">\n",
       "  <thead>\n",
       "    <tr style=\"text-align: right;\">\n",
       "      <th></th>\n",
       "      <th>province</th>\n",
       "      <th>district</th>\n",
       "      <th>county</th>\n",
       "      <th>village</th>\n",
       "      <th>council</th>\n",
       "      <th>code1</th>\n",
       "      <th>code2</th>\n",
       "      <th>code3</th>\n",
       "      <th>code4</th>\n",
       "      <th>code5</th>\n",
       "      <th>allcode</th>\n",
       "    </tr>\n",
       "  </thead>\n",
       "  <tbody>\n",
       "    <tr>\n",
       "      <th>677278</th>\n",
       "      <td>新疆维吾尔自治区</td>\n",
       "      <td>自治区直辖县级行政区划</td>\n",
       "      <td>铁门关市</td>\n",
       "      <td>NaN</td>\n",
       "      <td>NaN</td>\n",
       "      <td>65</td>\n",
       "      <td>90</td>\n",
       "      <td>6</td>\n",
       "      <td>0</td>\n",
       "      <td>0</td>\n",
       "      <td>659006000000</td>\n",
       "    </tr>\n",
       "    <tr>\n",
       "      <th>677279</th>\n",
       "      <td>新疆维吾尔自治区</td>\n",
       "      <td>自治区直辖县级行政区划</td>\n",
       "      <td>铁门关市</td>\n",
       "      <td>博古其镇</td>\n",
       "      <td>NaN</td>\n",
       "      <td>65</td>\n",
       "      <td>90</td>\n",
       "      <td>6</td>\n",
       "      <td>100</td>\n",
       "      <td>0</td>\n",
       "      <td>659006100000</td>\n",
       "    </tr>\n",
       "    <tr>\n",
       "      <th>677280</th>\n",
       "      <td>新疆维吾尔自治区</td>\n",
       "      <td>自治区直辖县级行政区划</td>\n",
       "      <td>铁门关市</td>\n",
       "      <td>博古其镇</td>\n",
       "      <td>虚拟社区</td>\n",
       "      <td>65</td>\n",
       "      <td>90</td>\n",
       "      <td>6</td>\n",
       "      <td>100</td>\n",
       "      <td>498</td>\n",
       "      <td>659006100498</td>\n",
       "    </tr>\n",
       "    <tr>\n",
       "      <th>677281</th>\n",
       "      <td>新疆维吾尔自治区</td>\n",
       "      <td>自治区直辖县级行政区划</td>\n",
       "      <td>铁门关市</td>\n",
       "      <td>双丰镇</td>\n",
       "      <td>NaN</td>\n",
       "      <td>65</td>\n",
       "      <td>90</td>\n",
       "      <td>6</td>\n",
       "      <td>101</td>\n",
       "      <td>0</td>\n",
       "      <td>659006101000</td>\n",
       "    </tr>\n",
       "    <tr>\n",
       "      <th>677282</th>\n",
       "      <td>新疆维吾尔自治区</td>\n",
       "      <td>自治区直辖县级行政区划</td>\n",
       "      <td>铁门关市</td>\n",
       "      <td>双丰镇</td>\n",
       "      <td>虚拟社区</td>\n",
       "      <td>65</td>\n",
       "      <td>90</td>\n",
       "      <td>6</td>\n",
       "      <td>101</td>\n",
       "      <td>498</td>\n",
       "      <td>659006101498</td>\n",
       "    </tr>\n",
       "  </tbody>\n",
       "</table>\n",
       "</div>"
      ],
      "text/plain": [
       "        province     district county village council  code1  code2  code3  \\\n",
       "677278  新疆维吾尔自治区  自治区直辖县级行政区划   铁门关市     NaN     NaN     65     90      6   \n",
       "677279  新疆维吾尔自治区  自治区直辖县级行政区划   铁门关市    博古其镇     NaN     65     90      6   \n",
       "677280  新疆维吾尔自治区  自治区直辖县级行政区划   铁门关市    博古其镇    虚拟社区     65     90      6   \n",
       "677281  新疆维吾尔自治区  自治区直辖县级行政区划   铁门关市     双丰镇     NaN     65     90      6   \n",
       "677282  新疆维吾尔自治区  自治区直辖县级行政区划   铁门关市     双丰镇    虚拟社区     65     90      6   \n",
       "\n",
       "        code4  code5       allcode  \n",
       "677278      0      0  659006000000  \n",
       "677279    100      0  659006100000  \n",
       "677280    100    498  659006100498  \n",
       "677281    101      0  659006101000  \n",
       "677282    101    498  659006101498  "
      ]
     },
     "execution_count": 9,
     "metadata": {},
     "output_type": "execute_result"
    }
   ],
   "source": [
    "code.tail()"
   ]
  },
  {
   "cell_type": "code",
   "execution_count": 6,
   "metadata": {
    "ExecuteTime": {
     "end_time": "2019-03-14T12:49:48.671900Z",
     "start_time": "2019-03-14T12:49:48.665644Z"
    }
   },
   "outputs": [],
   "source": [
    "code.columns=['province','district','county','village','council','code1','code2','code3','code4','code5','allcode']"
   ]
  },
  {
   "cell_type": "code",
   "execution_count": 11,
   "metadata": {
    "ExecuteTime": {
     "end_time": "2019-03-14T12:53:03.194001Z",
     "start_time": "2019-03-14T12:53:03.106538Z"
    }
   },
   "outputs": [],
   "source": [
    "survey=pd.read_excel('/Users/ness001/code files/sas/survey.xls','Sheet1')"
   ]
  },
  {
   "cell_type": "code",
   "execution_count": 13,
   "metadata": {
    "ExecuteTime": {
     "end_time": "2019-03-14T12:53:50.396097Z",
     "start_time": "2019-03-14T12:53:50.383476Z"
    }
   },
   "outputs": [
    {
     "data": {
      "text/html": [
       "<div>\n",
       "<style scoped>\n",
       "    .dataframe tbody tr th:only-of-type {\n",
       "        vertical-align: middle;\n",
       "    }\n",
       "\n",
       "    .dataframe tbody tr th {\n",
       "        vertical-align: top;\n",
       "    }\n",
       "\n",
       "    .dataframe thead th {\n",
       "        text-align: right;\n",
       "    }\n",
       "</style>\n",
       "<table border=\"1\" class=\"dataframe\">\n",
       "  <thead>\n",
       "    <tr style=\"text-align: right;\">\n",
       "      <th></th>\n",
       "      <th>C1</th>\n",
       "      <th>C2</th>\n",
       "      <th>C3</th>\n",
       "      <th>pcode</th>\n",
       "      <th>heard</th>\n",
       "      <th>record</th>\n",
       "    </tr>\n",
       "  </thead>\n",
       "  <tbody>\n",
       "    <tr>\n",
       "      <th>0</th>\n",
       "      <td>北京市</td>\n",
       "      <td>北京市</td>\n",
       "      <td>东城区</td>\n",
       "      <td>11</td>\n",
       "      <td>0.540625</td>\n",
       "      <td>0.160256</td>\n",
       "    </tr>\n",
       "    <tr>\n",
       "      <th>1</th>\n",
       "      <td>北京市</td>\n",
       "      <td>北京市</td>\n",
       "      <td>丰台区</td>\n",
       "      <td>11</td>\n",
       "      <td>0.408333</td>\n",
       "      <td>0.093220</td>\n",
       "    </tr>\n",
       "    <tr>\n",
       "      <th>2</th>\n",
       "      <td>北京市</td>\n",
       "      <td>北京市</td>\n",
       "      <td>大兴区</td>\n",
       "      <td>11</td>\n",
       "      <td>0.489286</td>\n",
       "      <td>0.153543</td>\n",
       "    </tr>\n",
       "    <tr>\n",
       "      <th>3</th>\n",
       "      <td>北京市</td>\n",
       "      <td>北京市</td>\n",
       "      <td>密云区</td>\n",
       "      <td>11</td>\n",
       "      <td>0.337500</td>\n",
       "      <td>0.151899</td>\n",
       "    </tr>\n",
       "    <tr>\n",
       "      <th>4</th>\n",
       "      <td>北京市</td>\n",
       "      <td>北京市</td>\n",
       "      <td>平谷区</td>\n",
       "      <td>11</td>\n",
       "      <td>0.200000</td>\n",
       "      <td>0.050000</td>\n",
       "    </tr>\n",
       "  </tbody>\n",
       "</table>\n",
       "</div>"
      ],
      "text/plain": [
       "    C1   C2   C3  pcode     heard    record\n",
       "0  北京市  北京市  东城区     11  0.540625  0.160256\n",
       "1  北京市  北京市  丰台区     11  0.408333  0.093220\n",
       "2  北京市  北京市  大兴区     11  0.489286  0.153543\n",
       "3  北京市  北京市  密云区     11  0.337500  0.151899\n",
       "4  北京市  北京市  平谷区     11  0.200000  0.050000"
      ]
     },
     "execution_count": 13,
     "metadata": {},
     "output_type": "execute_result"
    }
   ],
   "source": [
    "survey.head()"
   ]
  },
  {
   "cell_type": "code",
   "execution_count": null,
   "metadata": {},
   "outputs": [],
   "source": []
  }
 ],
 "metadata": {
  "hide_input": false,
  "kernelspec": {
   "display_name": "Python 3",
   "language": "python",
   "name": "python3"
  },
  "language_info": {
   "codemirror_mode": {
    "name": "ipython",
    "version": 3
   },
   "file_extension": ".py",
   "mimetype": "text/x-python",
   "name": "python",
   "nbconvert_exporter": "python",
   "pygments_lexer": "ipython3",
   "version": "3.6.8"
  },
  "toc": {
   "base_numbering": 1,
   "nav_menu": {},
   "number_sections": true,
   "sideBar": true,
   "skip_h1_title": false,
   "title_cell": "Table of Contents",
   "title_sidebar": "Contents",
   "toc_cell": false,
   "toc_position": {},
   "toc_section_display": true,
   "toc_window_display": false
  },
  "varInspector": {
   "cols": {
    "lenName": 16,
    "lenType": 16,
    "lenVar": 40
   },
   "kernels_config": {
    "python": {
     "delete_cmd_postfix": "",
     "delete_cmd_prefix": "del ",
     "library": "var_list.py",
     "varRefreshCmd": "print(var_dic_list())"
    },
    "r": {
     "delete_cmd_postfix": ") ",
     "delete_cmd_prefix": "rm(",
     "library": "var_list.r",
     "varRefreshCmd": "cat(var_dic_list()) "
    }
   },
   "types_to_exclude": [
    "module",
    "function",
    "builtin_function_or_method",
    "instance",
    "_Feature"
   ],
   "window_display": true
  }
 },
 "nbformat": 4,
 "nbformat_minor": 2
}
