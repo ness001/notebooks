{
 "cells": [
  {
   "cell_type": "code",
   "execution_count": 1,
   "metadata": {
    "ExecuteTime": {
     "end_time": "2019-02-17T11:46:49.502718Z",
     "start_time": "2019-02-17T11:46:48.790529Z"
    }
   },
   "outputs": [],
   "source": [
    "import pandas as pd"
   ]
  },
  {
   "cell_type": "code",
   "execution_count": 2,
   "metadata": {
    "ExecuteTime": {
     "end_time": "2019-02-17T11:46:50.337005Z",
     "start_time": "2019-02-17T11:46:49.504959Z"
    }
   },
   "outputs": [],
   "source": [
    "from sklearn.model_selection import cross_validate\n",
    "from sklearn.metrics import accuracy_score"
   ]
  },
  {
   "cell_type": "code",
   "execution_count": 3,
   "metadata": {
    "ExecuteTime": {
     "end_time": "2019-02-17T11:46:50.383230Z",
     "start_time": "2019-02-17T11:46:50.341238Z"
    }
   },
   "outputs": [],
   "source": [
    "pima=pd.read_csv('/Users/ness001/Downloads/datas/diabetes.csv')"
   ]
  },
  {
   "cell_type": "code",
   "execution_count": 4,
   "metadata": {
    "ExecuteTime": {
     "end_time": "2019-02-17T11:46:50.396799Z",
     "start_time": "2019-02-17T11:46:50.386717Z"
    }
   },
   "outputs": [
    {
     "data": {
      "text/plain": [
       "Index(['Pregnancies', 'Glucose', 'BloodPressure', 'SkinThickness', 'Insulin',\n",
       "       'BMI', 'DiabetesPedigreeFunction', 'Age', 'Outcome'],\n",
       "      dtype='object')"
      ]
     },
     "execution_count": 4,
     "metadata": {},
     "output_type": "execute_result"
    }
   ],
   "source": [
    "pima.columns"
   ]
  },
  {
   "cell_type": "code",
   "execution_count": 5,
   "metadata": {
    "ExecuteTime": {
     "end_time": "2019-02-17T11:46:50.427954Z",
     "start_time": "2019-02-17T11:46:50.399341Z"
    }
   },
   "outputs": [],
   "source": [
    "X=pima[['Pregnancies', 'Glucose', 'BloodPressure', 'SkinThickness', 'Insulin',\n",
    "       'BMI', 'DiabetesPedigreeFunction', 'Age']]\n",
    "y=pima.Outcome"
   ]
  },
  {
   "cell_type": "code",
   "execution_count": 6,
   "metadata": {
    "ExecuteTime": {
     "end_time": "2019-02-17T11:46:50.436887Z",
     "start_time": "2019-02-17T11:46:50.429873Z"
    }
   },
   "outputs": [
    {
     "data": {
      "text/plain": [
       "(768, 9)"
      ]
     },
     "execution_count": 6,
     "metadata": {},
     "output_type": "execute_result"
    }
   ],
   "source": [
    "pima.shape"
   ]
  },
  {
   "cell_type": "markdown",
   "metadata": {},
   "source": [
    "# model"
   ]
  },
  {
   "cell_type": "code",
   "execution_count": 7,
   "metadata": {
    "ExecuteTime": {
     "end_time": "2019-02-17T11:46:50.442539Z",
     "start_time": "2019-02-17T11:46:50.438856Z"
    }
   },
   "outputs": [],
   "source": [
    "seed=0\n",
    "test_size=0.33"
   ]
  },
  {
   "cell_type": "code",
   "execution_count": 8,
   "metadata": {
    "ExecuteTime": {
     "end_time": "2019-02-17T11:46:50.447681Z",
     "start_time": "2019-02-17T11:46:50.444673Z"
    }
   },
   "outputs": [],
   "source": [
    "from sklearn.model_selection import train_test_split"
   ]
  },
  {
   "cell_type": "code",
   "execution_count": 9,
   "metadata": {
    "ExecuteTime": {
     "end_time": "2019-02-17T11:46:50.461222Z",
     "start_time": "2019-02-17T11:46:50.449662Z"
    }
   },
   "outputs": [],
   "source": [
    "X_train,X_test,y_train,y_test=train_test_split(X,y,test_size=test_size,random_state=seed)"
   ]
  },
  {
   "cell_type": "code",
   "execution_count": 10,
   "metadata": {
    "ExecuteTime": {
     "end_time": "2019-02-17T11:46:50.491590Z",
     "start_time": "2019-02-17T11:46:50.463046Z"
    }
   },
   "outputs": [],
   "source": [
    "import xgboost"
   ]
  },
  {
   "cell_type": "code",
   "execution_count": 11,
   "metadata": {
    "ExecuteTime": {
     "end_time": "2019-02-17T11:46:50.498609Z",
     "start_time": "2019-02-17T11:46:50.493803Z"
    }
   },
   "outputs": [],
   "source": [
    "model=xgboost.XGBClassifier()"
   ]
  },
  {
   "cell_type": "code",
   "execution_count": 12,
   "metadata": {
    "ExecuteTime": {
     "end_time": "2019-02-17T11:46:50.552119Z",
     "start_time": "2019-02-17T11:46:50.501447Z"
    }
   },
   "outputs": [
    {
     "name": "stdout",
     "output_type": "stream",
     "text": [
      "accuracy_score:0.763780\n"
     ]
    }
   ],
   "source": [
    "model.fit(X_train,y_train)\n",
    "y_pred=model.predict(X_test)\n",
    "print('accuracy_score:%f'%accuracy_score(y_pred,y_test))"
   ]
  },
  {
   "cell_type": "markdown",
   "metadata": {},
   "source": [
    "# 交叉验证 cross validate 不是 cross val score"
   ]
  },
  {
   "cell_type": "code",
   "execution_count": 13,
   "metadata": {
    "ExecuteTime": {
     "end_time": "2019-02-17T11:46:50.677565Z",
     "start_time": "2019-02-17T11:46:50.553797Z"
    }
   },
   "outputs": [
    {
     "data": {
      "text/plain": [
       "{'fit_time': array([0.03623605, 0.03360295, 0.03319025]),\n",
       " 'score_time': array([0.00207996, 0.00161195, 0.00161481]),\n",
       " 'test_score': array([0.75486381, 0.75390625, 0.81960784]),\n",
       " 'train_score': array([0.91193738, 0.91992188, 0.90643275])}"
      ]
     },
     "execution_count": 13,
     "metadata": {},
     "output_type": "execute_result"
    }
   ],
   "source": [
    "cross_validate(model,X,y,return_train_score=True,cv=3)\n",
    "#cv指的是测试的次数"
   ]
  },
  {
   "cell_type": "markdown",
   "metadata": {},
   "source": [
    "## no cv"
   ]
  },
  {
   "cell_type": "code",
   "execution_count": 14,
   "metadata": {
    "ExecuteTime": {
     "end_time": "2019-02-17T11:46:50.777622Z",
     "start_time": "2019-02-17T11:46:50.679758Z"
    }
   },
   "outputs": [
    {
     "name": "stderr",
     "output_type": "stream",
     "text": [
      "/Users/ness001/anaconda3/envs/pytorch/lib/python3.6/site-packages/sklearn/model_selection/_split.py:2053: FutureWarning: You should specify a value for 'cv' instead of relying on the default value. The default value will change from 3 to 5 in version 0.22.\n",
      "  warnings.warn(CV_WARNING, FutureWarning)\n"
     ]
    }
   ],
   "source": [
    "from sklearn.model_selection import cross_val_score\n",
    "cross_val_score=cross_val_score(model,X_train,y_train,scoring='accuracy')"
   ]
  },
  {
   "cell_type": "markdown",
   "metadata": {},
   "source": [
    "## cv=3"
   ]
  },
  {
   "cell_type": "code",
   "execution_count": 15,
   "metadata": {
    "ExecuteTime": {
     "end_time": "2019-02-17T11:46:50.869770Z",
     "start_time": "2019-02-17T11:46:50.779518Z"
    }
   },
   "outputs": [
    {
     "name": "stdout",
     "output_type": "stream",
     "text": [
      "[0.79651163 0.73684211 0.74269006]\n"
     ]
    }
   ],
   "source": [
    "from sklearn.model_selection import cross_val_score\n",
    "cross_val_score=cross_val_score(model,X_train,y_train,scoring='accuracy',cv=3)\n",
    "print(cross_val_score)"
   ]
  },
  {
   "cell_type": "markdown",
   "metadata": {},
   "source": [
    "## cv=kfold\n",
    "有坑。我们必须每次评估之间都加入from 语句"
   ]
  },
  {
   "cell_type": "code",
   "execution_count": 16,
   "metadata": {
    "ExecuteTime": {
     "end_time": "2019-02-17T11:46:50.875623Z",
     "start_time": "2019-02-17T11:46:50.871916Z"
    }
   },
   "outputs": [],
   "source": [
    "from sklearn.model_selection import KFold"
   ]
  },
  {
   "cell_type": "code",
   "execution_count": 17,
   "metadata": {
    "ExecuteTime": {
     "end_time": "2019-02-17T11:46:50.886192Z",
     "start_time": "2019-02-17T11:46:50.882637Z"
    }
   },
   "outputs": [],
   "source": [
    "kfold=KFold(n_splits=5,random_state=seed)"
   ]
  },
  {
   "cell_type": "code",
   "execution_count": 18,
   "metadata": {
    "ExecuteTime": {
     "end_time": "2019-02-17T11:46:51.063471Z",
     "start_time": "2019-02-17T11:46:50.892980Z"
    }
   },
   "outputs": [
    {
     "name": "stdout",
     "output_type": "stream",
     "text": [
      "[0.75728155 0.77669903 0.7961165  0.69902913 0.75490196]\n"
     ]
    }
   ],
   "source": [
    "from sklearn.model_selection import cross_val_score\n",
    "cross_val_score=cross_val_score(model,X_train,y_train,scoring='accuracy',cv=kfold)\n",
    "print(cross_val_score)"
   ]
  },
  {
   "cell_type": "code",
   "execution_count": 19,
   "metadata": {
    "ExecuteTime": {
     "end_time": "2019-02-17T11:46:51.068386Z",
     "start_time": "2019-02-17T11:46:51.065638Z"
    }
   },
   "outputs": [],
   "source": [
    "# grid search"
   ]
  },
  {
   "cell_type": "code",
   "execution_count": 20,
   "metadata": {
    "ExecuteTime": {
     "end_time": "2019-02-17T11:46:51.073510Z",
     "start_time": "2019-02-17T11:46:51.070696Z"
    }
   },
   "outputs": [],
   "source": [
    "param={'learning_rate':[0.1,0.3],'n_estimators':[30,50,80]}"
   ]
  },
  {
   "cell_type": "code",
   "execution_count": 21,
   "metadata": {
    "ExecuteTime": {
     "end_time": "2019-02-17T11:46:51.078450Z",
     "start_time": "2019-02-17T11:46:51.075273Z"
    }
   },
   "outputs": [],
   "source": [
    "from sklearn.model_selection import GridSearchCV"
   ]
  },
  {
   "cell_type": "code",
   "execution_count": 22,
   "metadata": {
    "ExecuteTime": {
     "end_time": "2019-02-17T11:46:51.083885Z",
     "start_time": "2019-02-17T11:46:51.080629Z"
    }
   },
   "outputs": [],
   "source": [
    "model_grid=GridSearchCV(model,param_grid=param,refit=True,verbose=2 )"
   ]
  },
  {
   "cell_type": "code",
   "execution_count": 23,
   "metadata": {
    "ExecuteTime": {
     "end_time": "2019-02-17T11:46:51.465922Z",
     "start_time": "2019-02-17T11:46:51.085772Z"
    }
   },
   "outputs": [
    {
     "name": "stdout",
     "output_type": "stream",
     "text": [
      "Fitting 3 folds for each of 6 candidates, totalling 18 fits\n",
      "[CV] learning_rate=0.1, n_estimators=30 ..............................\n",
      "[CV] ............... learning_rate=0.1, n_estimators=30, total=   0.0s\n",
      "[CV] learning_rate=0.1, n_estimators=30 ..............................\n",
      "[CV] ............... learning_rate=0.1, n_estimators=30, total=   0.0s\n",
      "[CV] learning_rate=0.1, n_estimators=30 ..............................\n",
      "[CV] ............... learning_rate=0.1, n_estimators=30, total=   0.0s\n",
      "[CV] learning_rate=0.1, n_estimators=50 ..............................\n",
      "[CV] ............... learning_rate=0.1, n_estimators=50, total=   0.0s\n",
      "[CV] learning_rate=0.1, n_estimators=50 ..............................\n",
      "[CV] ............... learning_rate=0.1, n_estimators=50, total=   0.0s\n",
      "[CV] learning_rate=0.1, n_estimators=50 ..............................\n",
      "[CV] ............... learning_rate=0.1, n_estimators=50, total=   0.0s\n",
      "[CV] learning_rate=0.1, n_estimators=80 ..............................\n",
      "[CV] ............... learning_rate=0.1, n_estimators=80, total=   0.0s\n",
      "[CV] learning_rate=0.1, n_estimators=80 ..............................\n",
      "[CV] ............... learning_rate=0.1, n_estimators=80, total=   0.0s\n",
      "[CV] learning_rate=0.1, n_estimators=80 ..............................\n",
      "[CV] ............... learning_rate=0.1, n_estimators=80, total=   0.0s\n",
      "[CV] learning_rate=0.3, n_estimators=30 ..............................\n"
     ]
    },
    {
     "name": "stderr",
     "output_type": "stream",
     "text": [
      "/Users/ness001/anaconda3/envs/pytorch/lib/python3.6/site-packages/sklearn/model_selection/_split.py:2053: FutureWarning: You should specify a value for 'cv' instead of relying on the default value. The default value will change from 3 to 5 in version 0.22.\n",
      "  warnings.warn(CV_WARNING, FutureWarning)\n",
      "[Parallel(n_jobs=1)]: Using backend SequentialBackend with 1 concurrent workers.\n",
      "[Parallel(n_jobs=1)]: Done   1 out of   1 | elapsed:    0.0s remaining:    0.0s\n"
     ]
    },
    {
     "name": "stdout",
     "output_type": "stream",
     "text": [
      "[CV] ............... learning_rate=0.3, n_estimators=30, total=   0.0s\n",
      "[CV] learning_rate=0.3, n_estimators=30 ..............................\n",
      "[CV] ............... learning_rate=0.3, n_estimators=30, total=   0.0s\n",
      "[CV] learning_rate=0.3, n_estimators=30 ..............................\n",
      "[CV] ............... learning_rate=0.3, n_estimators=30, total=   0.0s\n",
      "[CV] learning_rate=0.3, n_estimators=50 ..............................\n",
      "[CV] ............... learning_rate=0.3, n_estimators=50, total=   0.0s\n",
      "[CV] learning_rate=0.3, n_estimators=50 ..............................\n",
      "[CV] ............... learning_rate=0.3, n_estimators=50, total=   0.0s\n",
      "[CV] learning_rate=0.3, n_estimators=50 ..............................\n",
      "[CV] ............... learning_rate=0.3, n_estimators=50, total=   0.0s\n",
      "[CV] learning_rate=0.3, n_estimators=80 ..............................\n",
      "[CV] ............... learning_rate=0.3, n_estimators=80, total=   0.0s\n",
      "[CV] learning_rate=0.3, n_estimators=80 ..............................\n",
      "[CV] ............... learning_rate=0.3, n_estimators=80, total=   0.0s\n",
      "[CV] learning_rate=0.3, n_estimators=80 ..............................\n",
      "[CV] ............... learning_rate=0.3, n_estimators=80, total=   0.0s\n"
     ]
    },
    {
     "name": "stderr",
     "output_type": "stream",
     "text": [
      "[Parallel(n_jobs=1)]: Done  18 out of  18 | elapsed:    0.3s finished\n"
     ]
    },
    {
     "data": {
      "text/plain": [
       "GridSearchCV(cv='warn', error_score='raise-deprecating',\n",
       "       estimator=XGBClassifier(base_score=0.5, booster='gbtree', colsample_bylevel=1,\n",
       "       colsample_bytree=1, gamma=0, learning_rate=0.1, max_delta_step=0,\n",
       "       max_depth=3, min_child_weight=1, missing=None, n_estimators=100,\n",
       "       n_jobs=1, nthread=None, objective='binary:logistic', random_state=0,\n",
       "       reg_alpha=0, reg_lambda=1, scale_pos_weight=1, seed=None,\n",
       "       silent=True, subsample=1),\n",
       "       fit_params=None, iid='warn', n_jobs=None,\n",
       "       param_grid={'learning_rate': [0.1, 0.3], 'n_estimators': [30, 50, 80]},\n",
       "       pre_dispatch='2*n_jobs', refit=True, return_train_score='warn',\n",
       "       scoring=None, verbose=2)"
      ]
     },
     "execution_count": 23,
     "metadata": {},
     "output_type": "execute_result"
    }
   ],
   "source": [
    "model_grid.fit(X_train,y_train)"
   ]
  },
  {
   "cell_type": "markdown",
   "metadata": {},
   "source": [
    "# 网格搜索最优参数，kfold交叉验证分数评估"
   ]
  },
  {
   "cell_type": "code",
   "execution_count": 24,
   "metadata": {
    "ExecuteTime": {
     "end_time": "2019-02-17T11:46:53.072240Z",
     "start_time": "2019-02-17T11:46:51.468028Z"
    }
   },
   "outputs": [
    {
     "name": "stdout",
     "output_type": "stream",
     "text": [
      "0.7637795275590551\n",
      "Fitting 3 folds for each of 6 candidates, totalling 18 fits\n",
      "[CV] learning_rate=0.1, n_estimators=30 ..............................\n",
      "[CV] ............... learning_rate=0.1, n_estimators=30, total=   0.0s\n",
      "[CV] learning_rate=0.1, n_estimators=30 ..............................\n"
     ]
    },
    {
     "name": "stderr",
     "output_type": "stream",
     "text": [
      "/Users/ness001/anaconda3/envs/pytorch/lib/python3.6/site-packages/sklearn/model_selection/_split.py:2053: FutureWarning: You should specify a value for 'cv' instead of relying on the default value. The default value will change from 3 to 5 in version 0.22.\n",
      "  warnings.warn(CV_WARNING, FutureWarning)\n",
      "[Parallel(n_jobs=1)]: Using backend SequentialBackend with 1 concurrent workers.\n",
      "[Parallel(n_jobs=1)]: Done   1 out of   1 | elapsed:    0.0s remaining:    0.0s\n"
     ]
    },
    {
     "name": "stdout",
     "output_type": "stream",
     "text": [
      "[CV] ............... learning_rate=0.1, n_estimators=30, total=   0.0s\n",
      "[CV] learning_rate=0.1, n_estimators=30 ..............................\n",
      "[CV] ............... learning_rate=0.1, n_estimators=30, total=   0.0s\n",
      "[CV] learning_rate=0.1, n_estimators=50 ..............................\n",
      "[CV] ............... learning_rate=0.1, n_estimators=50, total=   0.0s\n",
      "[CV] learning_rate=0.1, n_estimators=50 ..............................\n",
      "[CV] ............... learning_rate=0.1, n_estimators=50, total=   0.0s\n",
      "[CV] learning_rate=0.1, n_estimators=50 ..............................\n",
      "[CV] ............... learning_rate=0.1, n_estimators=50, total=   0.0s\n",
      "[CV] learning_rate=0.1, n_estimators=80 ..............................\n",
      "[CV] ............... learning_rate=0.1, n_estimators=80, total=   0.0s\n",
      "[CV] learning_rate=0.1, n_estimators=80 ..............................\n",
      "[CV] ............... learning_rate=0.1, n_estimators=80, total=   0.0s\n",
      "[CV] learning_rate=0.1, n_estimators=80 ..............................\n",
      "[CV] ............... learning_rate=0.1, n_estimators=80, total=   0.0s\n",
      "[CV] learning_rate=0.3, n_estimators=30 ..............................\n",
      "[CV] ............... learning_rate=0.3, n_estimators=30, total=   0.0s\n",
      "[CV] learning_rate=0.3, n_estimators=30 ..............................\n",
      "[CV] ............... learning_rate=0.3, n_estimators=30, total=   0.0s\n",
      "[CV] learning_rate=0.3, n_estimators=30 ..............................\n",
      "[CV] ............... learning_rate=0.3, n_estimators=30, total=   0.0s\n",
      "[CV] learning_rate=0.3, n_estimators=50 ..............................\n",
      "[CV] ............... learning_rate=0.3, n_estimators=50, total=   0.0s\n",
      "[CV] learning_rate=0.3, n_estimators=50 ..............................\n",
      "[CV] ............... learning_rate=0.3, n_estimators=50, total=   0.0s\n",
      "[CV] learning_rate=0.3, n_estimators=50 ..............................\n",
      "[CV] ............... learning_rate=0.3, n_estimators=50, total=   0.0s\n",
      "[CV] learning_rate=0.3, n_estimators=80 ..............................\n",
      "[CV] ............... learning_rate=0.3, n_estimators=80, total=   0.0s\n",
      "[CV] learning_rate=0.3, n_estimators=80 ..............................\n",
      "[CV] ............... learning_rate=0.3, n_estimators=80, total=   0.0s\n",
      "[CV] learning_rate=0.3, n_estimators=80 ..............................\n",
      "[CV] ............... learning_rate=0.3, n_estimators=80, total=   0.0s\n",
      "Fitting 3 folds for each of 6 candidates, totalling 18 fits\n",
      "[CV] learning_rate=0.1, n_estimators=30 ..............................\n",
      "[CV] ............... learning_rate=0.1, n_estimators=30, total=   0.0s\n",
      "[CV] learning_rate=0.1, n_estimators=30 ..............................\n",
      "[CV] ............... learning_rate=0.1, n_estimators=30, total=   0.0s\n",
      "[CV] learning_rate=0.1, n_estimators=30 ..............................\n",
      "[CV] ............... learning_rate=0.1, n_estimators=30, total=   0.0s\n",
      "[CV] learning_rate=0.1, n_estimators=50 ..............................\n",
      "[CV] ............... learning_rate=0.1, n_estimators=50, total=   0.0s\n",
      "[CV] learning_rate=0.1, n_estimators=50 ..............................\n",
      "[CV] ............... learning_rate=0.1, n_estimators=50, total=   0.0s\n",
      "[CV] learning_rate=0.1, n_estimators=50 ..............................\n",
      "[CV] ............... learning_rate=0.1, n_estimators=50, total=   0.0s\n",
      "[CV] learning_rate=0.1, n_estimators=80 ..............................\n",
      "[CV] ............... learning_rate=0.1, n_estimators=80, total=   0.0s\n",
      "[CV] learning_rate=0.1, n_estimators=80 ..............................\n",
      "[CV] ............... learning_rate=0.1, n_estimators=80, total=   0.0s\n",
      "[CV] learning_rate=0.1, n_estimators=80 ..............................\n"
     ]
    },
    {
     "name": "stderr",
     "output_type": "stream",
     "text": [
      "[Parallel(n_jobs=1)]: Done  18 out of  18 | elapsed:    0.3s finished\n",
      "/Users/ness001/anaconda3/envs/pytorch/lib/python3.6/site-packages/sklearn/model_selection/_split.py:2053: FutureWarning: You should specify a value for 'cv' instead of relying on the default value. The default value will change from 3 to 5 in version 0.22.\n",
      "  warnings.warn(CV_WARNING, FutureWarning)\n",
      "[Parallel(n_jobs=1)]: Using backend SequentialBackend with 1 concurrent workers.\n",
      "[Parallel(n_jobs=1)]: Done   1 out of   1 | elapsed:    0.0s remaining:    0.0s\n"
     ]
    },
    {
     "name": "stdout",
     "output_type": "stream",
     "text": [
      "[CV] ............... learning_rate=0.1, n_estimators=80, total=   0.0s\n",
      "[CV] learning_rate=0.3, n_estimators=30 ..............................\n",
      "[CV] ............... learning_rate=0.3, n_estimators=30, total=   0.0s\n",
      "[CV] learning_rate=0.3, n_estimators=30 ..............................\n",
      "[CV] ............... learning_rate=0.3, n_estimators=30, total=   0.0s\n",
      "[CV] learning_rate=0.3, n_estimators=30 ..............................\n",
      "[CV] ............... learning_rate=0.3, n_estimators=30, total=   0.0s\n",
      "[CV] learning_rate=0.3, n_estimators=50 ..............................\n",
      "[CV] ............... learning_rate=0.3, n_estimators=50, total=   0.0s\n",
      "[CV] learning_rate=0.3, n_estimators=50 ..............................\n",
      "[CV] ............... learning_rate=0.3, n_estimators=50, total=   0.0s\n",
      "[CV] learning_rate=0.3, n_estimators=50 ..............................\n",
      "[CV] ............... learning_rate=0.3, n_estimators=50, total=   0.0s\n",
      "[CV] learning_rate=0.3, n_estimators=80 ..............................\n",
      "[CV] ............... learning_rate=0.3, n_estimators=80, total=   0.0s\n",
      "[CV] learning_rate=0.3, n_estimators=80 ..............................\n",
      "[CV] ............... learning_rate=0.3, n_estimators=80, total=   0.0s\n",
      "[CV] learning_rate=0.3, n_estimators=80 ..............................\n",
      "[CV] ............... learning_rate=0.3, n_estimators=80, total=   0.0s\n",
      "Fitting 3 folds for each of 6 candidates, totalling 18 fits\n",
      "[CV] learning_rate=0.1, n_estimators=30 ..............................\n",
      "[CV] ............... learning_rate=0.1, n_estimators=30, total=   0.0s\n",
      "[CV] learning_rate=0.1, n_estimators=30 ..............................\n",
      "[CV] ............... learning_rate=0.1, n_estimators=30, total=   0.0s\n",
      "[CV] learning_rate=0.1, n_estimators=30 ..............................\n",
      "[CV] ............... learning_rate=0.1, n_estimators=30, total=   0.0s\n",
      "[CV] learning_rate=0.1, n_estimators=50 ..............................\n"
     ]
    },
    {
     "name": "stderr",
     "output_type": "stream",
     "text": [
      "[Parallel(n_jobs=1)]: Done  18 out of  18 | elapsed:    0.3s finished\n",
      "/Users/ness001/anaconda3/envs/pytorch/lib/python3.6/site-packages/sklearn/model_selection/_split.py:2053: FutureWarning: You should specify a value for 'cv' instead of relying on the default value. The default value will change from 3 to 5 in version 0.22.\n",
      "  warnings.warn(CV_WARNING, FutureWarning)\n",
      "[Parallel(n_jobs=1)]: Using backend SequentialBackend with 1 concurrent workers.\n",
      "[Parallel(n_jobs=1)]: Done   1 out of   1 | elapsed:    0.0s remaining:    0.0s\n"
     ]
    },
    {
     "name": "stdout",
     "output_type": "stream",
     "text": [
      "[CV] ............... learning_rate=0.1, n_estimators=50, total=   0.0s\n",
      "[CV] learning_rate=0.1, n_estimators=50 ..............................\n",
      "[CV] ............... learning_rate=0.1, n_estimators=50, total=   0.0s\n",
      "[CV] learning_rate=0.1, n_estimators=50 ..............................\n",
      "[CV] ............... learning_rate=0.1, n_estimators=50, total=   0.0s\n",
      "[CV] learning_rate=0.1, n_estimators=80 ..............................\n",
      "[CV] ............... learning_rate=0.1, n_estimators=80, total=   0.0s\n",
      "[CV] learning_rate=0.1, n_estimators=80 ..............................\n",
      "[CV] ............... learning_rate=0.1, n_estimators=80, total=   0.0s\n",
      "[CV] learning_rate=0.1, n_estimators=80 ..............................\n",
      "[CV] ............... learning_rate=0.1, n_estimators=80, total=   0.0s\n",
      "[CV] learning_rate=0.3, n_estimators=30 ..............................\n",
      "[CV] ............... learning_rate=0.3, n_estimators=30, total=   0.0s\n",
      "[CV] learning_rate=0.3, n_estimators=30 ..............................\n",
      "[CV] ............... learning_rate=0.3, n_estimators=30, total=   0.0s\n",
      "[CV] learning_rate=0.3, n_estimators=30 ..............................\n",
      "[CV] ............... learning_rate=0.3, n_estimators=30, total=   0.0s\n",
      "[CV] learning_rate=0.3, n_estimators=50 ..............................\n",
      "[CV] ............... learning_rate=0.3, n_estimators=50, total=   0.0s\n",
      "[CV] learning_rate=0.3, n_estimators=50 ..............................\n",
      "[CV] ............... learning_rate=0.3, n_estimators=50, total=   0.0s\n",
      "[CV] learning_rate=0.3, n_estimators=50 ..............................\n",
      "[CV] ............... learning_rate=0.3, n_estimators=50, total=   0.0s\n",
      "[CV] learning_rate=0.3, n_estimators=80 ..............................\n",
      "[CV] ............... learning_rate=0.3, n_estimators=80, total=   0.0s\n",
      "[CV] learning_rate=0.3, n_estimators=80 ..............................\n",
      "[CV] ............... learning_rate=0.3, n_estimators=80, total=   0.0s\n",
      "[CV] learning_rate=0.3, n_estimators=80 ..............................\n",
      "[CV] ............... learning_rate=0.3, n_estimators=80, total=   0.0s\n",
      "Fitting 3 folds for each of 6 candidates, totalling 18 fits\n",
      "[CV] learning_rate=0.1, n_estimators=30 ..............................\n",
      "[CV] ............... learning_rate=0.1, n_estimators=30, total=   0.0s\n",
      "[CV] learning_rate=0.1, n_estimators=30 ..............................\n",
      "[CV] ............... learning_rate=0.1, n_estimators=30, total=   0.0s\n",
      "[CV] learning_rate=0.1, n_estimators=30 ..............................\n",
      "[CV] ............... learning_rate=0.1, n_estimators=30, total=   0.0s\n",
      "[CV] learning_rate=0.1, n_estimators=50 ..............................\n",
      "[CV] ............... learning_rate=0.1, n_estimators=50, total=   0.0s\n",
      "[CV] learning_rate=0.1, n_estimators=50 ..............................\n",
      "[CV] ............... learning_rate=0.1, n_estimators=50, total=   0.0s\n",
      "[CV] learning_rate=0.1, n_estimators=50 ..............................\n",
      "[CV] ............... learning_rate=0.1, n_estimators=50, total=   0.0s\n",
      "[CV] learning_rate=0.1, n_estimators=80 ..............................\n",
      "[CV] ............... learning_rate=0.1, n_estimators=80, total=   0.0s\n",
      "[CV] learning_rate=0.1, n_estimators=80 ..............................\n",
      "[CV] ............... learning_rate=0.1, n_estimators=80, total=   0.0s\n",
      "[CV] learning_rate=0.1, n_estimators=80 ..............................\n",
      "[CV] ............... learning_rate=0.1, n_estimators=80, total=   0.0s\n",
      "[CV] learning_rate=0.3, n_estimators=30 ..............................\n"
     ]
    },
    {
     "name": "stderr",
     "output_type": "stream",
     "text": [
      "[Parallel(n_jobs=1)]: Done  18 out of  18 | elapsed:    0.3s finished\n",
      "/Users/ness001/anaconda3/envs/pytorch/lib/python3.6/site-packages/sklearn/model_selection/_split.py:2053: FutureWarning: You should specify a value for 'cv' instead of relying on the default value. The default value will change from 3 to 5 in version 0.22.\n",
      "  warnings.warn(CV_WARNING, FutureWarning)\n",
      "[Parallel(n_jobs=1)]: Using backend SequentialBackend with 1 concurrent workers.\n",
      "[Parallel(n_jobs=1)]: Done   1 out of   1 | elapsed:    0.0s remaining:    0.0s\n"
     ]
    },
    {
     "name": "stdout",
     "output_type": "stream",
     "text": [
      "[CV] ............... learning_rate=0.3, n_estimators=30, total=   0.0s\n",
      "[CV] learning_rate=0.3, n_estimators=30 ..............................\n",
      "[CV] ............... learning_rate=0.3, n_estimators=30, total=   0.0s\n",
      "[CV] learning_rate=0.3, n_estimators=30 ..............................\n",
      "[CV] ............... learning_rate=0.3, n_estimators=30, total=   0.0s\n",
      "[CV] learning_rate=0.3, n_estimators=50 ..............................\n",
      "[CV] ............... learning_rate=0.3, n_estimators=50, total=   0.0s\n",
      "[CV] learning_rate=0.3, n_estimators=50 ..............................\n",
      "[CV] ............... learning_rate=0.3, n_estimators=50, total=   0.0s\n",
      "[CV] learning_rate=0.3, n_estimators=50 ..............................\n",
      "[CV] ............... learning_rate=0.3, n_estimators=50, total=   0.0s\n",
      "[CV] learning_rate=0.3, n_estimators=80 ..............................\n",
      "[CV] ............... learning_rate=0.3, n_estimators=80, total=   0.0s\n",
      "[CV] learning_rate=0.3, n_estimators=80 ..............................\n",
      "[CV] ............... learning_rate=0.3, n_estimators=80, total=   0.0s\n",
      "[CV] learning_rate=0.3, n_estimators=80 ..............................\n",
      "[CV] ............... learning_rate=0.3, n_estimators=80, total=   0.0s\n",
      "Fitting 3 folds for each of 6 candidates, totalling 18 fits\n",
      "[CV] learning_rate=0.1, n_estimators=30 ..............................\n",
      "[CV] ............... learning_rate=0.1, n_estimators=30, total=   0.0s\n",
      "[CV] learning_rate=0.1, n_estimators=30 ..............................\n",
      "[CV] ............... learning_rate=0.1, n_estimators=30, total=   0.0s\n",
      "[CV] learning_rate=0.1, n_estimators=30 ..............................\n",
      "[CV] ............... learning_rate=0.1, n_estimators=30, total=   0.0s\n",
      "[CV] learning_rate=0.1, n_estimators=50 ..............................\n",
      "[CV] ............... learning_rate=0.1, n_estimators=50, total=   0.0s\n",
      "[CV] learning_rate=0.1, n_estimators=50 ..............................\n",
      "[CV] ............... learning_rate=0.1, n_estimators=50, total=   0.0s\n",
      "[CV] learning_rate=0.1, n_estimators=50 ..............................\n",
      "[CV] ............... learning_rate=0.1, n_estimators=50, total=   0.0s\n",
      "[CV] learning_rate=0.1, n_estimators=80 ..............................\n",
      "[CV] ............... learning_rate=0.1, n_estimators=80, total=   0.0s\n",
      "[CV] learning_rate=0.1, n_estimators=80 ..............................\n",
      "[CV] ............... learning_rate=0.1, n_estimators=80, total=   0.0s\n",
      "[CV] learning_rate=0.1, n_estimators=80 ..............................\n",
      "[CV] ............... learning_rate=0.1, n_estimators=80, total=   0.0s\n",
      "[CV] learning_rate=0.3, n_estimators=30 ..............................\n",
      "[CV] ............... learning_rate=0.3, n_estimators=30, total=   0.0s\n",
      "[CV] learning_rate=0.3, n_estimators=30 ..............................\n",
      "[CV] ............... learning_rate=0.3, n_estimators=30, total=   0.0s\n",
      "[CV] learning_rate=0.3, n_estimators=30 ..............................\n"
     ]
    },
    {
     "name": "stderr",
     "output_type": "stream",
     "text": [
      "[Parallel(n_jobs=1)]: Done  18 out of  18 | elapsed:    0.3s finished\n",
      "/Users/ness001/anaconda3/envs/pytorch/lib/python3.6/site-packages/sklearn/model_selection/_split.py:2053: FutureWarning: You should specify a value for 'cv' instead of relying on the default value. The default value will change from 3 to 5 in version 0.22.\n",
      "  warnings.warn(CV_WARNING, FutureWarning)\n",
      "[Parallel(n_jobs=1)]: Using backend SequentialBackend with 1 concurrent workers.\n",
      "[Parallel(n_jobs=1)]: Done   1 out of   1 | elapsed:    0.0s remaining:    0.0s\n"
     ]
    },
    {
     "name": "stdout",
     "output_type": "stream",
     "text": [
      "[CV] ............... learning_rate=0.3, n_estimators=30, total=   0.0s\n",
      "[CV] learning_rate=0.3, n_estimators=50 ..............................\n",
      "[CV] ............... learning_rate=0.3, n_estimators=50, total=   0.0s\n",
      "[CV] learning_rate=0.3, n_estimators=50 ..............................\n",
      "[CV] ............... learning_rate=0.3, n_estimators=50, total=   0.0s\n",
      "[CV] learning_rate=0.3, n_estimators=50 ..............................\n",
      "[CV] ............... learning_rate=0.3, n_estimators=50, total=   0.0s\n",
      "[CV] learning_rate=0.3, n_estimators=80 ..............................\n",
      "[CV] ............... learning_rate=0.3, n_estimators=80, total=   0.0s\n",
      "[CV] learning_rate=0.3, n_estimators=80 ..............................\n",
      "[CV] ............... learning_rate=0.3, n_estimators=80, total=   0.0s\n",
      "[CV] learning_rate=0.3, n_estimators=80 ..............................\n",
      "[CV] ............... learning_rate=0.3, n_estimators=80, total=   0.0s\n",
      "[0.74757282 0.77669903 0.78640777 0.67961165 0.79411765]\n"
     ]
    },
    {
     "name": "stderr",
     "output_type": "stream",
     "text": [
      "[Parallel(n_jobs=1)]: Done  18 out of  18 | elapsed:    0.3s finished\n"
     ]
    }
   ],
   "source": [
    "y_grid_preds=model_grid.predict(X_test)\n",
    "print(accuracy_score(y_grid_preds,y_test))\n",
    "\n",
    "from sklearn.model_selection import cross_val_score\n",
    "crossk=cross_val_score(model_grid,X_train,y_train,scoring='accuracy',cv=kfold)\n",
    "print(crossk)"
   ]
  },
  {
   "cell_type": "markdown",
   "metadata": {},
   "source": [
    "# 获得最优参数"
   ]
  },
  {
   "cell_type": "code",
   "execution_count": 25,
   "metadata": {
    "ExecuteTime": {
     "end_time": "2019-02-17T11:46:53.078611Z",
     "start_time": "2019-02-17T11:46:53.074476Z"
    }
   },
   "outputs": [
    {
     "data": {
      "text/plain": [
       "{'learning_rate': 0.1, 'n_estimators': 80}"
      ]
     },
     "execution_count": 25,
     "metadata": {},
     "output_type": "execute_result"
    }
   ],
   "source": [
    "model_grid.best_params_"
   ]
  },
  {
   "cell_type": "markdown",
   "metadata": {},
   "source": [
    "# 分类报告 classification report"
   ]
  },
  {
   "cell_type": "markdown",
   "metadata": {},
   "source": [
    "从效果上来看，xgboost效果也就如此了，使用网格搜索得到的参数评估结果还是如此，可见xgboost可能不太需要调参可能获得较好的结果。比上一个学习文档svc效果好太多了。\n"
   ]
  },
  {
   "cell_type": "code",
   "execution_count": 26,
   "metadata": {
    "ExecuteTime": {
     "end_time": "2019-02-17T11:46:53.087409Z",
     "start_time": "2019-02-17T11:46:53.081093Z"
    }
   },
   "outputs": [
    {
     "name": "stdout",
     "output_type": "stream",
     "text": [
      "              precision    recall  f1-score   support\n",
      "\n",
      "           0       0.80      0.86      0.83       170\n",
      "           1       0.67      0.56      0.61        84\n",
      "\n",
      "   micro avg       0.76      0.76      0.76       254\n",
      "   macro avg       0.74      0.71      0.72       254\n",
      "weighted avg       0.76      0.76      0.76       254\n",
      "\n"
     ]
    }
   ],
   "source": [
    "from sklearn.metrics import classification_report\n",
    "print(classification_report(y_test,y_grid_preds))"
   ]
  },
  {
   "cell_type": "markdown",
   "metadata": {},
   "source": [
    "# 混淆矩阵"
   ]
  },
  {
   "cell_type": "code",
   "execution_count": 27,
   "metadata": {
    "ExecuteTime": {
     "end_time": "2019-02-17T11:46:53.677239Z",
     "start_time": "2019-02-17T11:46:53.089443Z"
    }
   },
   "outputs": [
    {
     "data": {
      "text/plain": [
       "<matplotlib.axes._subplots.AxesSubplot at 0x11a1844a8>"
      ]
     },
     "execution_count": 27,
     "metadata": {},
     "output_type": "execute_result"
    }
   ],
   "source": [
    "from sklearn.metrics import confusion_matrix\n",
    "import seaborn as sns\n",
    "confusion_matrix=confusion_matrix(y_test,y_grid_preds)\n",
    "sns.heatmap(data=confusion_matrix,annot=True)"
   ]
  },
  {
   "cell_type": "code",
   "execution_count": 28,
   "metadata": {
    "ExecuteTime": {
     "end_time": "2019-02-17T11:46:53.683379Z",
     "start_time": "2019-02-17T11:46:53.679589Z"
    }
   },
   "outputs": [
    {
     "name": "stdout",
     "output_type": "stream",
     "text": [
      "[[147  23]\n",
      " [ 37  47]]\n"
     ]
    }
   ],
   "source": [
    "print(confusion_matrix)"
   ]
  },
  {
   "cell_type": "markdown",
   "metadata": {
    "ExecuteTime": {
     "end_time": "2019-02-17T10:58:10.755754Z",
     "start_time": "2019-02-17T10:57:38.396604Z"
    }
   },
   "source": [
    "# xgboost自带特征重要程度排序"
   ]
  },
  {
   "cell_type": "code",
   "execution_count": 29,
   "metadata": {
    "ExecuteTime": {
     "end_time": "2019-02-17T11:46:53.883320Z",
     "start_time": "2019-02-17T11:46:53.685516Z"
    }
   },
   "outputs": [
    {
     "data": {
      "image/png": "[encoded data removed]",
      "text/plain": [
       "<Figure size 432x288 with 1 Axes>"
      ]
     },
     "metadata": {
      "needs_background": "light"
     },
     "output_type": "display_data"
    }
   ],
   "source": [
    "from xgboost import plot_importance\n",
    "import matplotlib.pyplot as plt\n",
    "\n",
    "model_new=xgboost.XGBClassifier(learning_rate=0.1,n_estimators=80)\n",
    "model_new.fit(X_train,y_train)\n",
    "plot_importance(model_new)\n",
    "plt.show()"
   ]
  },
  {
   "cell_type": "markdown",
   "metadata": {},
   "source": [
    "# ?others"
   ]
  },
  {
   "cell_type": "code",
   "execution_count": 32,
   "metadata": {
    "ExecuteTime": {
     "end_time": "2019-02-17T11:49:00.136282Z",
     "start_time": "2019-02-17T11:49:00.132259Z"
    }
   },
   "outputs": [],
   "source": [
    "from sklearn.ensemble import RandomForestClassifier"
   ]
  },
  {
   "cell_type": "code",
   "execution_count": null,
   "metadata": {},
   "outputs": [],
   "source": [
    "from sklearn.ensemble import RandomForestRegressor"
   ]
  },
  {
   "cell_type": "code",
   "execution_count": null,
   "metadata": {},
   "outputs": [],
   "source": [
    "from sklearn.ensemble import AdaBoostClassifier"
   ]
  },
  {
   "cell_type": "code",
   "execution_count": null,
   "metadata": {},
   "outputs": [],
   "source": [
    "from sklearn.ensemble import AdaBoostRegressor"
   ]
  }
 ],
 "metadata": {
  "hide_input": false,
  "kernelspec": {
   "display_name": "Python 3",
   "language": "python",
   "name": "python3"
  },
  "language_info": {
   "codemirror_mode": {
    "name": "ipython",
    "version": 3
   },
   "file_extension": ".py",
   "mimetype": "text/x-python",
   "name": "python",
   "nbconvert_exporter": "python",
   "pygments_lexer": "ipython3",
   "version": "3.6.7"
  },
  "toc": {
   "base_numbering": 1,
   "nav_menu": {},
   "number_sections": true,
   "sideBar": true,
   "skip_h1_title": false,
   "title_cell": "Table of Contents",
   "title_sidebar": "Contents",
   "toc_cell": false,
   "toc_position": {},
   "toc_section_display": true,
   "toc_window_display": true
  },
  "varInspector": {
   "cols": {
    "lenName": 16,
    "lenType": 16,
    "lenVar": 40
   },
   "kernels_config": {
    "python": {
     "delete_cmd_postfix": "",
     "delete_cmd_prefix": "del ",
     "library": "var_list.py",
     "varRefreshCmd": "print(var_dic_list())"
    },
    "r": {
     "delete_cmd_postfix": ") ",
     "delete_cmd_prefix": "rm(",
     "library": "var_list.r",
     "varRefreshCmd": "cat(var_dic_list()) "
    }
   },
   "types_to_exclude": [
    "module",
    "function",
    "builtin_function_or_method",
    "instance",
    "_Feature"
   ],
   "window_display": false
  }
 },
 "nbformat": 4,
 "nbformat_minor": 2
}
