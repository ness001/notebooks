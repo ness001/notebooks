{
 "cells": [
  {
   "cell_type": "code",
   "execution_count": 26,
   "metadata": {
    "ExecuteTime": {
     "end_time": "2019-04-26T12:11:45.272490Z",
     "start_time": "2019-04-26T12:11:44.701121Z"
    }
   },
   "outputs": [],
   "source": [
    "score=pd.read_csv('/Users/ness001/ds/code_data/nba-players-stats/Seasons_Stats.csv',index_col=['Player'])"
   ]
  },
  {
   "cell_type": "code",
   "execution_count": 27,
   "metadata": {
    "ExecuteTime": {
     "end_time": "2019-04-26T12:11:45.472028Z",
     "start_time": "2019-04-26T12:11:45.421442Z"
    }
   },
   "outputs": [
    {
     "data": {
      "text/plain": [
       "Index(['Unnamed: 0', 'Year', 'Pos', 'Age', 'Tm', 'G', 'GS', 'MP', 'PER', 'TS%',\n",
       "       '3PAr', 'FTr', 'ORB%', 'DRB%', 'TRB%', 'AST%', 'STL%', 'BLK%', 'TOV%',\n",
       "       'USG%', 'blanl', 'OWS', 'DWS', 'WS', 'WS/48', 'blank2', 'OBPM', 'DBPM',\n",
       "       'BPM', 'VORP', 'FG', 'FGA', 'FG%', '3P', '3PA', '3P%', '2P', '2PA',\n",
       "       '2P%', 'eFG%', 'FT', 'FTA', 'FT%', 'ORB', 'DRB', 'TRB', 'AST', 'STL',\n",
       "       'BLK', 'TOV', 'PF', 'PTS'],\n",
       "      dtype='object')"
      ]
     },
     "execution_count": 27,
     "metadata": {},
     "output_type": "execute_result"
    }
   ],
   "source": [
    "score.columns"
   ]
  },
  {
   "cell_type": "code",
   "execution_count": 28,
   "metadata": {
    "ExecuteTime": {
     "end_time": "2019-04-26T12:11:45.665520Z",
     "start_time": "2019-04-26T12:11:45.621550Z"
    }
   },
   "outputs": [],
   "source": [
    "score=score[['PTS','AST','TRB','PF']]"
   ]
  },
  {
   "cell_type": "code",
   "execution_count": 29,
   "metadata": {
    "ExecuteTime": {
     "end_time": "2019-04-26T12:11:46.157250Z",
     "start_time": "2019-04-26T12:11:46.072734Z"
    }
   },
   "outputs": [
    {
     "data": {
      "text/html": [
       "<div>\n",
       "<style scoped>\n",
       "    .dataframe tbody tr th:only-of-type {\n",
       "        vertical-align: middle;\n",
       "    }\n",
       "\n",
       "    .dataframe tbody tr th {\n",
       "        vertical-align: top;\n",
       "    }\n",
       "\n",
       "    .dataframe thead th {\n",
       "        text-align: right;\n",
       "    }\n",
       "</style>\n",
       "<table border=\"1\" class=\"dataframe\">\n",
       "  <thead>\n",
       "    <tr style=\"text-align: right;\">\n",
       "      <th></th>\n",
       "      <th>PTS</th>\n",
       "      <th>AST</th>\n",
       "      <th>TRB</th>\n",
       "      <th>PF</th>\n",
       "    </tr>\n",
       "    <tr>\n",
       "      <th>Player</th>\n",
       "      <th></th>\n",
       "      <th></th>\n",
       "      <th></th>\n",
       "      <th></th>\n",
       "    </tr>\n",
       "  </thead>\n",
       "  <tbody>\n",
       "    <tr>\n",
       "      <th>Gus Gerard</th>\n",
       "      <td>415.0</td>\n",
       "      <td>53.0</td>\n",
       "      <td>160.0</td>\n",
       "      <td>109.0</td>\n",
       "    </tr>\n",
       "    <tr>\n",
       "      <th>Ben Warley</th>\n",
       "      <td>384.0</td>\n",
       "      <td>51.0</td>\n",
       "      <td>325.0</td>\n",
       "      <td>176.0</td>\n",
       "    </tr>\n",
       "    <tr>\n",
       "      <th>Arnie Risen*</th>\n",
       "      <td>1077.0</td>\n",
       "      <td>158.0</td>\n",
       "      <td>795.0</td>\n",
       "      <td>278.0</td>\n",
       "    </tr>\n",
       "  </tbody>\n",
       "</table>\n",
       "</div>"
      ],
      "text/plain": [
       "                 PTS    AST    TRB     PF\n",
       "Player                                   \n",
       "Gus Gerard     415.0   53.0  160.0  109.0\n",
       "Ben Warley     384.0   51.0  325.0  176.0\n",
       "Arnie Risen*  1077.0  158.0  795.0  278.0"
      ]
     },
     "execution_count": 29,
     "metadata": {},
     "output_type": "execute_result"
    }
   ],
   "source": [
    "score.sample(3)"
   ]
  },
  {
   "cell_type": "code",
   "execution_count": 37,
   "metadata": {
    "ExecuteTime": {
     "end_time": "2019-04-26T12:18:17.387629Z",
     "start_time": "2019-04-26T12:18:17.329047Z"
    }
   },
   "outputs": [
    {
     "data": {
      "text/html": [
       "<div>\n",
       "<style scoped>\n",
       "    .dataframe tbody tr th:only-of-type {\n",
       "        vertical-align: middle;\n",
       "    }\n",
       "\n",
       "    .dataframe tbody tr th {\n",
       "        vertical-align: top;\n",
       "    }\n",
       "\n",
       "    .dataframe thead th {\n",
       "        text-align: right;\n",
       "    }\n",
       "</style>\n",
       "<table border=\"1\" class=\"dataframe\">\n",
       "  <thead>\n",
       "    <tr style=\"text-align: right;\">\n",
       "      <th></th>\n",
       "      <th>PTS</th>\n",
       "      <th>AST</th>\n",
       "      <th>TRB</th>\n",
       "      <th>PF</th>\n",
       "    </tr>\n",
       "    <tr>\n",
       "      <th>Player</th>\n",
       "      <th></th>\n",
       "      <th></th>\n",
       "      <th></th>\n",
       "      <th></th>\n",
       "    </tr>\n",
       "  </thead>\n",
       "  <tbody>\n",
       "    <tr>\n",
       "      <th>Curly Armstrong</th>\n",
       "      <td>458.0</td>\n",
       "      <td>176.0</td>\n",
       "      <td>224.637381</td>\n",
       "      <td>217.0</td>\n",
       "    </tr>\n",
       "    <tr>\n",
       "      <th>Cliff Barker</th>\n",
       "      <td>279.0</td>\n",
       "      <td>109.0</td>\n",
       "      <td>224.637381</td>\n",
       "      <td>99.0</td>\n",
       "    </tr>\n",
       "    <tr>\n",
       "      <th>Leo Barnhorst</th>\n",
       "      <td>438.0</td>\n",
       "      <td>140.0</td>\n",
       "      <td>224.637381</td>\n",
       "      <td>192.0</td>\n",
       "    </tr>\n",
       "    <tr>\n",
       "      <th>Ed Bartels</th>\n",
       "      <td>63.0</td>\n",
       "      <td>20.0</td>\n",
       "      <td>224.637381</td>\n",
       "      <td>29.0</td>\n",
       "    </tr>\n",
       "    <tr>\n",
       "      <th>Ed Bartels</th>\n",
       "      <td>59.0</td>\n",
       "      <td>20.0</td>\n",
       "      <td>224.637381</td>\n",
       "      <td>27.0</td>\n",
       "    </tr>\n",
       "    <tr>\n",
       "      <th>Ed Bartels</th>\n",
       "      <td>4.0</td>\n",
       "      <td>0.0</td>\n",
       "      <td>224.637381</td>\n",
       "      <td>2.0</td>\n",
       "    </tr>\n",
       "    <tr>\n",
       "      <th>Ralph Beard</th>\n",
       "      <td>895.0</td>\n",
       "      <td>233.0</td>\n",
       "      <td>224.637381</td>\n",
       "      <td>132.0</td>\n",
       "    </tr>\n",
       "    <tr>\n",
       "      <th>Gene Berce</th>\n",
       "      <td>10.0</td>\n",
       "      <td>2.0</td>\n",
       "      <td>224.637381</td>\n",
       "      <td>6.0</td>\n",
       "    </tr>\n",
       "    <tr>\n",
       "      <th>Charlie Black</th>\n",
       "      <td>661.0</td>\n",
       "      <td>163.0</td>\n",
       "      <td>224.637381</td>\n",
       "      <td>273.0</td>\n",
       "    </tr>\n",
       "    <tr>\n",
       "      <th>Charlie Black</th>\n",
       "      <td>382.0</td>\n",
       "      <td>75.0</td>\n",
       "      <td>224.637381</td>\n",
       "      <td>140.0</td>\n",
       "    </tr>\n",
       "    <tr>\n",
       "      <th>...</th>\n",
       "      <td>...</td>\n",
       "      <td>...</td>\n",
       "      <td>...</td>\n",
       "      <td>...</td>\n",
       "    </tr>\n",
       "    <tr>\n",
       "      <th>Delon Wright</th>\n",
       "      <td>150.0</td>\n",
       "      <td>57.0</td>\n",
       "      <td>48.000000</td>\n",
       "      <td>31.0</td>\n",
       "    </tr>\n",
       "    <tr>\n",
       "      <th>James Young</th>\n",
       "      <td>68.0</td>\n",
       "      <td>4.0</td>\n",
       "      <td>26.000000</td>\n",
       "      <td>15.0</td>\n",
       "    </tr>\n",
       "    <tr>\n",
       "      <th>Joe Young</th>\n",
       "      <td>68.0</td>\n",
       "      <td>15.0</td>\n",
       "      <td>17.000000</td>\n",
       "      <td>5.0</td>\n",
       "    </tr>\n",
       "    <tr>\n",
       "      <th>Nick Young</th>\n",
       "      <td>791.0</td>\n",
       "      <td>58.0</td>\n",
       "      <td>137.000000</td>\n",
       "      <td>137.0</td>\n",
       "    </tr>\n",
       "    <tr>\n",
       "      <th>Thaddeus Young</th>\n",
       "      <td>814.0</td>\n",
       "      <td>122.0</td>\n",
       "      <td>449.000000</td>\n",
       "      <td>135.0</td>\n",
       "    </tr>\n",
       "    <tr>\n",
       "      <th>Cody Zeller</th>\n",
       "      <td>639.0</td>\n",
       "      <td>99.0</td>\n",
       "      <td>405.000000</td>\n",
       "      <td>189.0</td>\n",
       "    </tr>\n",
       "    <tr>\n",
       "      <th>Tyler Zeller</th>\n",
       "      <td>178.0</td>\n",
       "      <td>42.0</td>\n",
       "      <td>124.000000</td>\n",
       "      <td>61.0</td>\n",
       "    </tr>\n",
       "    <tr>\n",
       "      <th>Stephen Zimmerman</th>\n",
       "      <td>23.0</td>\n",
       "      <td>4.0</td>\n",
       "      <td>35.000000</td>\n",
       "      <td>17.0</td>\n",
       "    </tr>\n",
       "    <tr>\n",
       "      <th>Paul Zipser</th>\n",
       "      <td>240.0</td>\n",
       "      <td>36.0</td>\n",
       "      <td>125.000000</td>\n",
       "      <td>78.0</td>\n",
       "    </tr>\n",
       "    <tr>\n",
       "      <th>Ivica Zubac</th>\n",
       "      <td>284.0</td>\n",
       "      <td>30.0</td>\n",
       "      <td>159.000000</td>\n",
       "      <td>66.0</td>\n",
       "    </tr>\n",
       "  </tbody>\n",
       "</table>\n",
       "<p>24691 rows × 4 columns</p>\n",
       "</div>"
      ],
      "text/plain": [
       "                     PTS    AST         TRB     PF\n",
       "Player                                            \n",
       "Curly Armstrong    458.0  176.0  224.637381  217.0\n",
       "Cliff Barker       279.0  109.0  224.637381   99.0\n",
       "Leo Barnhorst      438.0  140.0  224.637381  192.0\n",
       "Ed Bartels          63.0   20.0  224.637381   29.0\n",
       "Ed Bartels          59.0   20.0  224.637381   27.0\n",
       "Ed Bartels           4.0    0.0  224.637381    2.0\n",
       "Ralph Beard        895.0  233.0  224.637381  132.0\n",
       "Gene Berce          10.0    2.0  224.637381    6.0\n",
       "Charlie Black      661.0  163.0  224.637381  273.0\n",
       "Charlie Black      382.0   75.0  224.637381  140.0\n",
       "...                  ...    ...         ...    ...\n",
       "Delon Wright       150.0   57.0   48.000000   31.0\n",
       "James Young         68.0    4.0   26.000000   15.0\n",
       "Joe Young           68.0   15.0   17.000000    5.0\n",
       "Nick Young         791.0   58.0  137.000000  137.0\n",
       "Thaddeus Young     814.0  122.0  449.000000  135.0\n",
       "Cody Zeller        639.0   99.0  405.000000  189.0\n",
       "Tyler Zeller       178.0   42.0  124.000000   61.0\n",
       "Stephen Zimmerman   23.0    4.0   35.000000   17.0\n",
       "Paul Zipser        240.0   36.0  125.000000   78.0\n",
       "Ivica Zubac        284.0   30.0  159.000000   66.0\n",
       "\n",
       "[24691 rows x 4 columns]"
      ]
     },
     "execution_count": 37,
     "metadata": {},
     "output_type": "execute_result"
    }
   ],
   "source": [
    "score.fillna(score.mean())"
   ]
  },
  {
   "cell_type": "code",
   "execution_count": 38,
   "metadata": {
    "ExecuteTime": {
     "end_time": "2019-04-26T12:18:31.896082Z",
     "start_time": "2019-04-26T12:18:31.848632Z"
    }
   },
   "outputs": [],
   "source": [
    "mean_score=score.mean()"
   ]
  },
  {
   "cell_type": "code",
   "execution_count": 39,
   "metadata": {
    "ExecuteTime": {
     "end_time": "2019-04-26T12:18:32.644685Z",
     "start_time": "2019-04-26T12:18:32.597281Z"
    }
   },
   "outputs": [
    {
     "data": {
      "text/plain": [
       "PTS    510.116350\n",
       "AST    114.852623\n",
       "TRB    224.637381\n",
       "PF     116.339222\n",
       "dtype: float64"
      ]
     },
     "execution_count": 39,
     "metadata": {},
     "output_type": "execute_result"
    }
   ],
   "source": [
    "mean_score"
   ]
  },
  {
   "cell_type": "markdown",
   "metadata": {},
   "source": [
    "# calculate confidence interval"
   ]
  },
  {
   "cell_type": "code",
   "execution_count": 40,
   "metadata": {
    "ExecuteTime": {
     "end_time": "2019-04-26T12:18:34.998403Z",
     "start_time": "2019-04-26T12:18:34.953166Z"
    }
   },
   "outputs": [],
   "source": [
    "import scipy.stats as ss"
   ]
  },
  {
   "cell_type": "code",
   "execution_count": 43,
   "metadata": {
    "ExecuteTime": {
     "end_time": "2019-04-26T12:21:25.340804Z",
     "start_time": "2019-04-26T12:21:25.288780Z"
    }
   },
   "outputs": [
    {
     "data": {
      "text/plain": [
       "masked_array(data=[3.141230208765813, 0.8658144260208027,\n",
       "                   1.4634795288106406, 0.5403497139857867],\n",
       "             mask=[False, False, False, False],\n",
       "       fill_value=1e+20)"
      ]
     },
     "execution_count": 43,
     "metadata": {},
     "output_type": "execute_result"
    }
   ],
   "source": [
    "ss.sem(score.values,axis=0,nan_policy='omit')"
   ]
  },
  {
   "cell_type": "code",
   "execution_count": 46,
   "metadata": {
    "ExecuteTime": {
     "end_time": "2019-04-26T12:21:40.093531Z",
     "start_time": "2019-04-26T12:21:40.044500Z"
    }
   },
   "outputs": [],
   "source": [
    "ci95=abs(mean_score-1.96*ss.sem(score.values,axis=0,nan_policy='omit'))"
   ]
  },
  {
   "cell_type": "code",
   "execution_count": 47,
   "metadata": {
    "ExecuteTime": {
     "end_time": "2019-04-26T12:21:40.552604Z",
     "start_time": "2019-04-26T12:21:40.499781Z"
    }
   },
   "outputs": [
    {
     "data": {
      "text/plain": [
       "PTS    503.959539\n",
       "AST    113.155627\n",
       "TRB    221.768961\n",
       "PF     115.280136\n",
       "dtype: float64"
      ]
     },
     "execution_count": 47,
     "metadata": {},
     "output_type": "execute_result"
    }
   ],
   "source": [
    "ci95"
   ]
  },
  {
   "cell_type": "code",
   "execution_count": null,
   "metadata": {},
   "outputs": [],
   "source": [
    "\n"
   ]
  },
  {
   "cell_type": "code",
   "execution_count": 48,
   "metadata": {
    "ExecuteTime": {
     "end_time": "2019-04-26T12:25:10.430238Z",
     "start_time": "2019-04-26T12:25:10.302826Z"
    }
   },
   "outputs": [],
   "source": [
    "import numpy as np\n",
    "import matplotlib.pyplot as plt "
   ]
  },
  {
   "cell_type": "code",
   "execution_count": 50,
   "metadata": {
    "ExecuteTime": {
     "end_time": "2019-04-26T12:25:37.318268Z",
     "start_time": "2019-04-26T12:25:37.270969Z"
    }
   },
   "outputs": [],
   "source": [
    "nums=np.arange(0,len(mean_score),1.)"
   ]
  },
  {
   "cell_type": "code",
   "execution_count": 51,
   "metadata": {
    "ExecuteTime": {
     "end_time": "2019-04-26T12:26:00.309498Z",
     "start_time": "2019-04-26T12:26:00.147819Z"
    }
   },
   "outputs": [
    {
     "data": {
      "text/plain": [
       "<Figure size 288x288 with 0 Axes>"
      ]
     },
     "metadata": {},
     "output_type": "display_data"
    }
   ],
   "source": [
    "fig=plt.figure(figsize=(4,4\n",
    "                    ))"
   ]
  },
  {
   "cell_type": "code",
   "execution_count": 52,
   "metadata": {
    "ExecuteTime": {
     "end_time": "2019-04-26T12:26:17.845915Z",
     "start_time": "2019-04-26T12:26:17.781587Z"
    }
   },
   "outputs": [],
   "source": [
    "axes=fig.add_subplot(111)"
   ]
  },
  {
   "cell_type": "code",
   "execution_count": 53,
   "metadata": {
    "ExecuteTime": {
     "end_time": "2019-04-26T12:27:06.480793Z",
     "start_time": "2019-04-26T12:27:06.028298Z"
    }
   },
   "outputs": [
    {
     "data": {
      "text/plain": [
       "<BarContainer object of 4 artists>"
      ]
     },
     "execution_count": 53,
     "metadata": {},
     "output_type": "execute_result"
    },
    {
     "data": {
      "text/plain": [
       "<ErrorbarContainer object of 3 artists>"
      ]
     },
     "execution_count": 53,
     "metadata": {},
     "output_type": "execute_result"
    }
   ],
   "source": [
    "axes.bar(nums,mean_score,align='center',alpha=0.2)\n",
    "axes.errorbar(nums,mean_score,yerr=ci95,fmt='none')"
   ]
  },
  {
   "cell_type": "code",
   "execution_count": 54,
   "metadata": {
    "ExecuteTime": {
     "end_time": "2019-04-26T12:37:43.333562Z",
     "start_time": "2019-04-26T12:37:42.888782Z"
    }
   },
   "outputs": [],
   "source": [
    "from matplotlib.font_manager import FontProperties"
   ]
  },
  {
   "cell_type": "code",
   "execution_count": 68,
   "metadata": {
    "ExecuteTime": {
     "end_time": "2019-04-26T12:45:14.672010Z",
     "start_time": "2019-04-26T12:45:14.626843Z"
    }
   },
   "outputs": [],
   "source": [
    "custom_font=FontProperties(fname='/System/Library/Fonts/STHeiti Light.ttc')"
   ]
  },
  {
   "cell_type": "code",
   "execution_count": 69,
   "metadata": {
    "ExecuteTime": {
     "end_time": "2019-04-26T12:45:15.123164Z",
     "start_time": "2019-04-26T12:45:15.073780Z"
    }
   },
   "outputs": [],
   "source": [
    "var=['PTS','AST','TRB','PF']"
   ]
  },
  {
   "cell_type": "code",
   "execution_count": 70,
   "metadata": {
    "ExecuteTime": {
     "end_time": "2019-04-26T12:45:15.520910Z",
     "start_time": "2019-04-26T12:45:15.462106Z"
    }
   },
   "outputs": [
    {
     "data": {
      "text/plain": [
       "Text(0.5, 1.0, '带有95%置信区间的误差条')"
      ]
     },
     "execution_count": 70,
     "metadata": {},
     "output_type": "execute_result"
    }
   ],
   "source": [
    "axes.set_title('带有95%置信区间的误差条',fontproperties=custom_font,fontsize=15)"
   ]
  },
  {
   "cell_type": "code",
   "execution_count": 71,
   "metadata": {
    "ExecuteTime": {
     "end_time": "2019-04-26T12:45:15.855631Z",
     "start_time": "2019-04-26T12:45:15.801555Z"
    }
   },
   "outputs": [
    {
     "data": {
      "text/plain": [
       "Text(0.5, 15.0, 'obs')"
      ]
     },
     "execution_count": 71,
     "metadata": {},
     "output_type": "execute_result"
    }
   ],
   "source": [
    "axes.set_xlabel('obs',fontproperties=custom_font,fontsize=15)"
   ]
  },
  {
   "cell_type": "code",
   "execution_count": 72,
   "metadata": {
    "ExecuteTime": {
     "end_time": "2019-04-26T12:45:16.239325Z",
     "start_time": "2019-04-26T12:45:16.185596Z"
    }
   },
   "outputs": [
    {
     "data": {
      "text/plain": [
       "Text(0, 0.5, 'mean+-95%')"
      ]
     },
     "execution_count": 72,
     "metadata": {},
     "output_type": "execute_result"
    }
   ],
   "source": [
    "axes.set_ylabel('mean+-95%',fontproperties=custom_font,fontsize=15)"
   ]
  },
  {
   "cell_type": "code",
   "execution_count": 73,
   "metadata": {
    "ExecuteTime": {
     "end_time": "2019-04-26T12:45:16.632037Z",
     "start_time": "2019-04-26T12:45:16.581177Z"
    }
   },
   "outputs": [
    {
     "data": {
      "text/plain": [
       "[<matplotlib.axis.XTick at 0x1a293067f0>,\n",
       " <matplotlib.axis.XTick at 0x1a29304eb8>,\n",
       " <matplotlib.axis.XTick at 0x1a2f57b828>,\n",
       " <matplotlib.axis.XTick at 0x1a2f57fba8>]"
      ]
     },
     "execution_count": 73,
     "metadata": {},
     "output_type": "execute_result"
    }
   ],
   "source": [
    "axes.set_xticks(np.array([0,1,2,3]),minor=False)"
   ]
  },
  {
   "cell_type": "code",
   "execution_count": 74,
   "metadata": {
    "ExecuteTime": {
     "end_time": "2019-04-26T12:45:17.030120Z",
     "start_time": "2019-04-26T12:45:16.980146Z"
    }
   },
   "outputs": [
    {
     "data": {
      "text/plain": [
       "[Text(0, 0, 'PTS'), Text(1, 0, 'AST'), Text(2, 0, 'TRB'), Text(3, 0, 'PF')]"
      ]
     },
     "execution_count": 74,
     "metadata": {},
     "output_type": "execute_result"
    }
   ],
   "source": [
    "axes.set_xticklabels(var,minor=False)"
   ]
  },
  {
   "cell_type": "code",
   "execution_count": 75,
   "metadata": {
    "ExecuteTime": {
     "end_time": "2019-04-26T12:45:17.637591Z",
     "start_time": "2019-04-26T12:45:17.360631Z"
    }
   },
   "outputs": [
    {
     "data": {
      "image/png": "[encoded data removed]",
      "text/plain": [
       "<Figure size 288x288 with 1 Axes>"
      ]
     },
     "execution_count": 75,
     "metadata": {},
     "output_type": "execute_result"
    }
   ],
   "source": [
    "fig"
   ]
  },
  {
   "cell_type": "code",
   "execution_count": null,
   "metadata": {},
   "outputs": [],
   "source": []
  }
 ],
 "metadata": {
  "hide_input": false,
  "kernelspec": {
   "display_name": "Python 3",
   "language": "python",
   "name": "python3"
  },
  "language_info": {
   "codemirror_mode": {
    "name": "ipython",
    "version": 3
   },
   "file_extension": ".py",
   "mimetype": "text/x-python",
   "name": "python",
   "nbconvert_exporter": "python",
   "pygments_lexer": "ipython3",
   "version": "3.6.8"
  },
  "toc": {
   "base_numbering": 1,
   "nav_menu": {},
   "number_sections": true,
   "sideBar": true,
   "skip_h1_title": false,
   "title_cell": "Table of Contents",
   "title_sidebar": "Contents",
   "toc_cell": false,
   "toc_position": {},
   "toc_section_display": true,
   "toc_window_display": false
  },
  "varInspector": {
   "cols": {
    "lenName": 16,
    "lenType": 16,
    "lenVar": 40
   },
   "kernels_config": {
    "python": {
     "delete_cmd_postfix": "",
     "delete_cmd_prefix": "del ",
     "library": "var_list.py",
     "varRefreshCmd": "print(var_dic_list())"
    },
    "r": {
     "delete_cmd_postfix": ") ",
     "delete_cmd_prefix": "rm(",
     "library": "var_list.r",
     "varRefreshCmd": "cat(var_dic_list()) "
    }
   },
   "types_to_exclude": [
    "module",
    "function",
    "builtin_function_or_method",
    "instance",
    "_Feature"
   ],
   "window_display": false
  }
 },
 "nbformat": 4,
 "nbformat_minor": 2
}
