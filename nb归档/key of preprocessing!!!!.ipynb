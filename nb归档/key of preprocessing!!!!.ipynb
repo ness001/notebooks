{
 "cells": [
  {
   "cell_type": "code",
   "execution_count": 1,
   "metadata": {
    "ExecuteTime": {
     "end_time": "2019-03-12T14:52:01.722982Z",
     "start_time": "2019-03-12T14:52:00.505563Z"
    }
   },
   "outputs": [],
   "source": [
    "import numpy as np # linear algebra\n",
    "import pandas as pd # data processing, CSV file I/O (e.g. pd.read_csv)\n",
    "\n",
    "# read in data\n",
    "data = pd.read_csv(\"/Users/ness001/code files/powerlifting-database/meets.csv\")\n",
    "\n",
    "\n",
    "## Hacky data munging\n",
    "# parse dates\n",
    "data['Date'] = pd.to_datetime(data['Date'], format = \"%Y-%m-%d\")\n",
    "\n",
    "# count of meets per month\n",
    "meets_by_month = data['Date'].groupby([data.Date.dt.year, data.Date.dt.month]).agg('count') \n",
    "\n",
    "# convert to dataframe\n",
    "meets_by_month = meets_by_month.to_frame()\n",
    "\n",
    "# move date month from index to column\n",
    "meets_by_month['date'] = meets_by_month.index\n",
    "\n",
    "# rename column\n",
    "meets_by_month = meets_by_month.rename(columns={meets_by_month.columns[0]:\"meets\"})\n",
    "\n",
    "# re-parse dates\n",
    "meets_by_month['date'] = pd.to_datetime(meets_by_month['date'], format=\"(%Y, %m)\")\n",
    "\n",
    "# remove index\n",
    "meets_by_month = meets_by_month.reset_index(drop=True)\n",
    "\n",
    "# get month of meet\n",
    "meets_by_month['month'] = meets_by_month.date.dt.month\n",
    "\n",
    "# repeat to get number of meets per state\n",
    "meet_by_state = data['MeetState'].value_counts().to_frame()\n",
    "meet_by_state['state'] = meet_by_state.index\n",
    "meet_by_state = meet_by_state.rename(columns={meet_by_state.columns[0]:\"meets\"})"
   ]
  },
  {
   "cell_type": "code",
   "execution_count": null,
   "metadata": {},
   "outputs": [],
   "source": []
  }
 ],
 "metadata": {
  "hide_input": false,
  "kernelspec": {
   "display_name": "Python 3",
   "language": "python",
   "name": "python3"
  },
  "language_info": {
   "codemirror_mode": {
    "name": "ipython",
    "version": 3
   },
   "file_extension": ".py",
   "mimetype": "text/x-python",
   "name": "python",
   "nbconvert_exporter": "python",
   "pygments_lexer": "ipython3",
   "version": "3.6.8"
  },
  "toc": {
   "base_numbering": 1,
   "nav_menu": {},
   "number_sections": true,
   "sideBar": true,
   "skip_h1_title": false,
   "title_cell": "Table of Contents",
   "title_sidebar": "Contents",
   "toc_cell": false,
   "toc_position": {},
   "toc_section_display": true,
   "toc_window_display": false
  },
  "varInspector": {
   "cols": {
    "lenName": 16,
    "lenType": 16,
    "lenVar": 40
   },
   "kernels_config": {
    "python": {
     "delete_cmd_postfix": "",
     "delete_cmd_prefix": "del ",
     "library": "var_list.py",
     "varRefreshCmd": "print(var_dic_list())"
    },
    "r": {
     "delete_cmd_postfix": ") ",
     "delete_cmd_prefix": "rm(",
     "library": "var_list.r",
     "varRefreshCmd": "cat(var_dic_list()) "
    }
   },
   "types_to_exclude": [
    "module",
    "function",
    "builtin_function_or_method",
    "instance",
    "_Feature"
   ],
   "window_display": true
  }
 },
 "nbformat": 4,
 "nbformat_minor": 2
}
