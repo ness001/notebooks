{
 "cells": [
  {
   "cell_type": "markdown",
   "metadata": {},
   "source": [
    "https://tianchi.aliyun.com/forum/postDetail?spm=5176.12586969.1002.3.657376d8UhQABu&postId=12505"
   ]
  },
  {
   "cell_type": "code",
   "execution_count": 35,
   "metadata": {
    "ExecuteTime": {
     "end_time": "2019-03-28T02:14:12.024528Z",
     "start_time": "2019-03-28T02:14:12.020913Z"
    }
   },
   "outputs": [],
   "source": [
    "import pandas as pd \n",
    "import shap\n",
    "import sklearn "
   ]
  },
  {
   "cell_type": "markdown",
   "metadata": {},
   "source": [
    "# 数据预处理模块"
   ]
  },
  {
   "cell_type": "code",
   "execution_count": 23,
   "metadata": {
    "ExecuteTime": {
     "end_time": "2019-03-28T02:09:14.722235Z",
     "start_time": "2019-03-28T02:09:14.718399Z"
    }
   },
   "outputs": [],
   "source": [
    "def drop_multiple_col(col_list,df):\n",
    "    df.drop(col_list,axis=1,inplace=True )"
   ]
  },
  {
   "cell_type": "code",
   "execution_count": 33,
   "metadata": {
    "ExecuteTime": {
     "end_time": "2019-03-28T02:12:37.539716Z",
     "start_time": "2019-03-28T02:12:37.535394Z"
    }
   },
   "outputs": [],
   "source": [
    "def check_missing(df):\n",
    "    return df.isnull().sum().sort_values(ascending=False)"
   ]
  },
  {
   "cell_type": "code",
   "execution_count": null,
   "metadata": {},
   "outputs": [],
   "source": []
  },
  {
   "cell_type": "markdown",
   "metadata": {},
   "source": [
    "# 三张表 资产负债表，现金流量表，利润表"
   ]
  },
  {
   "cell_type": "code",
   "execution_count": null,
   "metadata": {},
   "outputs": [],
   "source": []
  },
  {
   "cell_type": "code",
   "execution_count": 2,
   "metadata": {
    "ExecuteTime": {
     "end_time": "2019-03-28T01:04:02.127882Z",
     "start_time": "2019-03-28T01:04:02.124857Z"
    }
   },
   "outputs": [],
   "source": [
    "path='/Users/ness001/Downloads/FDDC_financial_data/alike sliver/'"
   ]
  },
  {
   "cell_type": "code",
   "execution_count": 3,
   "metadata": {
    "ExecuteTime": {
     "end_time": "2019-03-28T01:04:48.843291Z",
     "start_time": "2019-03-28T01:04:48.839917Z"
    }
   },
   "outputs": [],
   "source": [
    "bspath=path+'Balance Sheet.xls'"
   ]
  },
  {
   "cell_type": "code",
   "execution_count": 8,
   "metadata": {
    "ExecuteTime": {
     "end_time": "2019-03-28T01:20:01.378460Z",
     "start_time": "2019-03-28T01:18:05.563899Z"
    }
   },
   "outputs": [],
   "source": [
    "xlsx=pd.ExcelFile(bspath)"
   ]
  },
  {
   "cell_type": "code",
   "execution_count": 9,
   "metadata": {
    "ExecuteTime": {
     "end_time": "2019-03-28T01:20:03.684167Z",
     "start_time": "2019-03-28T01:20:03.547916Z"
    }
   },
   "outputs": [],
   "source": [
    "bank=pd.read_excel(xlsx,'Bank')"
   ]
  },
  {
   "cell_type": "code",
   "execution_count": 11,
   "metadata": {
    "ExecuteTime": {
     "end_time": "2019-03-28T01:20:19.873909Z",
     "start_time": "2019-03-28T01:20:19.673298Z"
    }
   },
   "outputs": [
    {
     "data": {
      "text/html": [
       "<div>\n",
       "<style scoped>\n",
       "    .dataframe tbody tr th:only-of-type {\n",
       "        vertical-align: middle;\n",
       "    }\n",
       "\n",
       "    .dataframe tbody tr th {\n",
       "        vertical-align: top;\n",
       "    }\n",
       "\n",
       "    .dataframe thead th {\n",
       "        text-align: right;\n",
       "    }\n",
       "</style>\n",
       "<table border=\"1\" class=\"dataframe\">\n",
       "  <thead>\n",
       "    <tr style=\"text-align: right;\">\n",
       "      <th></th>\n",
       "      <th>PARTY_ID</th>\n",
       "      <th>TICKER_SYMBOL</th>\n",
       "      <th>FISCAL_PERIOD</th>\n",
       "      <th>MERGED_FLAG</th>\n",
       "      <th>C_RESER_CB</th>\n",
       "      <th>DEPOS_IN_OTH_BFI</th>\n",
       "      <th>PRECI_METALS</th>\n",
       "      <th>LOAN_TO_OTH_BANK_FI</th>\n",
       "      <th>TRADING_FA</th>\n",
       "      <th>DERIV_ASSETS</th>\n",
       "      <th>...</th>\n",
       "      <th>SEE</th>\n",
       "      <th>SEA</th>\n",
       "      <th>T_EQUITY_ATTR_P</th>\n",
       "      <th>MINORITY_INT</th>\n",
       "      <th>OTH_EFFECT_SE</th>\n",
       "      <th>OTH_EFFECT_SA</th>\n",
       "      <th>T_SH_EQUITY</th>\n",
       "      <th>LEE</th>\n",
       "      <th>LEA</th>\n",
       "      <th>T_LIAB_EQUITY</th>\n",
       "    </tr>\n",
       "  </thead>\n",
       "  <tbody>\n",
       "    <tr>\n",
       "      <th>count</th>\n",
       "      <td>1593.000000</td>\n",
       "      <td>1593.000000</td>\n",
       "      <td>1593.000000</td>\n",
       "      <td>1593.0</td>\n",
       "      <td>1.582000e+03</td>\n",
       "      <td>1.581000e+03</td>\n",
       "      <td>7.590000e+02</td>\n",
       "      <td>1.483000e+03</td>\n",
       "      <td>1.480000e+03</td>\n",
       "      <td>1.310000e+03</td>\n",
       "      <td>...</td>\n",
       "      <td>1.280000e+02</td>\n",
       "      <td>34.000000</td>\n",
       "      <td>1.593000e+03</td>\n",
       "      <td>1.314000e+03</td>\n",
       "      <td>4.0</td>\n",
       "      <td>17.000000</td>\n",
       "      <td>1.593000e+03</td>\n",
       "      <td>4.0</td>\n",
       "      <td>17.000000</td>\n",
       "      <td>1.593000e+03</td>\n",
       "    </tr>\n",
       "    <tr>\n",
       "      <th>mean</th>\n",
       "      <td>9144.277464</td>\n",
       "      <td>526614.043942</td>\n",
       "      <td>9.894539</td>\n",
       "      <td>1.0</td>\n",
       "      <td>6.410895e+11</td>\n",
       "      <td>1.268640e+11</td>\n",
       "      <td>3.656521e+10</td>\n",
       "      <td>1.063023e+11</td>\n",
       "      <td>6.037300e+10</td>\n",
       "      <td>1.132099e+10</td>\n",
       "      <td>...</td>\n",
       "      <td>6.243744e+09</td>\n",
       "      <td>197.058824</td>\n",
       "      <td>2.915882e+11</td>\n",
       "      <td>4.599441e+09</td>\n",
       "      <td>0.0</td>\n",
       "      <td>294.117647</td>\n",
       "      <td>2.953820e+11</td>\n",
       "      <td>0.0</td>\n",
       "      <td>135.294118</td>\n",
       "      <td>4.454081e+12</td>\n",
       "    </tr>\n",
       "    <tr>\n",
       "      <th>std</th>\n",
       "      <td>13426.909467</td>\n",
       "      <td>197891.815615</td>\n",
       "      <td>3.235160</td>\n",
       "      <td>0.0</td>\n",
       "      <td>9.151222e+11</td>\n",
       "      <td>1.639189e+11</td>\n",
       "      <td>5.714003e+10</td>\n",
       "      <td>1.333583e+11</td>\n",
       "      <td>1.134734e+11</td>\n",
       "      <td>2.036140e+10</td>\n",
       "      <td>...</td>\n",
       "      <td>1.813923e+10</td>\n",
       "      <td>948.838299</td>\n",
       "      <td>4.169357e+11</td>\n",
       "      <td>1.096114e+10</td>\n",
       "      <td>0.0</td>\n",
       "      <td>848.874688</td>\n",
       "      <td>4.226342e+11</td>\n",
       "      <td>0.0</td>\n",
       "      <td>694.569270</td>\n",
       "      <td>5.796515e+12</td>\n",
       "    </tr>\n",
       "    <tr>\n",
       "      <th>min</th>\n",
       "      <td>2.000000</td>\n",
       "      <td>1.000000</td>\n",
       "      <td>3.000000</td>\n",
       "      <td>1.0</td>\n",
       "      <td>7.162850e+03</td>\n",
       "      <td>1.262089e+08</td>\n",
       "      <td>0.000000e+00</td>\n",
       "      <td>0.000000e+00</td>\n",
       "      <td>1.331156e+06</td>\n",
       "      <td>7.090000e+05</td>\n",
       "      <td>...</td>\n",
       "      <td>-1.929000e+10</td>\n",
       "      <td>-2000.000000</td>\n",
       "      <td>-7.276050e+11</td>\n",
       "      <td>3.000000e+06</td>\n",
       "      <td>0.0</td>\n",
       "      <td>-1000.000000</td>\n",
       "      <td>-7.276050e+11</td>\n",
       "      <td>0.0</td>\n",
       "      <td>-1000.000000</td>\n",
       "      <td>1.600462e+09</td>\n",
       "    </tr>\n",
       "    <tr>\n",
       "      <th>25%</th>\n",
       "      <td>1322.000000</td>\n",
       "      <td>600016.000000</td>\n",
       "      <td>9.000000</td>\n",
       "      <td>1.0</td>\n",
       "      <td>6.382775e+10</td>\n",
       "      <td>1.816800e+10</td>\n",
       "      <td>3.544230e+08</td>\n",
       "      <td>8.682559e+09</td>\n",
       "      <td>4.676721e+09</td>\n",
       "      <td>7.638090e+08</td>\n",
       "      <td>...</td>\n",
       "      <td>-1.655000e+08</td>\n",
       "      <td>-100.000000</td>\n",
       "      <td>2.781153e+10</td>\n",
       "      <td>1.617090e+08</td>\n",
       "      <td>0.0</td>\n",
       "      <td>0.000000</td>\n",
       "      <td>2.781153e+10</td>\n",
       "      <td>0.0</td>\n",
       "      <td>0.000000</td>\n",
       "      <td>5.276850e+11</td>\n",
       "    </tr>\n",
       "    <tr>\n",
       "      <th>50%</th>\n",
       "      <td>2041.000000</td>\n",
       "      <td>601166.000000</td>\n",
       "      <td>12.000000</td>\n",
       "      <td>1.0</td>\n",
       "      <td>2.563230e+11</td>\n",
       "      <td>6.668491e+10</td>\n",
       "      <td>8.654903e+09</td>\n",
       "      <td>5.638836e+10</td>\n",
       "      <td>1.336000e+10</td>\n",
       "      <td>3.261000e+09</td>\n",
       "      <td>...</td>\n",
       "      <td>1.165305e+08</td>\n",
       "      <td>500.000000</td>\n",
       "      <td>1.146032e+11</td>\n",
       "      <td>7.920000e+08</td>\n",
       "      <td>0.0</td>\n",
       "      <td>1000.000000</td>\n",
       "      <td>1.160780e+11</td>\n",
       "      <td>0.0</td>\n",
       "      <td>0.000000</td>\n",
       "      <td>1.972768e+12</td>\n",
       "    </tr>\n",
       "    <tr>\n",
       "      <th>75%</th>\n",
       "      <td>17747.000000</td>\n",
       "      <td>601398.000000</td>\n",
       "      <td>12.000000</td>\n",
       "      <td>1.0</td>\n",
       "      <td>5.533280e+11</td>\n",
       "      <td>1.517150e+11</td>\n",
       "      <td>4.247900e+10</td>\n",
       "      <td>1.461165e+11</td>\n",
       "      <td>5.025700e+10</td>\n",
       "      <td>1.122400e+10</td>\n",
       "      <td>...</td>\n",
       "      <td>1.602952e+09</td>\n",
       "      <td>1000.000000</td>\n",
       "      <td>3.489620e+11</td>\n",
       "      <td>4.018750e+09</td>\n",
       "      <td>0.0</td>\n",
       "      <td>1000.000000</td>\n",
       "      <td>3.520270e+11</td>\n",
       "      <td>0.0</td>\n",
       "      <td>1000.000000</td>\n",
       "      <td>5.541535e+12</td>\n",
       "    </tr>\n",
       "    <tr>\n",
       "      <th>max</th>\n",
       "      <td>49847.000000</td>\n",
       "      <td>603323.000000</td>\n",
       "      <td>12.000000</td>\n",
       "      <td>1.0</td>\n",
       "      <td>3.639302e+12</td>\n",
       "      <td>8.045270e+11</td>\n",
       "      <td>2.387140e+11</td>\n",
       "      <td>5.937130e+11</td>\n",
       "      <td>7.681450e+11</td>\n",
       "      <td>1.383600e+11</td>\n",
       "      <td>...</td>\n",
       "      <td>1.021650e+11</td>\n",
       "      <td>1000.000000</td>\n",
       "      <td>2.171510e+12</td>\n",
       "      <td>8.066300e+10</td>\n",
       "      <td>0.0</td>\n",
       "      <td>1000.000000</td>\n",
       "      <td>2.184905e+12</td>\n",
       "      <td>0.0</td>\n",
       "      <td>1000.000000</td>\n",
       "      <td>2.649378e+13</td>\n",
       "    </tr>\n",
       "  </tbody>\n",
       "</table>\n",
       "<p>8 rows × 68 columns</p>\n",
       "</div>"
      ],
      "text/plain": [
       "           PARTY_ID  TICKER_SYMBOL  FISCAL_PERIOD  MERGED_FLAG    C_RESER_CB  \\\n",
       "count   1593.000000    1593.000000    1593.000000       1593.0  1.582000e+03   \n",
       "mean    9144.277464  526614.043942       9.894539          1.0  6.410895e+11   \n",
       "std    13426.909467  197891.815615       3.235160          0.0  9.151222e+11   \n",
       "min        2.000000       1.000000       3.000000          1.0  7.162850e+03   \n",
       "25%     1322.000000  600016.000000       9.000000          1.0  6.382775e+10   \n",
       "50%     2041.000000  601166.000000      12.000000          1.0  2.563230e+11   \n",
       "75%    17747.000000  601398.000000      12.000000          1.0  5.533280e+11   \n",
       "max    49847.000000  603323.000000      12.000000          1.0  3.639302e+12   \n",
       "\n",
       "       DEPOS_IN_OTH_BFI  PRECI_METALS  LOAN_TO_OTH_BANK_FI    TRADING_FA  \\\n",
       "count      1.581000e+03  7.590000e+02         1.483000e+03  1.480000e+03   \n",
       "mean       1.268640e+11  3.656521e+10         1.063023e+11  6.037300e+10   \n",
       "std        1.639189e+11  5.714003e+10         1.333583e+11  1.134734e+11   \n",
       "min        1.262089e+08  0.000000e+00         0.000000e+00  1.331156e+06   \n",
       "25%        1.816800e+10  3.544230e+08         8.682559e+09  4.676721e+09   \n",
       "50%        6.668491e+10  8.654903e+09         5.638836e+10  1.336000e+10   \n",
       "75%        1.517150e+11  4.247900e+10         1.461165e+11  5.025700e+10   \n",
       "max        8.045270e+11  2.387140e+11         5.937130e+11  7.681450e+11   \n",
       "\n",
       "       DERIV_ASSETS  ...           SEE          SEA  T_EQUITY_ATTR_P  \\\n",
       "count  1.310000e+03  ...  1.280000e+02    34.000000     1.593000e+03   \n",
       "mean   1.132099e+10  ...  6.243744e+09   197.058824     2.915882e+11   \n",
       "std    2.036140e+10  ...  1.813923e+10   948.838299     4.169357e+11   \n",
       "min    7.090000e+05  ... -1.929000e+10 -2000.000000    -7.276050e+11   \n",
       "25%    7.638090e+08  ... -1.655000e+08  -100.000000     2.781153e+10   \n",
       "50%    3.261000e+09  ...  1.165305e+08   500.000000     1.146032e+11   \n",
       "75%    1.122400e+10  ...  1.602952e+09  1000.000000     3.489620e+11   \n",
       "max    1.383600e+11  ...  1.021650e+11  1000.000000     2.171510e+12   \n",
       "\n",
       "       MINORITY_INT  OTH_EFFECT_SE  OTH_EFFECT_SA   T_SH_EQUITY  LEE  \\\n",
       "count  1.314000e+03            4.0      17.000000  1.593000e+03  4.0   \n",
       "mean   4.599441e+09            0.0     294.117647  2.953820e+11  0.0   \n",
       "std    1.096114e+10            0.0     848.874688  4.226342e+11  0.0   \n",
       "min    3.000000e+06            0.0   -1000.000000 -7.276050e+11  0.0   \n",
       "25%    1.617090e+08            0.0       0.000000  2.781153e+10  0.0   \n",
       "50%    7.920000e+08            0.0    1000.000000  1.160780e+11  0.0   \n",
       "75%    4.018750e+09            0.0    1000.000000  3.520270e+11  0.0   \n",
       "max    8.066300e+10            0.0    1000.000000  2.184905e+12  0.0   \n",
       "\n",
       "               LEA  T_LIAB_EQUITY  \n",
       "count    17.000000   1.593000e+03  \n",
       "mean    135.294118   4.454081e+12  \n",
       "std     694.569270   5.796515e+12  \n",
       "min   -1000.000000   1.600462e+09  \n",
       "25%       0.000000   5.276850e+11  \n",
       "50%       0.000000   1.972768e+12  \n",
       "75%    1000.000000   5.541535e+12  \n",
       "max    1000.000000   2.649378e+13  \n",
       "\n",
       "[8 rows x 68 columns]"
      ]
     },
     "execution_count": 11,
     "metadata": {},
     "output_type": "execute_result"
    }
   ],
   "source": [
    "bank.describe()"
   ]
  },
  {
   "cell_type": "markdown",
   "metadata": {
    "ExecuteTime": {
     "end_time": "2019-03-28T02:08:01.107121Z",
     "start_time": "2019-03-28T02:08:01.099325Z"
    }
   },
   "source": [
    "# 对market数据做处理"
   ]
  },
  {
   "cell_type": "code",
   "execution_count": 39,
   "metadata": {
    "ExecuteTime": {
     "end_time": "2019-03-28T05:21:38.766649Z",
     "start_time": "2019-03-28T05:21:38.763458Z"
    }
   },
   "outputs": [],
   "source": [
    "market=path+'Market Data.xlsx'"
   ]
  },
  {
   "cell_type": "code",
   "execution_count": 40,
   "metadata": {
    "ExecuteTime": {
     "end_time": "2019-03-28T05:22:10.777567Z",
     "start_time": "2019-03-28T05:21:39.362776Z"
    }
   },
   "outputs": [],
   "source": [
    "xlsx=pd.ExcelFile(market)"
   ]
  },
  {
   "cell_type": "code",
   "execution_count": 41,
   "metadata": {
    "ExecuteTime": {
     "end_time": "2019-03-28T05:22:35.967065Z",
     "start_time": "2019-03-28T05:22:31.906548Z"
    }
   },
   "outputs": [],
   "source": [
    "market=pd.read_excel(xlsx,'DATA')"
   ]
  },
  {
   "cell_type": "code",
   "execution_count": 42,
   "metadata": {
    "ExecuteTime": {
     "end_time": "2019-03-28T05:22:38.259398Z",
     "start_time": "2019-03-28T05:22:38.168236Z"
    }
   },
   "outputs": [
    {
     "name": "stdout",
     "output_type": "stream",
     "text": [
      "<class 'pandas.core.frame.DataFrame'>\n",
      "RangeIndex: 333138 entries, 0 to 333137\n",
      "Data columns (total 10 columns):\n",
      "SECURITY_ID       333138 non-null int64\n",
      "TICKER_SYMBOL     333138 non-null int64\n",
      "END_DATE_         333138 non-null datetime64[ns]\n",
      "CLOSE_PRICE       333138 non-null float64\n",
      "TURNOVER_VOL      333138 non-null int64\n",
      "TURNOVER_VALUE    333138 non-null float64\n",
      "MARKET_VALUE      333138 non-null float64\n",
      "TYPE_ID           333138 non-null int64\n",
      "TYPE_NAME_EN      333138 non-null object\n",
      "TYPE_NAME_CN      333138 non-null object\n",
      "dtypes: datetime64[ns](1), float64(3), int64(4), object(2)\n",
      "memory usage: 25.4+ MB\n"
     ]
    }
   ],
   "source": [
    "market.info()"
   ]
  },
  {
   "cell_type": "code",
   "execution_count": 44,
   "metadata": {
    "ExecuteTime": {
     "end_time": "2019-03-28T05:23:03.466659Z",
     "start_time": "2019-03-28T05:23:03.448329Z"
    }
   },
   "outputs": [
    {
     "data": {
      "text/plain": [
       "array(['银行', '金融服务', '房地产', '医药生物', '公用事业', '综合', '休闲服务', '有色金属', '机械设备',\n",
       "       '建筑装饰', '商业贸易', '建筑材料', '建筑建材', '家用电器', '汽车', '交运设备', '纺织服装',\n",
       "       '食品饮料', '电子', '计算机', '信息设备', '交通运输', '轻工制造', '通信', '农林牧渔', '化工',\n",
       "       '传媒', '钢铁', '信息服务', '采掘', '电气设备', '非银金融', '国防军工'], dtype=object)"
      ]
     },
     "execution_count": 44,
     "metadata": {},
     "output_type": "execute_result"
    }
   ],
   "source": [
    "market['TYPE_NAME_CN'].unique()"
   ]
  },
  {
   "cell_type": "code",
   "execution_count": 47,
   "metadata": {
    "ExecuteTime": {
     "end_time": "2019-03-28T05:28:25.366680Z",
     "start_time": "2019-03-28T05:28:25.359369Z"
    }
   },
   "outputs": [
    {
     "data": {
      "text/plain": [
       "array([10303210101, 10303330101, 10303200101, 10303170301, 10303180401,\n",
       "       10303280101, 10303240401, 10303050304, 10303050505, 10303240201,\n",
       "       10303090501, 10303050301, 10303070301, 10303230401, 10303060201,\n",
       "       10303290101, 10303130201, 10303110401, 10303310305, 10303310301,\n",
       "       10303070201, 10303150104, 10303140204, 10303120501, 10303120203,\n",
       "       10303250101, 10303320201, 10303190101, 10303060303, 10303290104,\n",
       "       10303290201, 10303290205, 10303110301, 10303310401, 10303160303,\n",
       "       10303160302, 10303300301, 10303180101, 10303170401, 10303110201,\n",
       "       10303310201, 10303160305, 10303270201, 10303320102, 10303320101,\n",
       "       10303250202, 10303010401, 10303030101, 10303180103, 10303260201,\n",
       "       10303090401, 10303300501, 10303040201, 10303120301, 10303150106,\n",
       "       10303150102, 10303010601, 10303120401, 10303030701, 10303070504,\n",
       "       10303290203, 10303230301, 10303230503, 10303230501, 10303230302,\n",
       "       10303030301, 10303050103, 10303050503, 10303050506, 10303130202,\n",
       "       10303270202, 10303320103, 10303070503, 10303290204, 10303240101,\n",
       "       10303190501, 10303030102, 10303190401, 10303170601, 10303340203,\n",
       "       10303170102, 10303260103, 10303340204, 10303030501, 10303090201,\n",
       "       10303300202, 10303020201, 10303170101, 10303180104, 10303150103,\n",
       "       10303080201, 10303300404, 10303300402, 10303060101, 10303290102,\n",
       "       10303200201, 10303130105, 10303130101, 10303180301, 10303030303,\n",
       "       10303290103, 10303020301, 10303090101, 10303300101, 10303220301,\n",
       "       10303330201, 10303230101, 10303230103, 10303130103, 10303030403,\n",
       "       10303190301, 10303030202, 10303170201, 10303190201, 10303240102,\n",
       "       10303160101, 10303070402, 10303290202, 10303260301, 10303340201,\n",
       "       10303260101, 10303340401, 10303050402, 10303050401, 10303050403,\n",
       "       10303170103, 10303030203, 10303150101, 10303100301, 10303090104,\n",
       "       10303300104, 10303190601, 10303030304, 10303260302, 10303160201,\n",
       "       10303130102, 10303090105, 10303300105, 10303120202, 10303130104,\n",
       "       10303300401, 10303120302, 10303180201, 10303030204, 10303300405,\n",
       "       10303310102, 10303110102, 10303090205, 10303140205, 10303220101,\n",
       "       10303330301, 10303030305, 10303030309, 10303140201, 10303040102,\n",
       "       10303110101, 10303310101, 10303010504, 10303140302, 10303030306,\n",
       "       10303030405, 10303030404, 10303080401, 10303160301, 10303030601,\n",
       "       10303080303, 10303010301, 10303190701, 10303090102, 10303300102,\n",
       "       10303180102, 10303050501, 10303170501, 10303090301, 10303240301,\n",
       "       10303050101, 10303300205, 10303010501, 10303220201, 10303040101,\n",
       "       10303050102, 10303050502, 10303090209, 10303300207, 10303010502,\n",
       "       10303050302, 10303300201, 10303120101, 10303120103, 10303260102,\n",
       "       10303340403, 10303030401, 10303150207, 10303340302, 10303340303,\n",
       "       10303030201, 10303180105, 10303340202, 10303010101, 10303140104,\n",
       "       10303140303, 10303010102, 10303020202, 10303140202, 10303010701,\n",
       "       10303100201, 10303310302, 10303230201, 10303230502, 10303030313,\n",
       "       10303030702, 10303030402, 10303230102, 10303310307, 10303010503,\n",
       "       10303010201, 10303090208, 10303300206, 10303120201, 10303090203,\n",
       "       10303030603, 10303080302, 10303300403, 10303110103, 10303310103,\n",
       "       10303140203, 10303310306, 10303140301, 10303270101, 10303140101,\n",
       "       10303030310, 10303150206, 10303090106, 10303300106, 10303340402,\n",
       "       10303310304, 10303080101, 10303250201, 10303080404, 10303270203,\n",
       "       10303190801, 10303150205, 10303080301, 10303340101, 10303140206,\n",
       "       10303070403, 10303120303, 10303100401, 10303310303, 10303300204,\n",
       "       10303030312, 10303030302, 10303010103, 10303080402, 10303100101,\n",
       "       10303070405, 10303150202, 10303050201, 10303050504, 10303260104,\n",
       "       10303030311, 10303090202, 10303070101, 10303090103, 10303300103,\n",
       "       10303030314, 10303030703, 10303150201, 10303140102, 10303140401,\n",
       "       10303010801, 10303080304, 10303010202, 10303070502, 10303320104,\n",
       "       10303330401, 10303090206, 10303020401, 10303030308, 10303120102,\n",
       "       10303300209, 10303080305, 10303140103, 10303140402, 10303340301,\n",
       "       10303030602, 10303080403, 10303080306, 10303070501, 10303300203,\n",
       "       10303310104, 10303070404, 10303120502, 10303020101, 10303260303,\n",
       "       10303070401, 10303340404, 10303090204, 10303300208, 10303030307,\n",
       "       10303150105, 10303310402, 10303030503, 10303080203, 10303060301,\n",
       "       10303290105, 10303050303, 10303080202, 10303060302, 10303290106,\n",
       "       10303150203, 10303150204, 10303160304, 10303030502, 10303020402,\n",
       "       10303090207, 10303160401,   103030801, 10303240501])"
      ]
     },
     "execution_count": 47,
     "metadata": {},
     "output_type": "execute_result"
    }
   ],
   "source": [
    "market['TYPE_ID'].unique()"
   ]
  },
  {
   "cell_type": "code",
   "execution_count": 48,
   "metadata": {
    "ExecuteTime": {
     "end_time": "2019-03-28T05:29:08.594512Z",
     "start_time": "2019-03-28T05:29:08.591166Z"
    }
   },
   "outputs": [],
   "source": [
    "drop_list=['TYPE_ID','TYPE_NAME_CN']"
   ]
  },
  {
   "cell_type": "code",
   "execution_count": 49,
   "metadata": {
    "ExecuteTime": {
     "end_time": "2019-03-28T05:29:09.345162Z",
     "start_time": "2019-03-28T05:29:09.317837Z"
    }
   },
   "outputs": [],
   "source": [
    "drop_multiple_col(drop_list,market)"
   ]
  },
  {
   "cell_type": "code",
   "execution_count": 53,
   "metadata": {
    "ExecuteTime": {
     "end_time": "2019-03-28T05:35:20.158935Z",
     "start_time": "2019-03-28T05:35:20.104334Z"
    }
   },
   "outputs": [
    {
     "data": {
      "text/plain": [
       "TYPE_NAME_EN      0\n",
       "MARKET_VALUE      0\n",
       "TURNOVER_VALUE    0\n",
       "TURNOVER_VOL      0\n",
       "CLOSE_PRICE       0\n",
       "END_DATE_         0\n",
       "TICKER_SYMBOL     0\n",
       "SECURITY_ID       0\n",
       "dtype: int64"
      ]
     },
     "execution_count": 53,
     "metadata": {},
     "output_type": "execute_result"
    }
   ],
   "source": [
    "check_missing(market)"
   ]
  },
  {
   "cell_type": "code",
   "execution_count": 51,
   "metadata": {
    "ExecuteTime": {
     "end_time": "2019-03-28T05:29:16.111431Z",
     "start_time": "2019-03-28T05:29:16.108067Z"
    }
   },
   "outputs": [],
   "source": [
    "from sklearn.preprocessing import LabelEncoder"
   ]
  },
  {
   "cell_type": "code",
   "execution_count": 52,
   "metadata": {
    "ExecuteTime": {
     "end_time": "2019-03-28T05:34:18.059639Z",
     "start_time": "2019-03-28T05:34:18.056002Z"
    }
   },
   "outputs": [],
   "source": [
    "encoder=LabelEncoder()"
   ]
  },
  {
   "cell_type": "code",
   "execution_count": 55,
   "metadata": {
    "ExecuteTime": {
     "end_time": "2019-03-28T05:38:22.498145Z",
     "start_time": "2019-03-28T05:38:22.454117Z"
    }
   },
   "outputs": [],
   "source": [
    "market_encoded=encoder.fit_transform(market['TYPE_NAME_EN'])"
   ]
  },
  {
   "cell_type": "code",
   "execution_count": null,
   "metadata": {},
   "outputs": [],
   "source": []
  }
 ],
 "metadata": {
  "hide_input": false,
  "kernelspec": {
   "display_name": "Python 3",
   "language": "python",
   "name": "python3"
  },
  "language_info": {
   "codemirror_mode": {
    "name": "ipython",
    "version": 3
   },
   "file_extension": ".py",
   "mimetype": "text/x-python",
   "name": "python",
   "nbconvert_exporter": "python",
   "pygments_lexer": "ipython3",
   "version": "3.6.8"
  },
  "toc": {
   "base_numbering": 1,
   "nav_menu": {},
   "number_sections": true,
   "sideBar": true,
   "skip_h1_title": false,
   "title_cell": "Table of Contents",
   "title_sidebar": "Contents",
   "toc_cell": false,
   "toc_position": {},
   "toc_section_display": true,
   "toc_window_display": false
  },
  "varInspector": {
   "cols": {
    "lenName": 16,
    "lenType": 16,
    "lenVar": 40
   },
   "kernels_config": {
    "python": {
     "delete_cmd_postfix": "",
     "delete_cmd_prefix": "del ",
     "library": "var_list.py",
     "varRefreshCmd": "print(var_dic_list())"
    },
    "r": {
     "delete_cmd_postfix": ") ",
     "delete_cmd_prefix": "rm(",
     "library": "var_list.r",
     "varRefreshCmd": "cat(var_dic_list()) "
    }
   },
   "types_to_exclude": [
    "module",
    "function",
    "builtin_function_or_method",
    "instance",
    "_Feature"
   ],
   "window_display": false
  }
 },
 "nbformat": 4,
 "nbformat_minor": 2
}
